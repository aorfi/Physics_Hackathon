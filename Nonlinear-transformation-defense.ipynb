{
 "cells": [
  {
   "cell_type": "markdown",
   "metadata": {},
   "source": [
    "## Produce digits of power"
   ]
  },
  {
   "cell_type": "code",
   "execution_count": 252,
   "metadata": {},
   "outputs": [],
   "source": [
    "# Import dependencies\n",
    "import numpy as np\n",
    "import pandas as pd\n",
    "import matplotlib.pyplot as plt\n",
    "from pprint import pprint\n",
    "\n",
    "import random\n",
    "import pickle\n",
    "\n",
    "import sklearn.datasets\n",
    "import sklearn.model_selection\n",
    "\n",
    "import sklearn.neural_network"
   ]
  },
  {
   "cell_type": "code",
   "execution_count": 253,
   "metadata": {},
   "outputs": [],
   "source": [
    "from keras.datasets import mnist\n",
    "from keras.layers import Dense, Flatten\n",
    "(X, y), (x_test, y_test) = mnist.load_data()"
   ]
  },
  {
   "cell_type": "markdown",
   "metadata": {},
   "source": [
    "Preprocessing"
   ]
  },
  {
   "cell_type": "code",
   "execution_count": 254,
   "metadata": {},
   "outputs": [],
   "source": [
    "Ns = [10,12,14,16,18,20]"
   ]
  },
  {
   "cell_type": "code",
   "execution_count": 255,
   "metadata": {},
   "outputs": [],
   "source": [
    "X=X/255\n",
    "XT=x_test/255\n",
    "yT=y_test"
   ]
  },
  {
   "cell_type": "code",
   "execution_count": 256,
   "metadata": {},
   "outputs": [],
   "source": [
    "X=X.reshape(60000, 28**2)\n",
    "XT=XT.reshape(10000, 28**2)"
   ]
  },
  {
   "cell_type": "code",
   "execution_count": 257,
   "metadata": {},
   "outputs": [],
   "source": [
    "# Call MNIST and keep 3s and 7s\n",
    "#mnist = sklearn.datasets.fetch_mldata(\"MNIST original\")\n",
    "\n",
    "# Rescale the data and extract all images for two digits\n",
    "#X, y = mnist.data / 255., mnist.target\n",
    "\n",
    "index = np.where((y == 3) | (y == 7))[0]\n",
    "X0,y = X[index], y[index]\n",
    "\n",
    "Index = np.where((yT == 3) | (yT == 7))[0]\n",
    "XT,yT = XT[Index], yT[Index]\n",
    "\n",
    "X0_train1, X0_train2, y_train1, y_train2 = sklearn.model_selection.train_test_split(X0, y, test_size=0.5)"
   ]
  },
  {
   "cell_type": "markdown",
   "metadata": {},
   "source": [
    "Training"
   ]
  },
  {
   "cell_type": "code",
   "execution_count": 258,
   "metadata": {},
   "outputs": [
    {
     "name": "stdout",
     "output_type": "stream",
     "text": [
      "Iteration 1, loss = 0.68541312\n",
      "Iteration 2, loss = 0.53577560\n",
      "Iteration 3, loss = 0.44939525\n",
      "Iteration 4, loss = 0.40569086\n",
      "Iteration 5, loss = 0.37748546\n",
      "Iteration 6, loss = 0.35651733\n",
      "Iteration 7, loss = 0.33959157\n",
      "Iteration 8, loss = 0.32514813\n",
      "Iteration 9, loss = 0.31250971\n",
      "Iteration 10, loss = 0.30115191\n",
      "Iteration 11, loss = 0.29086323\n",
      "Iteration 12, loss = 0.28141328\n",
      "Iteration 13, loss = 0.27268393\n",
      "Iteration 14, loss = 0.26459546\n",
      "Iteration 15, loss = 0.25704780\n",
      "Iteration 16, loss = 0.24999617\n",
      "Iteration 17, loss = 0.24336052\n",
      "Iteration 18, loss = 0.23714605\n",
      "Iteration 19, loss = 0.23126334\n",
      "Iteration 20, loss = 0.22575366\n",
      "Iteration 21, loss = 0.22048387\n",
      "Iteration 22, loss = 0.21550662\n",
      "Iteration 23, loss = 0.21078659\n",
      "Iteration 24, loss = 0.20632043\n",
      "Iteration 25, loss = 0.20200823\n",
      "Iteration 26, loss = 0.19795028\n",
      "Iteration 27, loss = 0.19404559\n",
      "Iteration 28, loss = 0.19034589\n",
      "Iteration 29, loss = 0.18679659\n",
      "Iteration 30, loss = 0.18336530\n",
      "Iteration 31, loss = 0.18013583\n",
      "Iteration 32, loss = 0.17698822\n",
      "Iteration 33, loss = 0.17399304\n",
      "Iteration 34, loss = 0.17112026\n",
      "Iteration 35, loss = 0.16833399\n",
      "Iteration 36, loss = 0.16566085\n",
      "Iteration 37, loss = 0.16311603\n",
      "Iteration 38, loss = 0.16062784\n",
      "Iteration 39, loss = 0.15826222\n",
      "Iteration 40, loss = 0.15596408\n",
      "Iteration 41, loss = 0.15374874\n",
      "Iteration 42, loss = 0.15163449\n",
      "Iteration 43, loss = 0.14954881\n",
      "Iteration 44, loss = 0.14754630\n",
      "Iteration 45, loss = 0.14566211\n",
      "Iteration 46, loss = 0.14376274\n",
      "Iteration 47, loss = 0.14194406\n",
      "Iteration 48, loss = 0.14019017\n",
      "Iteration 49, loss = 0.13850310\n",
      "Iteration 50, loss = 0.13684741\n",
      "Iteration 51, loss = 0.13527605\n",
      "Iteration 52, loss = 0.13372484\n",
      "Iteration 53, loss = 0.13221051\n",
      "Iteration 54, loss = 0.13075637\n",
      "Iteration 55, loss = 0.12932604\n",
      "Iteration 56, loss = 0.12795852\n",
      "Iteration 57, loss = 0.12660966\n",
      "Iteration 58, loss = 0.12530263\n",
      "Iteration 59, loss = 0.12402780\n",
      "Iteration 60, loss = 0.12280105\n",
      "Iteration 61, loss = 0.12159050\n",
      "Iteration 62, loss = 0.12041986\n",
      "Iteration 63, loss = 0.11929809\n",
      "Iteration 64, loss = 0.11814572\n",
      "Iteration 65, loss = 0.11706815\n",
      "Iteration 66, loss = 0.11600588\n",
      "Iteration 67, loss = 0.11497474\n",
      "Iteration 68, loss = 0.11393044\n",
      "Iteration 69, loss = 0.11294447\n",
      "Iteration 70, loss = 0.11198395\n",
      "Iteration 71, loss = 0.11102984\n",
      "Iteration 72, loss = 0.11010004\n",
      "Iteration 73, loss = 0.10919439\n",
      "Iteration 74, loss = 0.10831654\n",
      "Iteration 75, loss = 0.10745918\n",
      "Iteration 76, loss = 0.10660532\n",
      "Iteration 77, loss = 0.10576859\n",
      "Iteration 78, loss = 0.10495699\n",
      "Iteration 79, loss = 0.10414591\n",
      "Iteration 80, loss = 0.10338527\n",
      "Iteration 81, loss = 0.10260234\n",
      "Iteration 82, loss = 0.10185131\n",
      "Iteration 83, loss = 0.10111118\n",
      "Iteration 84, loss = 0.10040082\n",
      "Iteration 85, loss = 0.09967392\n",
      "Iteration 86, loss = 0.09898088\n",
      "Iteration 87, loss = 0.09829853\n",
      "Iteration 88, loss = 0.09761975\n",
      "Iteration 89, loss = 0.09695875\n",
      "Iteration 90, loss = 0.09631018\n",
      "Iteration 91, loss = 0.09568184\n",
      "Iteration 92, loss = 0.09504286\n",
      "Iteration 93, loss = 0.09443002\n",
      "Iteration 94, loss = 0.09382915\n",
      "Iteration 95, loss = 0.09324595\n",
      "Iteration 96, loss = 0.09265511\n",
      "Iteration 97, loss = 0.09208176\n",
      "Iteration 98, loss = 0.09153330\n",
      "Iteration 99, loss = 0.09095100\n",
      "Iteration 100, loss = 0.09041244\n",
      "Iteration 101, loss = 0.08988603\n",
      "Iteration 102, loss = 0.08934353\n",
      "Iteration 103, loss = 0.08883344\n",
      "Iteration 104, loss = 0.08827373\n",
      "Iteration 105, loss = 0.08776769\n",
      "Iteration 106, loss = 0.08727645\n",
      "Iteration 107, loss = 0.08677965\n",
      "Iteration 108, loss = 0.08628032\n",
      "Iteration 109, loss = 0.08581180\n",
      "Iteration 110, loss = 0.08535138\n",
      "Iteration 111, loss = 0.08487500\n",
      "Iteration 112, loss = 0.08444770\n",
      "Iteration 113, loss = 0.08396197\n",
      "Iteration 114, loss = 0.08351430\n",
      "Iteration 115, loss = 0.08307968\n",
      "Iteration 116, loss = 0.08264859\n",
      "Iteration 117, loss = 0.08221378\n",
      "Iteration 118, loss = 0.08177893\n",
      "Iteration 119, loss = 0.08136116\n",
      "Iteration 120, loss = 0.08095686\n",
      "Iteration 121, loss = 0.08053508\n",
      "Iteration 122, loss = 0.08013422\n",
      "Iteration 123, loss = 0.07972253\n",
      "Iteration 124, loss = 0.07935577\n",
      "Iteration 125, loss = 0.07892267\n",
      "Iteration 126, loss = 0.07854620\n",
      "Iteration 127, loss = 0.07816659\n",
      "Iteration 128, loss = 0.07780547\n",
      "Iteration 129, loss = 0.07743287\n",
      "Iteration 130, loss = 0.07704572\n",
      "Iteration 131, loss = 0.07669016\n",
      "Iteration 132, loss = 0.07631671\n",
      "Iteration 133, loss = 0.07597390\n",
      "Iteration 134, loss = 0.07562398\n",
      "Iteration 135, loss = 0.07526289\n",
      "Iteration 136, loss = 0.07493375\n",
      "Iteration 137, loss = 0.07459392\n",
      "Iteration 138, loss = 0.07426363\n",
      "Iteration 139, loss = 0.07392224\n",
      "Iteration 140, loss = 0.07359743\n",
      "Iteration 141, loss = 0.07325425\n",
      "Iteration 142, loss = 0.07296168\n",
      "Iteration 143, loss = 0.07262532\n",
      "Iteration 144, loss = 0.07230659\n",
      "Iteration 145, loss = 0.07200792\n",
      "Iteration 146, loss = 0.07170782\n",
      "Iteration 147, loss = 0.07142906\n",
      "Iteration 148, loss = 0.07109504\n",
      "Iteration 149, loss = 0.07079011\n",
      "Iteration 150, loss = 0.07050400\n",
      "Iteration 151, loss = 0.07018596\n",
      "Iteration 152, loss = 0.06989291\n",
      "Iteration 153, loss = 0.06959572\n",
      "Iteration 154, loss = 0.06933262\n",
      "Iteration 155, loss = 0.06904153\n",
      "Iteration 156, loss = 0.06874363\n",
      "Iteration 157, loss = 0.06850753\n",
      "Iteration 158, loss = 0.06820006\n",
      "Iteration 159, loss = 0.06791280\n",
      "Iteration 160, loss = 0.06765252\n",
      "Iteration 161, loss = 0.06741360\n",
      "Iteration 162, loss = 0.06709992\n",
      "Iteration 163, loss = 0.06685355\n",
      "Iteration 164, loss = 0.06655885\n",
      "Iteration 165, loss = 0.06630518\n",
      "Iteration 166, loss = 0.06604788\n",
      "Iteration 167, loss = 0.06578577\n",
      "Iteration 168, loss = 0.06552614\n",
      "Iteration 169, loss = 0.06527357\n",
      "Iteration 170, loss = 0.06507220\n",
      "Iteration 171, loss = 0.06476626\n",
      "Iteration 172, loss = 0.06453160\n",
      "Iteration 173, loss = 0.06429473\n",
      "Iteration 174, loss = 0.06404121\n",
      "Iteration 175, loss = 0.06379688\n",
      "Iteration 176, loss = 0.06356061\n",
      "Iteration 177, loss = 0.06331171\n",
      "Iteration 178, loss = 0.06308384\n",
      "Iteration 179, loss = 0.06284097\n",
      "Iteration 180, loss = 0.06262508\n",
      "Iteration 181, loss = 0.06238103\n",
      "Iteration 182, loss = 0.06215030\n",
      "Iteration 183, loss = 0.06193011\n",
      "Iteration 184, loss = 0.06170510\n",
      "Iteration 185, loss = 0.06146766\n",
      "Iteration 186, loss = 0.06126543\n",
      "Iteration 187, loss = 0.06103245\n",
      "Iteration 188, loss = 0.06082013\n",
      "Iteration 189, loss = 0.06059544\n",
      "Iteration 190, loss = 0.06037048\n",
      "Iteration 191, loss = 0.06016704\n",
      "Iteration 192, loss = 0.05995469\n",
      "Iteration 193, loss = 0.05974090\n",
      "Iteration 194, loss = 0.05956197\n",
      "Iteration 195, loss = 0.05932236\n",
      "Iteration 196, loss = 0.05916238\n",
      "Iteration 197, loss = 0.05893199\n",
      "Iteration 198, loss = 0.05872432\n",
      "Iteration 199, loss = 0.05852875\n",
      "Iteration 200, loss = 0.05832121\n",
      "Iteration 201, loss = 0.05813848\n",
      "Iteration 202, loss = 0.05792831\n",
      "Iteration 203, loss = 0.05773445\n",
      "Iteration 204, loss = 0.05754993\n",
      "Iteration 205, loss = 0.05735040\n",
      "Iteration 206, loss = 0.05716573\n",
      "Iteration 207, loss = 0.05697741\n",
      "Iteration 208, loss = 0.05678940\n",
      "Iteration 209, loss = 0.05660882\n",
      "Iteration 210, loss = 0.05641793\n",
      "Iteration 211, loss = 0.05622658\n",
      "Iteration 212, loss = 0.05608225\n",
      "Iteration 213, loss = 0.05587332\n",
      "Iteration 214, loss = 0.05567908\n",
      "Iteration 215, loss = 0.05550027\n",
      "Iteration 216, loss = 0.05532259\n",
      "Iteration 217, loss = 0.05514778\n",
      "Iteration 218, loss = 0.05497670\n",
      "Iteration 219, loss = 0.05482214\n",
      "Iteration 220, loss = 0.05463195\n",
      "Iteration 221, loss = 0.05444516\n",
      "Iteration 222, loss = 0.05429404\n",
      "Iteration 223, loss = 0.05410550\n",
      "Iteration 224, loss = 0.05395393\n",
      "Iteration 225, loss = 0.05375660\n",
      "Iteration 226, loss = 0.05359217\n",
      "Iteration 227, loss = 0.05344253\n",
      "Iteration 228, loss = 0.05328823\n",
      "Iteration 229, loss = 0.05312795\n",
      "Iteration 230, loss = 0.05296101\n",
      "Iteration 231, loss = 0.05279314\n",
      "Iteration 232, loss = 0.05263286\n",
      "Iteration 233, loss = 0.05249756\n",
      "Iteration 234, loss = 0.05230510\n",
      "Iteration 235, loss = 0.05214470\n",
      "Iteration 236, loss = 0.05200554\n",
      "Iteration 237, loss = 0.05184465\n",
      "Iteration 238, loss = 0.05168028\n",
      "Iteration 239, loss = 0.05152667\n",
      "Iteration 240, loss = 0.05137740\n",
      "Iteration 241, loss = 0.05120637\n",
      "Iteration 242, loss = 0.05106832\n",
      "Iteration 243, loss = 0.05093367\n",
      "Iteration 244, loss = 0.05076973\n",
      "Iteration 245, loss = 0.05060087\n",
      "Iteration 246, loss = 0.05044975\n",
      "Iteration 247, loss = 0.05031009\n",
      "Iteration 248, loss = 0.05015955\n",
      "Iteration 249, loss = 0.05002651\n",
      "Iteration 250, loss = 0.04988172\n",
      "Iteration 251, loss = 0.04971825\n",
      "Iteration 252, loss = 0.04956934\n",
      "Iteration 253, loss = 0.04941076\n",
      "Iteration 254, loss = 0.04927550\n",
      "Iteration 255, loss = 0.04912959\n"
     ]
    },
    {
     "name": "stdout",
     "output_type": "stream",
     "text": [
      "Iteration 256, loss = 0.04899027\n",
      "Iteration 257, loss = 0.04885523\n",
      "Iteration 258, loss = 0.04870860\n",
      "Iteration 259, loss = 0.04857240\n",
      "Iteration 260, loss = 0.04844051\n",
      "Iteration 261, loss = 0.04829386\n",
      "Iteration 262, loss = 0.04816432\n",
      "Iteration 263, loss = 0.04801669\n",
      "Iteration 264, loss = 0.04787733\n",
      "Iteration 265, loss = 0.04775583\n",
      "Iteration 266, loss = 0.04765826\n",
      "Iteration 267, loss = 0.04748637\n",
      "Iteration 268, loss = 0.04734198\n",
      "Iteration 269, loss = 0.04719824\n",
      "Iteration 270, loss = 0.04708690\n",
      "Iteration 271, loss = 0.04694742\n",
      "Iteration 272, loss = 0.04682536\n",
      "Iteration 273, loss = 0.04673551\n",
      "Iteration 274, loss = 0.04656541\n",
      "Iteration 275, loss = 0.04644075\n",
      "Iteration 276, loss = 0.04630798\n",
      "Iteration 277, loss = 0.04617923\n",
      "Iteration 278, loss = 0.04604478\n",
      "Iteration 279, loss = 0.04592386\n",
      "Iteration 280, loss = 0.04579218\n",
      "Iteration 281, loss = 0.04567971\n",
      "Iteration 282, loss = 0.04555257\n",
      "Iteration 283, loss = 0.04543510\n",
      "Iteration 284, loss = 0.04529762\n",
      "Iteration 285, loss = 0.04520423\n",
      "Iteration 286, loss = 0.04504494\n",
      "Iteration 287, loss = 0.04493486\n",
      "Iteration 288, loss = 0.04484908\n",
      "Iteration 289, loss = 0.04469119\n",
      "Iteration 290, loss = 0.04459046\n",
      "Iteration 291, loss = 0.04446704\n",
      "Iteration 292, loss = 0.04434708\n",
      "Iteration 293, loss = 0.04421124\n",
      "Iteration 294, loss = 0.04409776\n",
      "Iteration 295, loss = 0.04398367\n",
      "Iteration 296, loss = 0.04386091\n",
      "Iteration 297, loss = 0.04375854\n",
      "Iteration 298, loss = 0.04364347\n",
      "Iteration 299, loss = 0.04352801\n",
      "Iteration 300, loss = 0.04341095\n",
      "Iteration 301, loss = 0.04329045\n",
      "Iteration 302, loss = 0.04318247\n",
      "Iteration 303, loss = 0.04307625\n",
      "Iteration 304, loss = 0.04296413\n",
      "Iteration 305, loss = 0.04284700\n",
      "Iteration 306, loss = 0.04275212\n",
      "Iteration 307, loss = 0.04264231\n",
      "Iteration 308, loss = 0.04252761\n",
      "Iteration 309, loss = 0.04241456\n",
      "Iteration 310, loss = 0.04231380\n",
      "Iteration 311, loss = 0.04219639\n",
      "Iteration 312, loss = 0.04208692\n",
      "Iteration 313, loss = 0.04200903\n",
      "Iteration 314, loss = 0.04188010\n",
      "Iteration 315, loss = 0.04176866\n",
      "Iteration 316, loss = 0.04167564\n",
      "Iteration 317, loss = 0.04158387\n",
      "Iteration 318, loss = 0.04144710\n",
      "Iteration 319, loss = 0.04135025\n",
      "Iteration 320, loss = 0.04126108\n",
      "Iteration 321, loss = 0.04114776\n",
      "Iteration 322, loss = 0.04105135\n",
      "Iteration 323, loss = 0.04093853\n",
      "Iteration 324, loss = 0.04084254\n",
      "Iteration 325, loss = 0.04074821\n",
      "Iteration 326, loss = 0.04063366\n",
      "Iteration 327, loss = 0.04053174\n",
      "Iteration 328, loss = 0.04044076\n",
      "Iteration 329, loss = 0.04032916\n",
      "Iteration 330, loss = 0.04023122\n",
      "Iteration 331, loss = 0.04013914\n",
      "Iteration 332, loss = 0.04004182\n",
      "Training loss did not improve more than tol=0.000100 for two consecutive epochs. Setting learning rate to 0.000200\n",
      "Iteration 333, loss = 0.03993693\n",
      "Iteration 334, loss = 0.03990846\n",
      "Iteration 335, loss = 0.03988867\n",
      "Iteration 336, loss = 0.03986961\n",
      "Training loss did not improve more than tol=0.000100 for two consecutive epochs. Setting learning rate to 0.000040\n",
      "Iteration 337, loss = 0.03984786\n",
      "Iteration 338, loss = 0.03984259\n",
      "Iteration 339, loss = 0.03983924\n",
      "Training loss did not improve more than tol=0.000100 for two consecutive epochs. Setting learning rate to 0.000008\n",
      "Iteration 340, loss = 0.03983479\n",
      "Iteration 341, loss = 0.03983393\n",
      "Iteration 342, loss = 0.03983310\n",
      "Training loss did not improve more than tol=0.000100 for two consecutive epochs. Setting learning rate to 0.000002\n",
      "Iteration 343, loss = 0.03983222\n",
      "Iteration 344, loss = 0.03983202\n",
      "Iteration 345, loss = 0.03983185\n",
      "Training loss did not improve more than tol=0.000100 for two consecutive epochs. Setting learning rate to 0.000000\n",
      "Iteration 346, loss = 0.03983171\n",
      "Iteration 347, loss = 0.03983164\n",
      "Iteration 348, loss = 0.03983164\n",
      "Training loss did not improve more than tol=0.000100 for two consecutive epochs. Learning rate too small. Stopping.\n"
     ]
    },
    {
     "data": {
      "text/plain": [
       "MLPClassifier(activation='relu', alpha=0.0001, batch_size='auto', beta_1=0.9,\n",
       "       beta_2=0.999, early_stopping=False, epsilon=1e-08,\n",
       "       hidden_layer_sizes=(4,), learning_rate='adaptive',\n",
       "       learning_rate_init=0.001, max_iter=500, momentum=0.9,\n",
       "       nesterovs_momentum=True, power_t=0.5, random_state=5, shuffle=True,\n",
       "       solver='sgd', tol=0.0001, validation_fraction=0.1, verbose=1,\n",
       "       warm_start=False)"
      ]
     },
     "execution_count": 258,
     "metadata": {},
     "output_type": "execute_result"
    }
   ],
   "source": [
    "small_neural = sklearn.neural_network.MLPClassifier(activation = \"relu\", hidden_layer_sizes=(4,), max_iter = 500, solver='sgd', random_state=5, learning_rate = 'adaptive',verbose = 1)\n",
    "small_neural.fit(X0_train1,y_train1)\n"
   ]
  },
  {
   "cell_type": "code",
   "execution_count": 259,
   "metadata": {},
   "outputs": [],
   "source": [
    "def hill(x,n,theta):\n",
    "#     return x**n\n",
    "    return x**n/(x**n + theta**n)"
   ]
  },
  {
   "cell_type": "code",
   "execution_count": 260,
   "metadata": {},
   "outputs": [],
   "source": [
    "theta = 0.5\n",
    "middle = np.zeros((len(Ns),len(X0_train2)))\n",
    "for idx_N,N in enumerate(Ns):\n",
    "    X = hill(X0_train2,N,theta)\n",
    "    middle[idx_N]=small_neural.predict(X)"
   ]
  },
  {
   "cell_type": "code",
   "execution_count": 261,
   "metadata": {},
   "outputs": [],
   "source": [
    "middle=np.transpose(middle)"
   ]
  },
  {
   "cell_type": "markdown",
   "metadata": {
    "scrolled": false
   },
   "source": [
    "master training"
   ]
  },
  {
   "cell_type": "code",
   "execution_count": null,
   "metadata": {},
   "outputs": [
    {
     "name": "stdout",
     "output_type": "stream",
     "text": [
      "Iteration 1, loss = 0.73619562\n",
      "Iteration 2, loss = 0.69065154\n",
      "Iteration 3, loss = 0.67967535\n",
      "Iteration 4, loss = 0.66663165\n",
      "Iteration 5, loss = 0.64696989\n",
      "Iteration 6, loss = 0.63891733\n",
      "Iteration 7, loss = 0.63582994\n",
      "Iteration 8, loss = 0.63330591\n",
      "Iteration 9, loss = 0.63090694\n",
      "Iteration 10, loss = 0.62857559\n",
      "Iteration 11, loss = 0.62631527\n",
      "Iteration 12, loss = 0.62407103\n",
      "Iteration 13, loss = 0.62187739\n",
      "Iteration 14, loss = 0.61966153\n",
      "Iteration 15, loss = 0.61745975\n",
      "Iteration 16, loss = 0.61527359\n",
      "Iteration 17, loss = 0.61309793\n",
      "Iteration 18, loss = 0.61090161\n",
      "Iteration 19, loss = 0.60874349\n",
      "Iteration 20, loss = 0.60652451\n",
      "Iteration 21, loss = 0.60432527\n",
      "Iteration 22, loss = 0.60212148\n",
      "Iteration 23, loss = 0.59990186\n",
      "Iteration 24, loss = 0.59769070\n",
      "Iteration 25, loss = 0.59545594\n",
      "Iteration 26, loss = 0.59324350\n",
      "Iteration 27, loss = 0.59095376\n",
      "Iteration 28, loss = 0.58870101\n",
      "Iteration 29, loss = 0.58640909\n",
      "Iteration 30, loss = 0.58411125\n",
      "Iteration 31, loss = 0.58182271\n",
      "Iteration 32, loss = 0.57950738\n",
      "Iteration 33, loss = 0.57715322\n",
      "Iteration 34, loss = 0.57481867\n",
      "Iteration 35, loss = 0.57245675\n",
      "Iteration 36, loss = 0.57008791\n",
      "Iteration 37, loss = 0.56768564\n",
      "Iteration 38, loss = 0.56530602\n",
      "Iteration 39, loss = 0.56286608\n",
      "Iteration 40, loss = 0.56044441\n",
      "Iteration 41, loss = 0.55798625\n",
      "Iteration 42, loss = 0.55551557\n",
      "Iteration 43, loss = 0.55303120\n",
      "Iteration 44, loss = 0.55053975\n",
      "Iteration 45, loss = 0.54803849\n",
      "Iteration 46, loss = 0.54549890\n",
      "Iteration 47, loss = 0.54294766\n",
      "Iteration 48, loss = 0.54039340\n",
      "Iteration 49, loss = 0.53781494\n",
      "Iteration 50, loss = 0.53524002\n",
      "Iteration 51, loss = 0.53262774\n",
      "Iteration 52, loss = 0.52998812\n",
      "Iteration 53, loss = 0.52739513\n",
      "Iteration 54, loss = 0.52469101\n",
      "Iteration 55, loss = 0.52199685\n",
      "Iteration 56, loss = 0.51931912\n",
      "Iteration 57, loss = 0.51660359\n",
      "Iteration 58, loss = 0.51386071\n",
      "Iteration 59, loss = 0.51113736\n",
      "Iteration 60, loss = 0.50839715\n",
      "Iteration 61, loss = 0.50557836\n",
      "Iteration 62, loss = 0.50281219\n",
      "Iteration 63, loss = 0.50001611\n",
      "Iteration 64, loss = 0.49718057\n",
      "Iteration 65, loss = 0.49433483\n",
      "Iteration 66, loss = 0.49148732\n",
      "Iteration 67, loss = 0.48864058\n",
      "Iteration 68, loss = 0.48573530\n",
      "Iteration 69, loss = 0.48284131\n",
      "Iteration 70, loss = 0.47991238\n",
      "Iteration 71, loss = 0.47699523\n",
      "Iteration 72, loss = 0.47406408\n",
      "Iteration 73, loss = 0.47109986\n",
      "Iteration 74, loss = 0.46817303\n",
      "Iteration 75, loss = 0.46519393\n",
      "Iteration 76, loss = 0.46224580\n",
      "Iteration 77, loss = 0.45918797\n",
      "Iteration 78, loss = 0.45616596\n",
      "Iteration 79, loss = 0.45314618\n",
      "Iteration 80, loss = 0.45017025\n",
      "Iteration 81, loss = 0.44712236\n",
      "Iteration 82, loss = 0.44403027\n",
      "Iteration 83, loss = 0.44096631\n",
      "Iteration 84, loss = 0.43793083\n",
      "Iteration 85, loss = 0.43482568\n",
      "Iteration 86, loss = 0.43175814\n",
      "Iteration 87, loss = 0.42866895\n",
      "Iteration 88, loss = 0.42565920\n",
      "Iteration 89, loss = 0.42247452\n",
      "Iteration 90, loss = 0.41936173\n",
      "Iteration 91, loss = 0.41625220\n",
      "Iteration 92, loss = 0.41312793\n",
      "Iteration 93, loss = 0.41002624\n",
      "Iteration 94, loss = 0.40692395\n",
      "Iteration 95, loss = 0.40380508\n",
      "Iteration 96, loss = 0.40073936\n",
      "Iteration 97, loss = 0.39758017\n",
      "Iteration 98, loss = 0.39447171\n",
      "Iteration 99, loss = 0.39132525\n",
      "Iteration 100, loss = 0.38822746\n",
      "Iteration 101, loss = 0.38508242\n",
      "Iteration 102, loss = 0.38198330\n",
      "Iteration 103, loss = 0.37888878\n",
      "Iteration 104, loss = 0.37579456\n",
      "Iteration 105, loss = 0.37263747\n",
      "Iteration 106, loss = 0.36956742\n",
      "Iteration 107, loss = 0.36647680\n",
      "Iteration 108, loss = 0.36341919\n",
      "Iteration 109, loss = 0.36033695\n",
      "Iteration 110, loss = 0.35726159\n",
      "Iteration 111, loss = 0.35420774\n",
      "Iteration 112, loss = 0.35116067\n",
      "Iteration 113, loss = 0.34816202\n",
      "Iteration 114, loss = 0.34509155\n",
      "Iteration 115, loss = 0.34209942\n",
      "Iteration 116, loss = 0.33908335\n",
      "Iteration 117, loss = 0.33607740\n",
      "Iteration 118, loss = 0.33306722\n",
      "Iteration 119, loss = 0.33010144\n",
      "Iteration 120, loss = 0.32714938\n",
      "Iteration 121, loss = 0.32420470\n",
      "Iteration 122, loss = 0.32128069\n",
      "Iteration 123, loss = 0.31838235\n",
      "Iteration 124, loss = 0.31546288\n",
      "Iteration 125, loss = 0.31257666\n",
      "Iteration 126, loss = 0.30973538\n",
      "Iteration 127, loss = 0.30690914\n",
      "Iteration 128, loss = 0.30405983\n",
      "Iteration 129, loss = 0.30122259\n",
      "Iteration 130, loss = 0.29843551\n",
      "Iteration 131, loss = 0.29566892\n",
      "Iteration 132, loss = 0.29291910\n",
      "Iteration 133, loss = 0.29019441\n",
      "Iteration 134, loss = 0.28747235\n",
      "Iteration 135, loss = 0.28478872\n",
      "Iteration 136, loss = 0.28215249\n",
      "Iteration 137, loss = 0.27953699\n",
      "Iteration 138, loss = 0.27687876\n",
      "Iteration 139, loss = 0.27428685\n",
      "Iteration 140, loss = 0.27174925\n",
      "Iteration 141, loss = 0.26930036\n",
      "Iteration 142, loss = 0.26672061\n",
      "Iteration 143, loss = 0.26426701\n",
      "Iteration 144, loss = 0.26180914\n",
      "Iteration 145, loss = 0.25943396\n",
      "Iteration 146, loss = 0.25705220\n",
      "Iteration 147, loss = 0.25470222\n",
      "Iteration 148, loss = 0.25236566\n",
      "Iteration 149, loss = 0.25010533\n",
      "Iteration 150, loss = 0.24783231\n",
      "Iteration 151, loss = 0.24558187\n",
      "Iteration 152, loss = 0.24338413\n",
      "Iteration 153, loss = 0.24122901\n",
      "Iteration 154, loss = 0.23906371\n",
      "Iteration 155, loss = 0.23693833\n",
      "Iteration 156, loss = 0.23485149\n",
      "Iteration 157, loss = 0.23277806\n",
      "Iteration 158, loss = 0.23073463\n",
      "Iteration 159, loss = 0.22872863\n",
      "Iteration 160, loss = 0.22671249\n",
      "Iteration 161, loss = 0.22473668\n",
      "Iteration 162, loss = 0.22280800\n",
      "Iteration 163, loss = 0.22089387\n",
      "Iteration 164, loss = 0.21898669\n",
      "Iteration 165, loss = 0.21711843\n",
      "Iteration 166, loss = 0.21530469\n",
      "Iteration 167, loss = 0.21349060\n",
      "Iteration 168, loss = 0.21167331\n",
      "Iteration 169, loss = 0.20988736\n",
      "Iteration 170, loss = 0.20814497\n",
      "Iteration 171, loss = 0.20642658\n",
      "Iteration 172, loss = 0.20471847\n",
      "Iteration 173, loss = 0.20302617\n",
      "Iteration 174, loss = 0.20138234\n",
      "Iteration 175, loss = 0.19975587\n",
      "Iteration 176, loss = 0.19815927\n",
      "Iteration 177, loss = 0.19653827\n",
      "Iteration 178, loss = 0.19497095\n",
      "Iteration 179, loss = 0.19345890\n",
      "Iteration 180, loss = 0.19189316\n",
      "Iteration 181, loss = 0.19041390\n",
      "Iteration 182, loss = 0.18890566\n",
      "Iteration 183, loss = 0.18744376\n",
      "Iteration 184, loss = 0.18600220\n",
      "Iteration 185, loss = 0.18456248\n",
      "Iteration 186, loss = 0.18316543\n",
      "Iteration 187, loss = 0.18183637\n",
      "Iteration 188, loss = 0.18047367\n",
      "Iteration 189, loss = 0.17911120\n",
      "Iteration 190, loss = 0.17776442\n",
      "Iteration 191, loss = 0.17644375\n",
      "Iteration 192, loss = 0.17515236\n",
      "Iteration 193, loss = 0.17387655\n",
      "Iteration 194, loss = 0.17262060\n",
      "Iteration 195, loss = 0.17138800\n",
      "Iteration 196, loss = 0.17017439\n",
      "Iteration 197, loss = 0.16897123\n",
      "Iteration 198, loss = 0.16777337\n",
      "Iteration 199, loss = 0.16661673\n",
      "Iteration 200, loss = 0.16545123\n",
      "Iteration 201, loss = 0.16430831\n",
      "Iteration 202, loss = 0.16319710\n",
      "Iteration 203, loss = 0.16210452\n",
      "Iteration 204, loss = 0.16100765\n",
      "Iteration 205, loss = 0.15994372\n",
      "Iteration 206, loss = 0.15887660\n",
      "Iteration 207, loss = 0.15783100\n",
      "Iteration 208, loss = 0.15680285\n",
      "Iteration 209, loss = 0.15579710\n",
      "Iteration 210, loss = 0.15479422\n",
      "Iteration 211, loss = 0.15380340\n",
      "Iteration 212, loss = 0.15283994\n",
      "Iteration 213, loss = 0.15187494\n",
      "Iteration 214, loss = 0.15094381\n",
      "Iteration 215, loss = 0.15000161\n",
      "Iteration 216, loss = 0.14908403\n",
      "Iteration 217, loss = 0.14821482\n",
      "Iteration 218, loss = 0.14728856\n",
      "Iteration 219, loss = 0.14640644\n",
      "Iteration 220, loss = 0.14554715\n",
      "Iteration 221, loss = 0.14469008\n",
      "Iteration 222, loss = 0.14385788\n",
      "Iteration 223, loss = 0.14302167\n",
      "Iteration 224, loss = 0.14220097\n",
      "Iteration 225, loss = 0.14138864\n",
      "Iteration 226, loss = 0.14058586\n",
      "Iteration 227, loss = 0.13979903\n",
      "Iteration 228, loss = 0.13905787\n",
      "Iteration 229, loss = 0.13826406\n",
      "Iteration 230, loss = 0.13752565\n",
      "Iteration 231, loss = 0.13677971\n",
      "Iteration 232, loss = 0.13606094\n",
      "Iteration 233, loss = 0.13533911\n",
      "Iteration 234, loss = 0.13462108\n",
      "Iteration 235, loss = 0.13389263\n",
      "Iteration 236, loss = 0.13319944\n",
      "Iteration 237, loss = 0.13251066\n",
      "Iteration 238, loss = 0.13182798\n",
      "Iteration 239, loss = 0.13117561\n",
      "Iteration 240, loss = 0.13050915\n",
      "Iteration 241, loss = 0.12986200\n",
      "Iteration 242, loss = 0.12922783\n",
      "Iteration 243, loss = 0.12858623\n",
      "Iteration 244, loss = 0.12797810\n",
      "Iteration 245, loss = 0.12739000\n",
      "Iteration 246, loss = 0.12677351\n",
      "Iteration 247, loss = 0.12617494\n",
      "Iteration 248, loss = 0.12557540\n",
      "Iteration 249, loss = 0.12499047\n",
      "Iteration 250, loss = 0.12441254\n",
      "Iteration 251, loss = 0.12385065\n",
      "Iteration 252, loss = 0.12330719\n",
      "Iteration 253, loss = 0.12273035\n",
      "Iteration 254, loss = 0.12222173\n",
      "Iteration 255, loss = 0.12169518\n",
      "Iteration 256, loss = 0.12113719\n"
     ]
    },
    {
     "name": "stdout",
     "output_type": "stream",
     "text": [
      "Iteration 257, loss = 0.12061926\n",
      "Iteration 258, loss = 0.12008557\n",
      "Iteration 259, loss = 0.11958641\n",
      "Iteration 260, loss = 0.11909899\n",
      "Iteration 261, loss = 0.11859854\n",
      "Iteration 262, loss = 0.11811809\n",
      "Iteration 263, loss = 0.11764076\n",
      "Iteration 264, loss = 0.11713874\n",
      "Iteration 265, loss = 0.11667168\n",
      "Iteration 266, loss = 0.11622697\n",
      "Iteration 267, loss = 0.11574934\n",
      "Iteration 268, loss = 0.11535044\n",
      "Iteration 269, loss = 0.11488764\n",
      "Iteration 270, loss = 0.11440563\n",
      "Iteration 271, loss = 0.11397476\n",
      "Iteration 272, loss = 0.11353707\n",
      "Iteration 273, loss = 0.11310892\n",
      "Iteration 274, loss = 0.11269045\n",
      "Iteration 275, loss = 0.11229706\n",
      "Iteration 276, loss = 0.11186601\n",
      "Iteration 277, loss = 0.11147876\n",
      "Iteration 278, loss = 0.11108145\n",
      "Iteration 279, loss = 0.11066768\n",
      "Iteration 280, loss = 0.11028526\n",
      "Iteration 281, loss = 0.10988685\n",
      "Iteration 282, loss = 0.10952792\n",
      "Iteration 283, loss = 0.10913519\n",
      "Iteration 284, loss = 0.10877260\n",
      "Iteration 285, loss = 0.10840269\n",
      "Iteration 286, loss = 0.10804028\n",
      "Iteration 287, loss = 0.10769287\n",
      "Iteration 288, loss = 0.10733749\n",
      "Iteration 289, loss = 0.10698348\n",
      "Iteration 290, loss = 0.10666192\n",
      "Iteration 291, loss = 0.10630548\n",
      "Iteration 292, loss = 0.10596717\n",
      "Iteration 293, loss = 0.10564223\n",
      "Iteration 294, loss = 0.10531252\n",
      "Iteration 295, loss = 0.10499418\n",
      "Iteration 296, loss = 0.10466978\n",
      "Iteration 297, loss = 0.10435138\n",
      "Iteration 298, loss = 0.10403627\n",
      "Iteration 299, loss = 0.10374000\n",
      "Iteration 300, loss = 0.10342091\n",
      "Iteration 301, loss = 0.10312782\n",
      "Iteration 302, loss = 0.10282835\n",
      "Iteration 303, loss = 0.10254087\n",
      "Iteration 304, loss = 0.10224666\n",
      "Iteration 305, loss = 0.10195329\n",
      "Iteration 306, loss = 0.10168457\n",
      "Iteration 307, loss = 0.10139709\n",
      "Iteration 308, loss = 0.10110912\n",
      "Iteration 309, loss = 0.10083428\n",
      "Iteration 310, loss = 0.10057064\n",
      "Iteration 311, loss = 0.10029280\n",
      "Iteration 312, loss = 0.10002987\n",
      "Iteration 313, loss = 0.09977420\n",
      "Iteration 314, loss = 0.09953477\n",
      "Iteration 315, loss = 0.09926540\n",
      "Iteration 316, loss = 0.09900388\n",
      "Iteration 317, loss = 0.09874532\n",
      "Iteration 318, loss = 0.09850884\n",
      "Iteration 319, loss = 0.09826799\n",
      "Iteration 320, loss = 0.09801709\n",
      "Iteration 321, loss = 0.09780040\n",
      "Iteration 322, loss = 0.09753916\n",
      "Iteration 323, loss = 0.09730110\n",
      "Iteration 324, loss = 0.09707900\n",
      "Iteration 325, loss = 0.09684580\n",
      "Iteration 326, loss = 0.09661246\n",
      "Iteration 327, loss = 0.09639681\n",
      "Iteration 328, loss = 0.09618161\n",
      "Iteration 329, loss = 0.09595808\n",
      "Iteration 330, loss = 0.09574648\n",
      "Iteration 331, loss = 0.09552722\n",
      "Iteration 332, loss = 0.09532135\n",
      "Iteration 333, loss = 0.09511442\n",
      "Iteration 334, loss = 0.09489638\n",
      "Iteration 335, loss = 0.09470182\n",
      "Iteration 336, loss = 0.09449276\n",
      "Iteration 337, loss = 0.09429043\n",
      "Iteration 338, loss = 0.09408924\n",
      "Iteration 339, loss = 0.09388576\n",
      "Iteration 340, loss = 0.09369780"
     ]
    }
   ],
   "source": [
    "master_neural = sklearn.neural_network.MLPClassifier(activation = \"logistic\", hidden_layer_sizes=(5,), max_iter = 500, solver='sgd', random_state=5, learning_rate = 'adaptive',verbose = 1)\n",
    "master_neural.fit(middle,y_train2)"
   ]
  },
  {
   "cell_type": "markdown",
   "metadata": {},
   "source": [
    "Testing"
   ]
  },
  {
   "cell_type": "code",
   "execution_count": null,
   "metadata": {},
   "outputs": [],
   "source": [
    "def adv_per3(X,eps,delta):\n",
    "    return X - eps*np.sign(delta)\n",
    "def adv_per7(X,eps,delta):\n",
    "    return X + eps*np.sign(delta)\n",
    "delta = X0[y == 3].mean(axis=0) - X0[y == 7].mean(axis=0)"
   ]
  },
  {
   "cell_type": "code",
   "execution_count": null,
   "metadata": {},
   "outputs": [],
   "source": [
    "XT_perturbed = np.zeros(XT.shape)\n",
    "theta = 0.5\n",
    "middle = np.zeros((len(Ns),len(XT)))\n",
    "epsilon = np.arange(0,0.5,0.01)\n",
    "Thomas = np.zeros((len(Ns),len(epsilon)))\n",
    "score = []\n",
    "for idx_eps,eps in enumerate(epsilon):\n",
    "    XT_perturbed[yT == 3] = adv_per3(XT[yT == 3],eps,delta)\n",
    "    XT_perturbed[yT == 7] = adv_per7(XT[yT == 7],eps,delta)\n",
    "    for idx_N,N in enumerate(Ns):\n",
    "        X = hill(XT_perturbed,N,theta)\n",
    "        middle[idx_N]=small_neural.predict(X)\n",
    "        Thomas[idx_N][idx_eps]=small_neural.score(X,yT)\n",
    "    \n",
    "    middleT=np.transpose(middle)\n",
    "    score.append(master_neural.score(middleT,yT))\n"
   ]
  },
  {
   "cell_type": "code",
   "execution_count": null,
   "metadata": {},
   "outputs": [],
   "source": [
    "fig,ax = plt.subplots()\n",
    "ax.plot(epsilon,score)\n",
    "ax.plot(epsilon,Thomas[len(Thomas)-1])\n",
    "ax.set_title(r\"Even powers; $\\theta$ = %.1f\"%theta)\n",
    "ax.set_xlabel(\"Epsilon\")\n",
    "ax.set_ylabel(\"Accuracy\")\n",
    "plt.legend(['ours','Thomas'], title = \"       N\")\n",
    "#plt.savefig(\"../Figures/Even-powers.png\")"
   ]
  },
  {
   "cell_type": "code",
   "execution_count": null,
   "metadata": {},
   "outputs": [],
   "source": [
    "final = True\n",
    "for i in range(len(score)):\n",
    "    if (score[i]<0.8 and final):\n",
    "        print(epsilon[i])\n",
    "        final = False\n",
    "final = True\n",
    "for i in range(len(Thomas[len(Thomas)-1])):\n",
    "    if (Thomas[len(Thomas)-1][i]<0.8 and final):\n",
    "        print(epsilon[i])\n",
    "        final = False"
   ]
  },
  {
   "cell_type": "code",
   "execution_count": null,
   "metadata": {},
   "outputs": [],
   "source": []
  },
  {
   "cell_type": "code",
   "execution_count": null,
   "metadata": {
    "scrolled": true
   },
   "outputs": [],
   "source": [
    "X0_adv_test = np.zeros(X0_test.shape)\n",
    "theta = 0.5\n",
    "epsilon = np.arange(0,0.5,0.01)\n",
    "Ns = np.arange(11)\n",
    "score = np.zeros((len(Ns),len(epsilon)))\n",
    "for idx_eps,eps in enumerate(epsilon):\n",
    "    X0_adv_test[y_test == 3] = adv_per3(X0_test[y_test == 3],eps,delta)\n",
    "    X0_adv_test[y_test == 7] = adv_per7(X0_test[y_test == 7],eps,delta)\n",
    "    for idx_N,N in enumerate(Ns):\n",
    "        X1_adv_test = hill(X0_adv_test,N,theta)\n",
    "        score[idx_N,idx_eps]=mlp_orig.score(X1_adv_test,y_test)"
   ]
  },
  {
   "cell_type": "code",
   "execution_count": null,
   "metadata": {
    "scrolled": true
   },
   "outputs": [],
   "source": [
    "fig,ax = plt.subplots()\n",
    "for line in score[range(2,12,2),:]:\n",
    "    ax.plot(epsilon,line)\n",
    "    ax.set_title(r\"Even powers; $\\theta$ = %.1f\"%theta)\n",
    "    ax.set_xlabel(\"Epsilon\")\n",
    "    ax.set_ylabel(\"Accuracy\")\n",
    "    plt.legend([2,4,6,8,10], title = \"       N\")\n",
    "    #plt.savefig(\"../Figures/Even-powers.png\")\n",
    "    \n",
    "fig,ax = plt.subplots()\n",
    "for line in score[range(1,11,2),:]:\n",
    "    ax.plot(epsilon,line)\n",
    "    ax.set_title(r\"Odd powers; $\\theta$ = %.1f\"%theta)\n",
    "    ax.set_xlabel(\"Epsilon\")\n",
    "    ax.set_ylabel(\"Accuracy\")\n",
    "    plt.legend(range(1,11,2), title = \"        N\")\n",
    "    #plt.savefig(\"../Figures/Odd-powers.png\")\n",
    "\n",
    "plt.show()"
   ]
  },
  {
   "cell_type": "code",
   "execution_count": null,
   "metadata": {},
   "outputs": [],
   "source": [
    "score_naive = np.zeros((len(epsilon),1))\n",
    "for idx_eps,eps in enumerate(epsilon):\n",
    "    X0_adv_test[y_test == 3] = adv_per3(X0_test[y_test == 3],eps,delta)\n",
    "    X0_adv_test[y_test == 7] = adv_per7(X0_test[y_test == 7],eps,delta)\n",
    "    score_naive[idx_eps]=mlp_orig.score(X0_adv_test,y_test)"
   ]
  },
  {
   "cell_type": "code",
   "execution_count": null,
   "metadata": {},
   "outputs": [],
   "source": [
    "for line in score_naive.T:\n",
    "    plt.plot(epsilon,line)\n",
    "    plt.title(\"Naive adversarial perturbation\")\n",
    "    plt.legend([\"No transformation\"])\n",
    "plt.show()"
   ]
  },
  {
   "cell_type": "code",
   "execution_count": null,
   "metadata": {},
   "outputs": [],
   "source": []
  },
  {
   "cell_type": "code",
   "execution_count": null,
   "metadata": {},
   "outputs": [],
   "source": []
  },
  {
   "cell_type": "code",
   "execution_count": null,
   "metadata": {},
   "outputs": [],
   "source": []
  },
  {
   "cell_type": "code",
   "execution_count": null,
   "metadata": {},
   "outputs": [],
   "source": []
  },
  {
   "cell_type": "code",
   "execution_count": null,
   "metadata": {},
   "outputs": [],
   "source": []
  },
  {
   "cell_type": "markdown",
   "metadata": {},
   "source": [
    "## Compute gradient manually"
   ]
  },
  {
   "cell_type": "code",
   "execution_count": 238,
   "metadata": {},
   "outputs": [],
   "source": [
    "def sigmoid(x):\n",
    "    return 1/(1+np.exp(-x))"
   ]
  },
  {
   "cell_type": "code",
   "execution_count": 239,
   "metadata": {},
   "outputs": [],
   "source": [
    "def relu(x):\n",
    "    for i in range(len(x)):\n",
    "        x[i] = np.max((0,x[i]))\n",
    "    return x"
   ]
  },
  {
   "cell_type": "code",
   "execution_count": 240,
   "metadata": {},
   "outputs": [],
   "source": [
    "def hill(x,n,theta):\n",
    "#     return x**n\n",
    "    return x**n/(x**n + theta**n)"
   ]
  },
  {
   "cell_type": "code",
   "execution_count": 241,
   "metadata": {},
   "outputs": [],
   "source": [
    "def score(x,use_hill,N,theta,mlp):\n",
    "    W = mlp.coefs_\n",
    "    b = mlp.intercepts_\n",
    "    if use_hill:\n",
    "        y = hill(x,N,theta)\n",
    "    else:\n",
    "        y = x[:]\n",
    "    return sigmoid(np.dot(relu(np.dot(y,W[0])+b[0]),W[1])+b[1])"
   ]
  },
  {
   "cell_type": "code",
   "execution_count": 242,
   "metadata": {},
   "outputs": [],
   "source": [
    "def grad_score(x,use_hill,N,theta,mlp):\n",
    "    grad = np.zeros(x.shape)\n",
    "    for i in range(len(x)):\n",
    "        yp = x.copy(); yp[i] += 10/255; \n",
    "        ym = x.copy(); ym[i] -= 10/255;\n",
    "        grad[i] = 255/2*(score(yp,use_hill,N,theta,mlp)-score(ym,use_hill,N,theta,mlp))\n",
    "    return grad"
   ]
  },
  {
   "cell_type": "code",
   "execution_count": 243,
   "metadata": {},
   "outputs": [],
   "source": [
    "def iter_grad(x0,use_hill,N,theta,mlp,eps):\n",
    "    num_iter = 0; \n",
    "    x = x0.copy()\n",
    "    pred = mlp.predict(x0.reshape(1,-1))\n",
    "    new_pred = mlp.predict(x.reshape(1,-1))\n",
    "    pm = (pred-5)/2 #3 -> -1; 7 -> +1\n",
    "    while new_pred == pred:\n",
    "        grad = grad_score(x,use_hill,N,theta,mlp)\n",
    "        x -= pm*eps*grad[:]\n",
    "        new_pred = mlp.predict(x.reshape(1,-1))\n",
    "        print(score(x,use_hill,N,theta,mlp))\n",
    "        num_iter += 1\n",
    "    return x,num_iter"
   ]
  },
  {
   "cell_type": "code",
   "execution_count": 244,
   "metadata": {},
   "outputs": [
    {
     "ename": "NameError",
     "evalue": "name 'X0_test' is not defined",
     "output_type": "error",
     "traceback": [
      "\u001b[1;31m---------------------------------------------------------------------------\u001b[0m",
      "\u001b[1;31mNameError\u001b[0m                                 Traceback (most recent call last)",
      "\u001b[1;32m<ipython-input-244-ce4e7362fd59>\u001b[0m in \u001b[0;36m<module>\u001b[1;34m()\u001b[0m\n\u001b[0;32m      1\u001b[0m \u001b[0muse_hill\u001b[0m\u001b[1;33m=\u001b[0m\u001b[1;32mTrue\u001b[0m\u001b[1;33m;\u001b[0m\u001b[0mN\u001b[0m\u001b[1;33m=\u001b[0m\u001b[1;36m10\u001b[0m\u001b[1;33m;\u001b[0m\u001b[0mtheta\u001b[0m\u001b[1;33m=\u001b[0m\u001b[1;36m0.5\u001b[0m\u001b[1;33m\u001b[0m\u001b[0m\n\u001b[1;32m----> 2\u001b[1;33m \u001b[0mx0\u001b[0m \u001b[1;33m=\u001b[0m \u001b[0mX0_test\u001b[0m\u001b[1;33m[\u001b[0m\u001b[0my_test\u001b[0m\u001b[1;33m==\u001b[0m\u001b[1;36m3\u001b[0m\u001b[1;33m]\u001b[0m\u001b[1;33m[\u001b[0m\u001b[1;36m1000\u001b[0m\u001b[1;33m]\u001b[0m\u001b[1;33m\u001b[0m\u001b[0m\n\u001b[0m\u001b[0;32m      3\u001b[0m \u001b[0mgrad\u001b[0m \u001b[1;33m=\u001b[0m \u001b[0mgrad_score\u001b[0m\u001b[1;33m(\u001b[0m\u001b[0mx0\u001b[0m\u001b[1;33m,\u001b[0m\u001b[1;32mTrue\u001b[0m\u001b[1;33m,\u001b[0m\u001b[0mN\u001b[0m\u001b[1;33m,\u001b[0m\u001b[0mtheta\u001b[0m\u001b[1;33m,\u001b[0m\u001b[0mmlp_orig\u001b[0m\u001b[1;33m)\u001b[0m\u001b[1;33m\u001b[0m\u001b[0m\n\u001b[0;32m      4\u001b[0m \u001b[0mplt\u001b[0m\u001b[1;33m.\u001b[0m\u001b[0mimshow\u001b[0m\u001b[1;33m(\u001b[0m\u001b[0mgrad\u001b[0m\u001b[1;33m.\u001b[0m\u001b[0mreshape\u001b[0m\u001b[1;33m(\u001b[0m\u001b[1;36m28\u001b[0m\u001b[1;33m,\u001b[0m\u001b[1;36m28\u001b[0m\u001b[1;33m)\u001b[0m\u001b[1;33m,\u001b[0m\u001b[0mcmap\u001b[0m\u001b[1;33m=\u001b[0m\u001b[0mplt\u001b[0m\u001b[1;33m.\u001b[0m\u001b[0mcm\u001b[0m\u001b[1;33m.\u001b[0m\u001b[0mgray\u001b[0m\u001b[1;33m)\u001b[0m\u001b[1;33m\u001b[0m\u001b[0m\n\u001b[0;32m      5\u001b[0m \u001b[0mplt\u001b[0m\u001b[1;33m.\u001b[0m\u001b[0maxis\u001b[0m\u001b[1;33m(\u001b[0m\u001b[1;34m'off'\u001b[0m\u001b[1;33m)\u001b[0m\u001b[1;33m;\u001b[0m\u001b[0mplt\u001b[0m\u001b[1;33m.\u001b[0m\u001b[0mshow\u001b[0m\u001b[1;33m(\u001b[0m\u001b[1;33m)\u001b[0m\u001b[1;33m\u001b[0m\u001b[0m\n",
      "\u001b[1;31mNameError\u001b[0m: name 'X0_test' is not defined"
     ]
    }
   ],
   "source": [
    "use_hill=True;N=10;theta=0.5\n",
    "x0 = X0_test[y_test==3][1000]\n",
    "grad = grad_score(x0,True,N,theta,mlp_orig)\n",
    "plt.imshow(grad.reshape(28,28),cmap=plt.cm.gray)\n",
    "plt.axis('off');plt.show()"
   ]
  },
  {
   "cell_type": "code",
   "execution_count": 21,
   "metadata": {
    "scrolled": true
   },
   "outputs": [
    {
     "name": "stdout",
     "output_type": "stream",
     "text": [
      "[0.99974438]\n",
      "[0.99967377]\n",
      "[0.99958719]\n",
      "[0.99950201]\n",
      "[0.99943272]\n",
      "[0.9993761]\n",
      "[0.99932715]\n",
      "[0.99928423]\n",
      "[0.99924613]\n",
      "[0.99921094]\n",
      "[0.99917637]\n",
      "[0.99913971]\n",
      "[0.9990965]\n",
      "[0.99903809]\n",
      "[0.99895625]\n",
      "[0.99886442]\n",
      "[0.99875223]\n",
      "[0.99852028]\n",
      "[0.99830909]\n",
      "[0.99825342]\n",
      "[0.9982097]\n",
      "[0.99815806]\n",
      "[0.9980618]\n",
      "[0.99777888]\n",
      "[0.99733757]\n",
      "[0.99723265]\n",
      "[0.997112]\n",
      "[0.99689509]\n",
      "[0.99675982]\n",
      "[0.99656834]\n",
      "[0.9958072]\n",
      "[0.99295332]\n",
      "[0.99285109]\n",
      "[0.99279339]\n",
      "[0.99274333]\n",
      "[0.99268482]\n",
      "[0.99257579]\n",
      "[0.99196339]\n",
      "[0.98923573]\n",
      "[0.98825682]\n",
      "[0.98464329]\n",
      "[0.98453565]\n",
      "[0.98435471]\n",
      "[0.98365773]\n",
      "[0.96918899]\n",
      "[0.97395546]\n",
      "[0.94493904]\n",
      "[0.84103246]\n",
      "[0.87014672]\n"
     ]
    },
    {
     "data": {
      "image/png": "[encoded data removed]",
      "text/plain": [
       "<matplotlib.figure.Figure at 0x15e42dc88>"
      ]
     },
     "metadata": {},
     "output_type": "display_data"
    }
   ],
   "source": [
    "x0 = X0_test[y_test==7][1000]\n",
    "x1,num_iter = iter_grad(x0,True,10,theta,mlp_orig,5)\n",
    "fig,ax = plt.subplots(1,2)\n",
    "ax[0].imshow(x0.reshape(28,28),cmap=plt.cm.gray)\n",
    "ax[1].imshow(x1.reshape(28,28),cmap=plt.cm.gray)\n",
    "# ax[2].imshow(hill(x.reshape(28,28),N,theta),cmap=plt.cm.gray)\n",
    "\n",
    "[a.axis('off') for a in ax]\n",
    "plt.show()"
   ]
  },
  {
   "cell_type": "code",
   "execution_count": 237,
   "metadata": {
    "scrolled": true
   },
   "outputs": [
    {
     "ename": "NameError",
     "evalue": "name 'X0_test' is not defined",
     "output_type": "error",
     "traceback": [
      "\u001b[1;31m---------------------------------------------------------------------------\u001b[0m",
      "\u001b[1;31mNameError\u001b[0m                                 Traceback (most recent call last)",
      "\u001b[1;32m<ipython-input-237-0833f8787178>\u001b[0m in \u001b[0;36m<module>\u001b[1;34m()\u001b[0m\n\u001b[1;32m----> 1\u001b[1;33m \u001b[0msample\u001b[0m \u001b[1;33m=\u001b[0m \u001b[1;33m[\u001b[0m\u001b[0mint\u001b[0m\u001b[1;33m(\u001b[0m\u001b[0mlen\u001b[0m\u001b[1;33m(\u001b[0m\u001b[0mX0_test\u001b[0m\u001b[1;33m)\u001b[0m\u001b[1;33m*\u001b[0m\u001b[0mrandom\u001b[0m\u001b[1;33m.\u001b[0m\u001b[0mrandom\u001b[0m\u001b[1;33m(\u001b[0m\u001b[1;33m)\u001b[0m\u001b[1;33m)\u001b[0m \u001b[1;32mfor\u001b[0m \u001b[0m_\u001b[0m \u001b[1;32min\u001b[0m \u001b[0mrange\u001b[0m\u001b[1;33m(\u001b[0m\u001b[1;36m10\u001b[0m\u001b[1;33m)\u001b[0m\u001b[1;33m]\u001b[0m\u001b[1;33m\u001b[0m\u001b[0m\n\u001b[0m\u001b[0;32m      2\u001b[0m \u001b[1;33m\u001b[0m\u001b[0m\n\u001b[0;32m      3\u001b[0m \u001b[1;32mfor\u001b[0m \u001b[0mi\u001b[0m \u001b[1;32min\u001b[0m \u001b[0msample\u001b[0m\u001b[1;33m:\u001b[0m\u001b[1;33m\u001b[0m\u001b[0m\n\u001b[0;32m      4\u001b[0m     \u001b[0mx\u001b[0m \u001b[1;33m=\u001b[0m \u001b[0mX0_test\u001b[0m\u001b[1;33m[\u001b[0m\u001b[0mi\u001b[0m\u001b[1;33m]\u001b[0m\u001b[1;33m\u001b[0m\u001b[0m\n\u001b[0;32m      5\u001b[0m     \u001b[0mgrad_xF\u001b[0m \u001b[1;33m=\u001b[0m \u001b[0mgrad_score\u001b[0m\u001b[1;33m(\u001b[0m\u001b[0mx\u001b[0m\u001b[1;33m,\u001b[0m\u001b[1;32mFalse\u001b[0m\u001b[1;33m,\u001b[0m\u001b[1;36m0\u001b[0m\u001b[1;33m,\u001b[0m\u001b[1;36m0\u001b[0m\u001b[1;33m,\u001b[0m\u001b[0mmlp_orig\u001b[0m\u001b[1;33m)\u001b[0m\u001b[1;33m\u001b[0m\u001b[0m\n",
      "\u001b[1;32m<ipython-input-237-0833f8787178>\u001b[0m in \u001b[0;36m<listcomp>\u001b[1;34m(.0)\u001b[0m\n\u001b[1;32m----> 1\u001b[1;33m \u001b[0msample\u001b[0m \u001b[1;33m=\u001b[0m \u001b[1;33m[\u001b[0m\u001b[0mint\u001b[0m\u001b[1;33m(\u001b[0m\u001b[0mlen\u001b[0m\u001b[1;33m(\u001b[0m\u001b[0mX0_test\u001b[0m\u001b[1;33m)\u001b[0m\u001b[1;33m*\u001b[0m\u001b[0mrandom\u001b[0m\u001b[1;33m.\u001b[0m\u001b[0mrandom\u001b[0m\u001b[1;33m(\u001b[0m\u001b[1;33m)\u001b[0m\u001b[1;33m)\u001b[0m \u001b[1;32mfor\u001b[0m \u001b[0m_\u001b[0m \u001b[1;32min\u001b[0m \u001b[0mrange\u001b[0m\u001b[1;33m(\u001b[0m\u001b[1;36m10\u001b[0m\u001b[1;33m)\u001b[0m\u001b[1;33m]\u001b[0m\u001b[1;33m\u001b[0m\u001b[0m\n\u001b[0m\u001b[0;32m      2\u001b[0m \u001b[1;33m\u001b[0m\u001b[0m\n\u001b[0;32m      3\u001b[0m \u001b[1;32mfor\u001b[0m \u001b[0mi\u001b[0m \u001b[1;32min\u001b[0m \u001b[0msample\u001b[0m\u001b[1;33m:\u001b[0m\u001b[1;33m\u001b[0m\u001b[0m\n\u001b[0;32m      4\u001b[0m     \u001b[0mx\u001b[0m \u001b[1;33m=\u001b[0m \u001b[0mX0_test\u001b[0m\u001b[1;33m[\u001b[0m\u001b[0mi\u001b[0m\u001b[1;33m]\u001b[0m\u001b[1;33m\u001b[0m\u001b[0m\n\u001b[0;32m      5\u001b[0m     \u001b[0mgrad_xF\u001b[0m \u001b[1;33m=\u001b[0m \u001b[0mgrad_score\u001b[0m\u001b[1;33m(\u001b[0m\u001b[0mx\u001b[0m\u001b[1;33m,\u001b[0m\u001b[1;32mFalse\u001b[0m\u001b[1;33m,\u001b[0m\u001b[1;36m0\u001b[0m\u001b[1;33m,\u001b[0m\u001b[1;36m0\u001b[0m\u001b[1;33m,\u001b[0m\u001b[0mmlp_orig\u001b[0m\u001b[1;33m)\u001b[0m\u001b[1;33m\u001b[0m\u001b[0m\n",
      "\u001b[1;31mNameError\u001b[0m: name 'X0_test' is not defined"
     ]
    }
   ],
   "source": [
    "sample = [int(len(X0_test)*random.random()) for _ in range(10)]\n",
    "\n",
    "for i in sample:\n",
    "    x = X0_test[i]\n",
    "    grad_xF = grad_score(x,False,0,0,mlp_orig)\n",
    "    print(sum(grad_xF**2))\n",
    "    grad_xT = grad_score(x,True,10,0.5,mlp_orig)\n",
    "    fig,ax = plt.subplots(1,3)\n",
    "    ax[0].imshow(x.reshape(28,28),cmap=plt.cm.gray)\n",
    "    ax[1].imshow((grad_xF).reshape(28,28),cmap=plt.cm.gray)\n",
    "    ax[2].imshow((grad_xT).reshape(28,28),cmap=plt.cm.gray)\n",
    "    [a.axis('off') for a in ax]\n",
    "    plt.show()\n",
    "# print(grad)"
   ]
  },
  {
   "cell_type": "code",
   "execution_count": 34,
   "metadata": {},
   "outputs": [
    {
     "name": "stdout",
     "output_type": "stream",
     "text": [
      "[0.01646657]\n",
      "3.0\n"
     ]
    }
   ],
   "source": [
    "print(score(x,False,0,0,mlp_orig))\n",
    "print(y_test[num])"
   ]
  },
  {
   "cell_type": "code",
   "execution_count": 40,
   "metadata": {
    "scrolled": true
   },
   "outputs": [
    {
     "name": "stdout",
     "output_type": "stream",
     "text": [
      "3.0\n",
      "0\n"
     ]
    },
    {
     "data": {
      "image/png": "[encoded data removed]",
      "text/plain": [
       "<Figure size 432x288 with 3 Axes>"
      ]
     },
     "metadata": {},
     "output_type": "display_data"
    }
   ],
   "source": [
    "num = 1360\n",
    "eps = 0.5\n",
    "use_hill = True\n",
    "N = 2\n",
    "theta = 0.8\n",
    "x = X0_test[y_test == 3][num].copy()\n",
    "pred = y_test[y_test == 3][num]\n",
    "# pred = score(x,use_hill,N,theta,mlp_orig)\n",
    "print(pred)\n",
    "num_iter = 0\n",
    "# while pred == y_test[num]:\n",
    "while pred < 0.98:\n",
    "    print(score(x,use_hill,N,theta,mlp_orig))\n",
    "    grad = grad_score(x,use_hill,N,theta,mlp_orig)\n",
    "    if y_test[num] == 3:\n",
    "        x += eps*grad[:]\n",
    "    elif y_test[num] == 7:\n",
    "        x -= eps*grad[:]\n",
    "#     pred = mlp_orig.predict(x.reshape(1,-1))\n",
    "    pred = score(x,use_hill,N,theta,mlp_orig)\n",
    "    num_iter += 1\n",
    "print(num_iter)\n",
    "fig,ax = plt.subplots(1,3)\n",
    "ax[0].imshow(X0_test[y_test == 3][num].reshape(28,28),cmap=plt.cm.gray)\n",
    "ax[1].imshow(grad.reshape(28,28),cmap=plt.cm.gray)\n",
    "ax[2].imshow(hill(x.reshape(28,28),N,theta),cmap=plt.cm.gray)\n",
    "[a.axis('off') for a in ax]\n",
    "plt.show()"
   ]
  },
  {
   "cell_type": "code",
   "execution_count": 588,
   "metadata": {
    "scrolled": true
   },
   "outputs": [
    {
     "name": "stdout",
     "output_type": "stream",
     "text": [
      "2 [4.]\n"
     ]
    },
    {
     "data": {
      "image/png": "[encoded data removed]",
      "text/plain": [
       "<matplotlib.figure.Figure at 0x13e0df160>"
      ]
     },
     "metadata": {},
     "output_type": "display_data"
    },
    {
     "name": "stdout",
     "output_type": "stream",
     "text": [
      "6 [4.]\n"
     ]
    },
    {
     "data": {
      "image/png": "[encoded data removed]",
      "text/plain": [
       "<matplotlib.figure.Figure at 0x13e3f95c0>"
      ]
     },
     "metadata": {},
     "output_type": "display_data"
    },
    {
     "name": "stdout",
     "output_type": "stream",
     "text": [
      "10 [4.]\n"
     ]
    },
    {
     "data": {
      "image/png": "[encoded data removed]",
      "text/plain": [
       "<matplotlib.figure.Figure at 0x13e493f28>"
      ]
     },
     "metadata": {},
     "output_type": "display_data"
    },
    {
     "name": "stdout",
     "output_type": "stream",
     "text": [
      "14 [4.]\n"
     ]
    },
    {
     "data": {
      "image/png": "[encoded data removed]",
      "text/plain": [
       "<matplotlib.figure.Figure at 0x13ef78be0>"
      ]
     },
     "metadata": {},
     "output_type": "display_data"
    },
    {
     "name": "stdout",
     "output_type": "stream",
     "text": [
      "18 [4.]\n"
     ]
    },
    {
     "data": {
      "image/png": "[encoded data removed]",
      "text/plain": [
       "<matplotlib.figure.Figure at 0x13de2ff60>"
      ]
     },
     "metadata": {},
     "output_type": "display_data"
    },
    {
     "name": "stdout",
     "output_type": "stream",
     "text": [
      "22 [4.]\n"
     ]
    },
    {
     "data": {
      "image/png": "[encoded data removed]",
      "text/plain": [
       "<matplotlib.figure.Figure at 0x13e97cfd0>"
      ]
     },
     "metadata": {},
     "output_type": "display_data"
    },
    {
     "name": "stdout",
     "output_type": "stream",
     "text": [
      "26 [4.]\n"
     ]
    },
    {
     "data": {
      "image/png": "[encoded data removed]",
      "text/plain": [
       "<matplotlib.figure.Figure at 0x14b1ba780>"
      ]
     },
     "metadata": {},
     "output_type": "display_data"
    }
   ],
   "source": [
    "for i in np.arange(2,30,4):\n",
    "    y = hill(x.reshape(1,-1),i,theta)\n",
    "    print(i, mlp_orig.predict(y))\n",
    "    fig,ax = plt.subplots(1,2)\n",
    "    ax[0].imshow(hill(X0_test[num].reshape(28,28),i,theta),cmap=plt.cm.gray)\n",
    "    ax[1].imshow(y.reshape(28,28),cmap=plt.cm.gray)\n",
    "    [a.axis('off') for a in ax]\n",
    "    plt.show()"
   ]
  },
  {
   "cell_type": "code",
   "execution_count": 109,
   "metadata": {
    "scrolled": true
   },
   "outputs": [
    {
     "name": "stdout",
     "output_type": "stream",
     "text": [
      "[760, 406, 638, 1045, 322]\n",
      "[0.99771786]\n",
      "[0.99979101]\n",
      "[0.97157543]\n",
      "[0.9999972]\n",
      "[0.99999471]\n"
     ]
    },
    {
     "data": {
      "image/png": "[encoded data removed]",
      "text/plain": [
       "<Figure size 432x288 with 1 Axes>"
      ]
     },
     "metadata": {},
     "output_type": "display_data"
    },
    {
     "data": {
      "image/png": "[encoded data removed]",
      "text/plain": [
       "<Figure size 432x288 with 1 Axes>"
      ]
     },
     "metadata": {},
     "output_type": "display_data"
    },
    {
     "data": {
      "image/png": "[encoded data removed]",
      "text/plain": [
       "<Figure size 432x288 with 1 Axes>"
      ]
     },
     "metadata": {},
     "output_type": "display_data"
    },
    {
     "data": {
      "image/png": "[encoded data removed]",
      "text/plain": [
       "<Figure size 432x288 with 1 Axes>"
      ]
     },
     "metadata": {},
     "output_type": "display_data"
    },
    {
     "data": {
      "image/png": "[encoded data removed]",
      "text/plain": [
       "<Figure size 432x288 with 1 Axes>"
      ]
     },
     "metadata": {},
     "output_type": "display_data"
    }
   ],
   "source": [
    "sample = [int(len(X0_test[y_test == 7])*random.random()) for _ in range(5)]\n",
    "print(sample)\n",
    "score7 = [print(score(X0_test[y_test == 7][i],False,0,0,mlp_orig)) for i in sample]\n",
    "for i in sample:\n",
    "    x = X0_test[y_test == 7][i]\n",
    "    plt.imshow(x.reshape(28,28),cmap=plt.cm.gray)\n",
    "    plt.axis('off')\n",
    "    plt.show()"
   ]
  },
  {
   "cell_type": "code",
   "execution_count": 141,
   "metadata": {},
   "outputs": [
    {
     "name": "stdout",
     "output_type": "stream",
     "text": [
      "array([[1., 1., 1., 1., 1.],\n",
      "       [1., 1., 1., 1., 1.],\n",
      "       [1., 1., 1., 1., 1.],\n",
      "       [1., 1., 1., 1., 1.],\n",
      "       [1., 1., 1., 1., 1.],\n",
      "       [1., 1., 1., 1., 1.]])\n",
      "array([[1., 1., 1., 1., 1.],\n",
      "       [1., 1., 1., 1., 1.],\n",
      "       [1., 1., 1., 1., 1.],\n",
      "       [1., 1., 1., 1., 1.],\n",
      "       [1., 1., 1., 1., 1.],\n",
      "       [1., 1., 1., 1., 1.]])\n"
     ]
    }
   ],
   "source": [
    "N = 2; theta = 0.8\n",
    "sample = [1359, 189, 1314, 366, 1129, 1045]\n",
    "epsilon = np.arange(0.2,1.2,0.2)\n",
    "num_iter_table = [np.zeros((len(sample),len(epsilon)))]*2\n",
    "\n",
    "for i,x in enumerate(X0_test[y_test==7][sample]):\n",
    "    for j,eps in enumerate(epsilon):\n",
    "        num_iter_table[0][i,j] = iter_grad(x,7,False,N,theta,mlp_orig,eps)\n",
    "        num_iter_table[1][i,j] = iter_grad(x,7,True,N,theta,mlp_orig,eps)\n",
    "pprint(num_iter_table[0])\n",
    "pprint(num_iter_table[1])"
   ]
  },
  {
   "cell_type": "code",
   "execution_count": null,
   "metadata": {},
   "outputs": [],
   "source": []
  }
 ],
 "metadata": {
  "kernelspec": {
   "display_name": "Python 3",
   "language": "python",
   "name": "python3"
  },
  "language_info": {
   "codemirror_mode": {
    "name": "ipython",
    "version": 3
   },
   "file_extension": ".py",
   "mimetype": "text/x-python",
   "name": "python",
   "nbconvert_exporter": "python",
   "pygments_lexer": "ipython3",
   "version": "3.6.5"
  }
 },
 "nbformat": 4,
 "nbformat_minor": 2
}
