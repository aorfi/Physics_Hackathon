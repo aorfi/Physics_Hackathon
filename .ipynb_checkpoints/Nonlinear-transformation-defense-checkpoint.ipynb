{
 "cells": [
  {
   "cell_type": "markdown",
   "metadata": {},
   "source": [
    "## Produce digits of power"
   ]
  },
  {
   "cell_type": "code",
   "execution_count": 89,
   "metadata": {},
   "outputs": [],
   "source": [
    "# Import dependencies\n",
    "import numpy as np\n",
    "import pandas as pd\n",
    "import matplotlib.pyplot as plt\n",
    "from pprint import pprint\n",
    "\n",
    "import random\n",
    "import pickle\n",
    "\n",
    "import sklearn.datasets\n",
    "import sklearn.model_selection\n",
    "\n",
    "import sklearn.neural_network"
   ]
  },
  {
   "cell_type": "code",
   "execution_count": 90,
   "metadata": {},
   "outputs": [],
   "source": [
    "from keras.datasets import mnist\n",
    "from keras.layers import Dense, Flatten\n",
    "(X, y), (x_test, y_test) = mnist.load_data()"
   ]
  },
  {
   "cell_type": "code",
   "execution_count": 91,
   "metadata": {},
   "outputs": [
    {
     "data": {
      "text/plain": [
       "(60000, 28, 28)"
      ]
     },
     "execution_count": 91,
     "metadata": {},
     "output_type": "execute_result"
    }
   ],
   "source": [
    "X=X/255\n",
    "XT=x_test/255\n",
    "yT=y_test\n",
    "X.shape"
   ]
  },
  {
   "cell_type": "code",
   "execution_count": 92,
   "metadata": {},
   "outputs": [
    {
     "name": "stdout",
     "output_type": "stream",
     "text": [
      "[5 0 4 ... 5 6 8]\n",
      "[7 2 1 ... 4 5 6]\n",
      "(10000, 784) (10000,)\n"
     ]
    }
   ],
   "source": [
    "X=X.reshape(60000, 28**2)\n",
    "XT=XT.reshape(10000, 28**2)\n",
    "print(y)\n",
    "print(yT)\n",
    "print(XT.shape,yT.shape)"
   ]
  },
  {
   "cell_type": "code",
   "execution_count": 93,
   "metadata": {},
   "outputs": [
    {
     "name": "stdout",
     "output_type": "stream",
     "text": [
      "(6198, 784)\n"
     ]
    }
   ],
   "source": [
    "# Call MNIST and keep 3s and 7s\n",
    "#mnist = sklearn.datasets.fetch_mldata(\"MNIST original\")\n",
    "\n",
    "# Rescale the data and extract all images for two digits\n",
    "#X, y = mnist.data / 255., mnist.target\n",
    "\n",
    "index = np.where((y == 3) | (y == 7))[0]\n",
    "X0,y = X[index], y[index]\n",
    "\n",
    "Index = np.where((yT == 3) | (yT == 7))[0]\n",
    "XT,yT = XT[Index], yT[Index]\n",
    "\n",
    "X0_train1, X0_train2, y_train1, y_train2 = sklearn.model_selection.train_test_split(X0, y, test_size=0.5)\n",
    "\n",
    "print(X0_train1.shape)"
   ]
  },
  {
   "cell_type": "code",
   "execution_count": 94,
   "metadata": {},
   "outputs": [
    {
     "name": "stdout",
     "output_type": "stream",
     "text": [
      "Iteration 1, loss = 0.68637445\n",
      "Iteration 2, loss = 0.53767906\n",
      "Iteration 3, loss = 0.45085305\n",
      "Iteration 4, loss = 0.40565885\n",
      "Iteration 5, loss = 0.37726794\n",
      "Iteration 6, loss = 0.35593822\n",
      "Iteration 7, loss = 0.33875172\n",
      "Iteration 8, loss = 0.32415385\n",
      "Iteration 9, loss = 0.31132411\n",
      "Iteration 10, loss = 0.29986006\n",
      "Iteration 11, loss = 0.28949268\n",
      "Iteration 12, loss = 0.27996450\n",
      "Iteration 13, loss = 0.27118647\n",
      "Iteration 14, loss = 0.26300703\n",
      "Iteration 15, loss = 0.25544092\n",
      "Iteration 16, loss = 0.24832170\n",
      "Iteration 17, loss = 0.24164533\n",
      "Iteration 18, loss = 0.23538699\n",
      "Iteration 19, loss = 0.22945157\n",
      "Iteration 20, loss = 0.22389267\n",
      "Iteration 21, loss = 0.21862451\n",
      "Iteration 22, loss = 0.21361983\n",
      "Iteration 23, loss = 0.20888513\n",
      "Iteration 24, loss = 0.20437551\n",
      "Iteration 25, loss = 0.20008952\n",
      "Iteration 26, loss = 0.19601331\n",
      "Iteration 27, loss = 0.19209389\n",
      "Iteration 28, loss = 0.18836390\n",
      "Iteration 29, loss = 0.18480183\n",
      "Iteration 30, loss = 0.18144364\n",
      "Iteration 31, loss = 0.17816603\n",
      "Iteration 32, loss = 0.17502474\n",
      "Iteration 33, loss = 0.17203879\n",
      "Iteration 34, loss = 0.16916001\n",
      "Iteration 35, loss = 0.16640999\n",
      "Iteration 36, loss = 0.16372238\n",
      "Iteration 37, loss = 0.16117107\n",
      "Iteration 38, loss = 0.15873473\n",
      "Iteration 39, loss = 0.15634107\n",
      "Iteration 40, loss = 0.15405623\n",
      "Iteration 41, loss = 0.15185749\n",
      "Iteration 42, loss = 0.14972684\n",
      "Iteration 43, loss = 0.14766135\n",
      "Iteration 44, loss = 0.14573147\n",
      "Iteration 45, loss = 0.14376502\n",
      "Iteration 46, loss = 0.14190489\n",
      "Iteration 47, loss = 0.14013136\n",
      "Iteration 48, loss = 0.13837346\n",
      "Iteration 49, loss = 0.13669843\n",
      "Iteration 50, loss = 0.13507917\n",
      "Iteration 51, loss = 0.13350990\n",
      "Iteration 52, loss = 0.13196563\n",
      "Iteration 53, loss = 0.13048945\n",
      "Iteration 54, loss = 0.12902775\n",
      "Iteration 55, loss = 0.12766219\n",
      "Iteration 56, loss = 0.12625866\n",
      "Iteration 57, loss = 0.12495338\n",
      "Iteration 58, loss = 0.12364575\n",
      "Iteration 59, loss = 0.12237765\n",
      "Iteration 60, loss = 0.12117512\n",
      "Iteration 61, loss = 0.11996032\n",
      "Iteration 62, loss = 0.11881222\n",
      "Iteration 63, loss = 0.11766792\n",
      "Iteration 64, loss = 0.11656564\n",
      "Iteration 65, loss = 0.11550278\n",
      "Iteration 66, loss = 0.11444243\n",
      "Iteration 67, loss = 0.11347300\n",
      "Iteration 68, loss = 0.11244165\n",
      "Iteration 69, loss = 0.11146142\n",
      "Iteration 70, loss = 0.11052158\n",
      "Iteration 71, loss = 0.10957939\n",
      "Iteration 72, loss = 0.10867613\n",
      "Iteration 73, loss = 0.10778538\n",
      "Iteration 74, loss = 0.10691508\n",
      "Iteration 75, loss = 0.10605767\n",
      "Iteration 76, loss = 0.10523346\n",
      "Iteration 77, loss = 0.10440383\n",
      "Iteration 78, loss = 0.10359837\n",
      "Iteration 79, loss = 0.10282222\n",
      "Iteration 80, loss = 0.10203490\n",
      "Iteration 81, loss = 0.10131654\n",
      "Iteration 82, loss = 0.10056581\n",
      "Iteration 83, loss = 0.09982545\n",
      "Iteration 84, loss = 0.09911603\n",
      "Iteration 85, loss = 0.09841951\n",
      "Iteration 86, loss = 0.09775256\n",
      "Iteration 87, loss = 0.09708655\n",
      "Iteration 88, loss = 0.09640204\n",
      "Iteration 89, loss = 0.09576237\n",
      "Iteration 90, loss = 0.09514522\n",
      "Iteration 91, loss = 0.09448515\n",
      "Iteration 92, loss = 0.09387656\n",
      "Iteration 93, loss = 0.09326603\n",
      "Iteration 94, loss = 0.09268055\n",
      "Iteration 95, loss = 0.09211003\n",
      "Iteration 96, loss = 0.09153100\n",
      "Iteration 97, loss = 0.09095818\n",
      "Iteration 98, loss = 0.09040281\n",
      "Iteration 99, loss = 0.08985738\n",
      "Iteration 100, loss = 0.08933448\n",
      "Iteration 101, loss = 0.08880465\n",
      "Iteration 102, loss = 0.08828224\n",
      "Iteration 103, loss = 0.08778626\n",
      "Iteration 104, loss = 0.08726414\n",
      "Iteration 105, loss = 0.08679188\n",
      "Iteration 106, loss = 0.08628773\n",
      "Iteration 107, loss = 0.08581724\n",
      "Iteration 108, loss = 0.08534447\n",
      "Iteration 109, loss = 0.08488306\n",
      "Iteration 110, loss = 0.08443884\n",
      "Iteration 111, loss = 0.08397548\n",
      "Iteration 112, loss = 0.08353113\n",
      "Iteration 113, loss = 0.08309750\n",
      "Iteration 114, loss = 0.08267588\n",
      "Iteration 115, loss = 0.08227695\n",
      "Iteration 116, loss = 0.08182290\n",
      "Iteration 117, loss = 0.08141565\n",
      "Iteration 118, loss = 0.08101367\n",
      "Iteration 119, loss = 0.08059478\n",
      "Iteration 120, loss = 0.08020295\n",
      "Iteration 121, loss = 0.07980649\n",
      "Iteration 122, loss = 0.07941774\n",
      "Iteration 123, loss = 0.07901999\n",
      "Iteration 124, loss = 0.07864803\n",
      "Iteration 125, loss = 0.07825851\n",
      "Iteration 126, loss = 0.07790151\n",
      "Iteration 127, loss = 0.07753026\n",
      "Iteration 128, loss = 0.07717342\n",
      "Iteration 129, loss = 0.07682188\n",
      "Iteration 130, loss = 0.07645358\n",
      "Iteration 131, loss = 0.07611150\n",
      "Iteration 132, loss = 0.07577271\n",
      "Iteration 133, loss = 0.07543758\n",
      "Iteration 134, loss = 0.07511127\n",
      "Iteration 135, loss = 0.07477136\n",
      "Iteration 136, loss = 0.07444880\n",
      "Iteration 137, loss = 0.07411804\n",
      "Iteration 138, loss = 0.07381454\n",
      "Iteration 139, loss = 0.07350692\n",
      "Iteration 140, loss = 0.07319763\n",
      "Iteration 141, loss = 0.07288144\n",
      "Iteration 142, loss = 0.07258118\n",
      "Iteration 143, loss = 0.07227550\n",
      "Iteration 144, loss = 0.07198478\n",
      "Iteration 145, loss = 0.07169202\n",
      "Iteration 146, loss = 0.07141290\n",
      "Iteration 147, loss = 0.07112736\n",
      "Iteration 148, loss = 0.07081515\n",
      "Iteration 149, loss = 0.07053836\n",
      "Iteration 150, loss = 0.07026093\n",
      "Iteration 151, loss = 0.07000180\n",
      "Iteration 152, loss = 0.06969629\n",
      "Iteration 153, loss = 0.06944495\n",
      "Iteration 154, loss = 0.06917314\n",
      "Iteration 155, loss = 0.06891901\n",
      "Iteration 156, loss = 0.06865791\n",
      "Iteration 157, loss = 0.06837712\n",
      "Iteration 158, loss = 0.06811938\n",
      "Iteration 159, loss = 0.06787131\n",
      "Iteration 160, loss = 0.06761209\n",
      "Iteration 161, loss = 0.06735709\n",
      "Iteration 162, loss = 0.06710382\n",
      "Iteration 163, loss = 0.06685500\n",
      "Iteration 164, loss = 0.06664099\n",
      "Iteration 165, loss = 0.06641192\n",
      "Iteration 166, loss = 0.06613413\n",
      "Iteration 167, loss = 0.06588794\n",
      "Iteration 168, loss = 0.06565934\n",
      "Iteration 169, loss = 0.06543562\n",
      "Iteration 170, loss = 0.06519034\n",
      "Iteration 171, loss = 0.06496513\n",
      "Iteration 172, loss = 0.06475949\n",
      "Iteration 173, loss = 0.06450965\n",
      "Iteration 174, loss = 0.06428739\n",
      "Iteration 175, loss = 0.06408772\n",
      "Iteration 176, loss = 0.06384362\n",
      "Iteration 177, loss = 0.06364822\n",
      "Iteration 178, loss = 0.06342483\n",
      "Iteration 179, loss = 0.06321200\n",
      "Iteration 180, loss = 0.06299281\n",
      "Iteration 181, loss = 0.06278893\n",
      "Iteration 182, loss = 0.06258935\n",
      "Iteration 183, loss = 0.06237414\n",
      "Iteration 184, loss = 0.06217193\n",
      "Iteration 185, loss = 0.06197331\n",
      "Iteration 186, loss = 0.06175269\n",
      "Iteration 187, loss = 0.06155399\n",
      "Iteration 188, loss = 0.06134955\n",
      "Iteration 189, loss = 0.06115545\n",
      "Iteration 190, loss = 0.06098470\n",
      "Iteration 191, loss = 0.06075662\n",
      "Iteration 192, loss = 0.06056901\n",
      "Iteration 193, loss = 0.06037047\n",
      "Iteration 194, loss = 0.06017350\n",
      "Iteration 195, loss = 0.05998444\n",
      "Iteration 196, loss = 0.05982146\n",
      "Iteration 197, loss = 0.05961346\n",
      "Iteration 198, loss = 0.05943636\n",
      "Iteration 199, loss = 0.05924677\n",
      "Iteration 200, loss = 0.05912993\n",
      "Iteration 201, loss = 0.05888059\n",
      "Iteration 202, loss = 0.05868772\n",
      "Iteration 203, loss = 0.05850860\n",
      "Iteration 204, loss = 0.05832521\n",
      "Iteration 205, loss = 0.05818290\n",
      "Iteration 206, loss = 0.05799112\n",
      "Iteration 207, loss = 0.05779764\n",
      "Iteration 208, loss = 0.05762381\n",
      "Iteration 209, loss = 0.05745306\n",
      "Iteration 210, loss = 0.05730641\n",
      "Iteration 211, loss = 0.05710413\n",
      "Iteration 212, loss = 0.05692903\n",
      "Iteration 213, loss = 0.05676573\n",
      "Iteration 214, loss = 0.05661279\n",
      "Iteration 215, loss = 0.05642727\n",
      "Iteration 216, loss = 0.05626640\n",
      "Iteration 217, loss = 0.05611500\n",
      "Iteration 218, loss = 0.05598820\n",
      "Iteration 219, loss = 0.05579745\n",
      "Iteration 220, loss = 0.05563912\n",
      "Iteration 221, loss = 0.05546293\n",
      "Iteration 222, loss = 0.05530965\n",
      "Iteration 223, loss = 0.05515398\n",
      "Iteration 224, loss = 0.05500144\n",
      "Iteration 225, loss = 0.05483938\n",
      "Iteration 226, loss = 0.05469709\n",
      "Iteration 227, loss = 0.05453417\n",
      "Iteration 228, loss = 0.05437486\n",
      "Iteration 229, loss = 0.05422998\n",
      "Iteration 230, loss = 0.05407535\n",
      "Iteration 231, loss = 0.05392262\n",
      "Iteration 232, loss = 0.05378722\n",
      "Iteration 233, loss = 0.05363739\n",
      "Iteration 234, loss = 0.05350226\n",
      "Iteration 235, loss = 0.05339524\n",
      "Iteration 236, loss = 0.05321295\n",
      "Iteration 237, loss = 0.05305544\n",
      "Iteration 238, loss = 0.05292023\n",
      "Iteration 239, loss = 0.05278082\n",
      "Iteration 240, loss = 0.05264341\n",
      "Iteration 241, loss = 0.05250444\n",
      "Iteration 242, loss = 0.05235160\n",
      "Iteration 243, loss = 0.05222463\n",
      "Iteration 244, loss = 0.05211127\n",
      "Iteration 245, loss = 0.05195220\n",
      "Iteration 246, loss = 0.05183161\n",
      "Iteration 247, loss = 0.05169829\n",
      "Iteration 248, loss = 0.05154961\n",
      "Iteration 249, loss = 0.05145850\n",
      "Iteration 250, loss = 0.05128446\n",
      "Iteration 251, loss = 0.05115979\n",
      "Iteration 252, loss = 0.05104405\n"
     ]
    },
    {
     "name": "stdout",
     "output_type": "stream",
     "text": [
      "Iteration 253, loss = 0.05089825\n",
      "Iteration 254, loss = 0.05077894\n",
      "Iteration 255, loss = 0.05064050\n",
      "Iteration 256, loss = 0.05052540\n",
      "Iteration 257, loss = 0.05039205\n",
      "Iteration 258, loss = 0.05027389\n",
      "Iteration 259, loss = 0.05015964\n",
      "Iteration 260, loss = 0.05002962\n",
      "Iteration 261, loss = 0.04989137\n",
      "Iteration 262, loss = 0.04980244\n",
      "Iteration 263, loss = 0.04966349\n",
      "Iteration 264, loss = 0.04953350\n",
      "Iteration 265, loss = 0.04940366\n",
      "Iteration 266, loss = 0.04928524\n",
      "Iteration 267, loss = 0.04918187\n",
      "Iteration 268, loss = 0.04904814\n",
      "Iteration 269, loss = 0.04891813\n",
      "Iteration 270, loss = 0.04880545\n",
      "Iteration 271, loss = 0.04869434\n",
      "Iteration 272, loss = 0.04859927\n",
      "Iteration 273, loss = 0.04846942\n",
      "Iteration 274, loss = 0.04834302\n",
      "Iteration 275, loss = 0.04823631\n",
      "Iteration 276, loss = 0.04811700\n",
      "Iteration 277, loss = 0.04801540\n",
      "Iteration 278, loss = 0.04788100\n",
      "Iteration 279, loss = 0.04776703\n",
      "Iteration 280, loss = 0.04766771\n",
      "Iteration 281, loss = 0.04753654\n",
      "Iteration 282, loss = 0.04745972\n",
      "Iteration 283, loss = 0.04732596\n",
      "Iteration 284, loss = 0.04720720\n",
      "Iteration 285, loss = 0.04711623\n",
      "Iteration 286, loss = 0.04700753\n",
      "Iteration 287, loss = 0.04688398\n",
      "Iteration 288, loss = 0.04677644\n",
      "Iteration 289, loss = 0.04667550\n",
      "Iteration 290, loss = 0.04656288\n",
      "Iteration 291, loss = 0.04646328\n",
      "Iteration 292, loss = 0.04636343\n",
      "Iteration 293, loss = 0.04625341\n",
      "Iteration 294, loss = 0.04616610\n",
      "Iteration 295, loss = 0.04606426\n",
      "Iteration 296, loss = 0.04592562\n",
      "Iteration 297, loss = 0.04584079\n",
      "Iteration 298, loss = 0.04574004\n",
      "Iteration 299, loss = 0.04563323\n",
      "Iteration 300, loss = 0.04553551\n",
      "Iteration 301, loss = 0.04542551\n",
      "Iteration 302, loss = 0.04534030\n",
      "Iteration 303, loss = 0.04523081\n",
      "Iteration 304, loss = 0.04513587\n",
      "Iteration 305, loss = 0.04503187\n",
      "Iteration 306, loss = 0.04492556\n",
      "Iteration 307, loss = 0.04482697\n",
      "Iteration 308, loss = 0.04472343\n",
      "Iteration 309, loss = 0.04464588\n",
      "Iteration 310, loss = 0.04454991\n",
      "Iteration 311, loss = 0.04444115\n",
      "Iteration 312, loss = 0.04434163\n",
      "Iteration 313, loss = 0.04423658\n",
      "Iteration 314, loss = 0.04413776\n",
      "Iteration 315, loss = 0.04405497\n",
      "Iteration 316, loss = 0.04396641\n",
      "Training loss did not improve more than tol=0.000100 for two consecutive epochs. Setting learning rate to 0.000200\n",
      "Iteration 317, loss = 0.04385097\n",
      "Iteration 318, loss = 0.04382643\n",
      "Iteration 319, loss = 0.04380513\n",
      "Iteration 320, loss = 0.04378578\n",
      "Training loss did not improve more than tol=0.000100 for two consecutive epochs. Setting learning rate to 0.000040\n",
      "Iteration 321, loss = 0.04376602\n",
      "Iteration 322, loss = 0.04376169\n",
      "Iteration 323, loss = 0.04375750\n",
      "Training loss did not improve more than tol=0.000100 for two consecutive epochs. Setting learning rate to 0.000008\n",
      "Iteration 324, loss = 0.04375357\n",
      "Iteration 325, loss = 0.04375260\n",
      "Iteration 326, loss = 0.04375177\n",
      "Training loss did not improve more than tol=0.000100 for two consecutive epochs. Setting learning rate to 0.000002\n",
      "Iteration 327, loss = 0.04375097\n",
      "Iteration 328, loss = 0.04375077\n",
      "Iteration 329, loss = 0.04375064\n",
      "Training loss did not improve more than tol=0.000100 for two consecutive epochs. Setting learning rate to 0.000000\n",
      "Iteration 330, loss = 0.04375046\n",
      "Iteration 331, loss = 0.04375042\n",
      "Iteration 332, loss = 0.04375039\n",
      "Training loss did not improve more than tol=0.000100 for two consecutive epochs. Learning rate too small. Stopping.\n"
     ]
    },
    {
     "data": {
      "text/plain": [
       "MLPClassifier(activation='relu', alpha=0.0001, batch_size='auto', beta_1=0.9,\n",
       "       beta_2=0.999, early_stopping=False, epsilon=1e-08,\n",
       "       hidden_layer_sizes=(4,), learning_rate='adaptive',\n",
       "       learning_rate_init=0.001, max_iter=500, momentum=0.9,\n",
       "       nesterovs_momentum=True, power_t=0.5, random_state=5, shuffle=True,\n",
       "       solver='sgd', tol=0.0001, validation_fraction=0.1, verbose=1,\n",
       "       warm_start=False)"
      ]
     },
     "execution_count": 94,
     "metadata": {},
     "output_type": "execute_result"
    }
   ],
   "source": [
    "mlp_orig = sklearn.neural_network.MLPClassifier(activation = \"relu\", hidden_layer_sizes=(4,), max_iter = 500, solver='sgd', random_state=5, learning_rate = 'adaptive',verbose = 1)\n",
    "mlp_orig.fit(X0_train1,y_train1)\n"
   ]
  },
  {
   "cell_type": "code",
   "execution_count": null,
   "metadata": {},
   "outputs": [],
   "source": []
  },
  {
   "cell_type": "markdown",
   "metadata": {},
   "source": [
    "Showing people stuff "
   ]
  },
  {
   "cell_type": "code",
   "execution_count": 49,
   "metadata": {},
   "outputs": [
    {
     "data": {
      "image/png": "[encoded data removed]",
      "text/plain": [
       "<matplotlib.figure.Figure at 0x10fbd2198>"
      ]
     },
     "metadata": {},
     "output_type": "display_data"
    }
   ],
   "source": [
    "# A typical sampled 3\n",
    "plt.imshow(X0_test[11].reshape(28,28),cmap=plt.cm.gray)\n",
    "plt.show()"
   ]
  },
  {
   "cell_type": "code",
   "execution_count": 50,
   "metadata": {},
   "outputs": [],
   "source": [
    "# Add simplest adversarial perturbation\n",
    "delta = X0[y == 3].mean(axis=0) - X0[y == 7].mean(axis=0)\n",
    "#ave = X0[y == 3].mean(axis=0)# + X0[y == 9].mean(axis=0)\n",
    "\n",
    "eps = 0.1\n",
    "X0_adv = np.zeros(X0.shape)\n",
    "\n",
    "X0_adv[y == 3] = X0[y == 3] - eps*np.sign(delta)\n",
    "X0_adv[y == 7] = X0[y == 7] + eps*np.sign(delta)"
   ]
  },
  {
   "cell_type": "code",
   "execution_count": 51,
   "metadata": {},
   "outputs": [
    {
     "data": {
      "image/png": "[encoded data removed]",
      "text/plain": [
       "<matplotlib.figure.Figure at 0x10fc5c518>"
      ]
     },
     "metadata": {},
     "output_type": "display_data"
    }
   ],
   "source": [
    "# A typical adversarially perturbed 3; note the background pixels.\n",
    "plt.imshow(X0_adv[3].reshape(28,28),cmap=plt.cm.gray)\n",
    "plt.show()"
   ]
  },
  {
   "cell_type": "code",
   "execution_count": 53,
   "metadata": {},
   "outputs": [
    {
     "data": {
      "image/png": "[encoded data removed]",
      "text/plain": [
       "<matplotlib.figure.Figure at 0x10fc3c6a0>"
      ]
     },
     "metadata": {},
     "output_type": "display_data"
    }
   ],
   "source": [
    "sample = [int(len(X0)*random.random()) for _ in range(5)]\n",
    "\n",
    "# theta = np.arange(0.1,1,0.2)\n",
    "theta = 0.5\n",
    "N = 4\n",
    "\n",
    "X1 = X0**N/(X0**N+theta**N)\n",
    "X1_adv = X0_adv**N/(X0_adv**N+theta**N)\n",
    "\n",
    "fig, axes = plt.subplots(4,len(sample),figsize = (50,20))\n",
    "for i,ax in zip(sample,axes.T):\n",
    "    ax[0].imshow(X0[i].reshape(28,28))\n",
    "    ax[1].imshow(X1[i].reshape(28,28))\n",
    "    ax[2].imshow(X0_adv[i].reshape(28,28))\n",
    "    ax[3].imshow(X1_adv[i].reshape(28,28))\n",
    "    [ax_row.axis('off') for ax_row in ax]\n",
    "plt.show()"
   ]
  },
  {
   "cell_type": "code",
   "execution_count": null,
   "metadata": {},
   "outputs": [],
   "source": []
  },
  {
   "cell_type": "code",
   "execution_count": null,
   "metadata": {},
   "outputs": [],
   "source": []
  },
  {
   "cell_type": "code",
   "execution_count": null,
   "metadata": {},
   "outputs": [],
   "source": []
  },
  {
   "cell_type": "code",
   "execution_count": null,
   "metadata": {},
   "outputs": [],
   "source": []
  },
  {
   "cell_type": "code",
   "execution_count": 95,
   "metadata": {},
   "outputs": [],
   "source": [
    "def adv_per3(X,eps,delta):\n",
    "    return X - eps*np.sign(delta)\n",
    "def adv_per7(X,eps,delta):\n",
    "    return X + eps*np.sign(delta)"
   ]
  },
  {
   "cell_type": "code",
   "execution_count": 96,
   "metadata": {},
   "outputs": [],
   "source": [
    "def hill(x,n,theta):\n",
    "#     return x**n\n",
    "    return x**n/(x**n + theta**n)"
   ]
  },
  {
   "cell_type": "code",
   "execution_count": 97,
   "metadata": {},
   "outputs": [],
   "source": [
    "#Weights and Biases for Hidden Layer\n",
    "w1 = mlp_orig.coefs_[0]\n",
    "b1 = mlp_orig.intercepts_[0]\n",
    "#Weights and Biases for Output layer\n",
    "w2 = mlp_orig.coefs_[1]\n",
    "b2 = mlp_orig.intercepts_[1]\n",
    "\n",
    "n=1\n",
    "\n",
    "#Computing hidden nodes\n",
    "h1=np.matmul(X0[n],w1) + b1\n",
    "h1=np.maximum(0, h1)\n",
    "\n",
    "#Computing output nodes\n",
    "o1=np.matmul(h1,w2) + b2\n",
    "o1=np.maximum(0,o1)"
   ]
  },
  {
   "cell_type": "markdown",
   "metadata": {},
   "source": [
    "Asheesh & Alevs stuff "
   ]
  },
  {
   "cell_type": "markdown",
   "metadata": {},
   "source": [
    "theta = 0.5\n",
    "Ns = np.arange(11)\n",
    "middle = np.zeros((len(Ns),len(X0_train2)))\n",
    "for idx_N,N in enumerate(Ns):\n",
    "    X = hill(X0_train2,N,theta)\n",
    "    middle[idx_N]=mlp_orig.predict(X)\n",
    "    \n",
    "middle=np.transpose(middle)"
   ]
  },
  {
   "cell_type": "code",
   "execution_count": 143,
   "metadata": {},
   "outputs": [
    {
     "name": "stdout",
     "output_type": "stream",
     "text": [
      "(6198, 11, 4)\n"
     ]
    }
   ],
   "source": [
    "theta = 0.5\n",
    "Ns = np.arange(11)\n",
    "middle = np.zeros(shape=(len(X0_train2),len(Ns),4))\n",
    "for idx_N,N in enumerate(Ns):\n",
    "    X = hill(X0_train2,N,theta)\n",
    "    for i in range(len(X0_train2)):\n",
    "        h1=np.matmul(X0_train2[i],w1) + b1\n",
    "        h1=np.maximum(0, h1)\n",
    "        middle[i][idx_N]=h1\n",
    "print(middle.shape)"
   ]
  },
  {
   "cell_type": "code",
   "execution_count": 144,
   "metadata": {},
   "outputs": [],
   "source": [
    "middle=middle.reshape(6198,44)"
   ]
  },
  {
   "cell_type": "code",
   "execution_count": 136,
   "metadata": {},
   "outputs": [
    {
     "name": "stdout",
     "output_type": "stream",
     "text": [
      "0.0\n"
     ]
    }
   ],
   "source": [
    "print(middle[4][34])"
   ]
  },
  {
   "cell_type": "code",
   "execution_count": 145,
   "metadata": {},
   "outputs": [
    {
     "name": "stdout",
     "output_type": "stream",
     "text": [
      "Iteration 1, loss = 0.75965461\n",
      "Iteration 2, loss = 0.63572235\n",
      "Iteration 3, loss = 0.57957836\n",
      "Iteration 4, loss = 0.55301379\n",
      "Iteration 5, loss = 0.53416299\n",
      "Iteration 6, loss = 0.51839979\n",
      "Iteration 7, loss = 0.50417338\n",
      "Iteration 8, loss = 0.49104725\n",
      "Iteration 9, loss = 0.47852367\n",
      "Iteration 10, loss = 0.46651902\n",
      "Iteration 11, loss = 0.45493850\n",
      "Iteration 12, loss = 0.44367745\n",
      "Iteration 13, loss = 0.43276163\n",
      "Iteration 14, loss = 0.42214172\n",
      "Iteration 15, loss = 0.41183214\n",
      "Iteration 16, loss = 0.40182384\n",
      "Iteration 17, loss = 0.39210482\n",
      "Iteration 18, loss = 0.38269547\n",
      "Iteration 19, loss = 0.37356150\n",
      "Iteration 20, loss = 0.36472926\n",
      "Iteration 21, loss = 0.35616995\n",
      "Iteration 22, loss = 0.34789508\n",
      "Iteration 23, loss = 0.33987467\n",
      "Iteration 24, loss = 0.33212626\n",
      "Iteration 25, loss = 0.32463212\n",
      "Iteration 26, loss = 0.31738063\n",
      "Iteration 27, loss = 0.31036605\n",
      "Iteration 28, loss = 0.30359528\n",
      "Iteration 29, loss = 0.29703279\n",
      "Iteration 30, loss = 0.29070072\n",
      "Iteration 31, loss = 0.28457791\n",
      "Iteration 32, loss = 0.27865056\n",
      "Iteration 33, loss = 0.27291502\n",
      "Iteration 34, loss = 0.26738038\n",
      "Iteration 35, loss = 0.26202223\n",
      "Iteration 36, loss = 0.25684671\n",
      "Iteration 37, loss = 0.25183986\n",
      "Iteration 38, loss = 0.24698642\n",
      "Iteration 39, loss = 0.24229546\n",
      "Iteration 40, loss = 0.23775959\n",
      "Iteration 41, loss = 0.23337305\n",
      "Iteration 42, loss = 0.22911656\n",
      "Iteration 43, loss = 0.22501293\n",
      "Iteration 44, loss = 0.22102618\n",
      "Iteration 45, loss = 0.21717332\n",
      "Iteration 46, loss = 0.21344426\n",
      "Iteration 47, loss = 0.20982020\n",
      "Iteration 48, loss = 0.20632233\n",
      "Iteration 49, loss = 0.20292831\n",
      "Iteration 50, loss = 0.19964058\n",
      "Iteration 51, loss = 0.19644923\n",
      "Iteration 52, loss = 0.19336074\n",
      "Iteration 53, loss = 0.19036404\n",
      "Iteration 54, loss = 0.18745312\n",
      "Iteration 55, loss = 0.18463366\n",
      "Iteration 56, loss = 0.18189862\n",
      "Iteration 57, loss = 0.17924340\n",
      "Iteration 58, loss = 0.17666554\n",
      "Iteration 59, loss = 0.17416358\n",
      "Iteration 60, loss = 0.17172793\n",
      "Iteration 61, loss = 0.16937094\n",
      "Iteration 62, loss = 0.16708014\n",
      "Iteration 63, loss = 0.16484482\n",
      "Iteration 64, loss = 0.16267968\n",
      "Iteration 65, loss = 0.16057613\n",
      "Iteration 66, loss = 0.15852537\n",
      "Iteration 67, loss = 0.15653089\n",
      "Iteration 68, loss = 0.15459597\n",
      "Iteration 69, loss = 0.15271064\n",
      "Iteration 70, loss = 0.15087230\n",
      "Iteration 71, loss = 0.14908444\n",
      "Iteration 72, loss = 0.14734590\n",
      "Iteration 73, loss = 0.14564894\n",
      "Iteration 74, loss = 0.14400058\n",
      "Iteration 75, loss = 0.14238991\n",
      "Iteration 76, loss = 0.14082372\n",
      "Iteration 77, loss = 0.13929598\n",
      "Iteration 78, loss = 0.13780687\n",
      "Iteration 79, loss = 0.13635014\n",
      "Iteration 80, loss = 0.13493607\n",
      "Iteration 81, loss = 0.13355348\n",
      "Iteration 82, loss = 0.13220661\n",
      "Iteration 83, loss = 0.13088464\n",
      "Iteration 84, loss = 0.12960373\n",
      "Iteration 85, loss = 0.12834763\n",
      "Iteration 86, loss = 0.12712343\n",
      "Iteration 87, loss = 0.12592294\n",
      "Iteration 88, loss = 0.12475568\n",
      "Iteration 89, loss = 0.12361359\n",
      "Iteration 90, loss = 0.12249578\n",
      "Iteration 91, loss = 0.12140764\n",
      "Iteration 92, loss = 0.12033828\n",
      "Iteration 93, loss = 0.11929580\n",
      "Iteration 94, loss = 0.11827370\n",
      "Iteration 95, loss = 0.11727679\n",
      "Iteration 96, loss = 0.11630144\n",
      "Iteration 97, loss = 0.11534626\n",
      "Iteration 98, loss = 0.11441049\n",
      "Iteration 99, loss = 0.11349690\n",
      "Iteration 100, loss = 0.11259873\n",
      "Iteration 101, loss = 0.11172371\n",
      "Iteration 102, loss = 0.11086349\n",
      "Iteration 103, loss = 0.11002421\n",
      "Iteration 104, loss = 0.10919753\n",
      "Iteration 105, loss = 0.10839327\n",
      "Iteration 106, loss = 0.10759993\n",
      "Iteration 107, loss = 0.10682564\n",
      "Iteration 108, loss = 0.10606541\n",
      "Iteration 109, loss = 0.10532218\n",
      "Iteration 110, loss = 0.10458800\n",
      "Iteration 111, loss = 0.10387836\n",
      "Iteration 112, loss = 0.10317063\n",
      "Iteration 113, loss = 0.10248151\n",
      "Iteration 114, loss = 0.10180718\n",
      "Iteration 115, loss = 0.10114271\n",
      "Iteration 116, loss = 0.10049494\n",
      "Iteration 117, loss = 0.09985546\n",
      "Iteration 118, loss = 0.09922864\n",
      "Iteration 119, loss = 0.09861408\n",
      "Iteration 120, loss = 0.09800939\n",
      "Iteration 121, loss = 0.09741672\n",
      "Iteration 122, loss = 0.09683297\n",
      "Iteration 123, loss = 0.09626264\n",
      "Iteration 124, loss = 0.09570221\n",
      "Iteration 125, loss = 0.09515195\n",
      "Iteration 126, loss = 0.09460690\n",
      "Iteration 127, loss = 0.09407827\n",
      "Iteration 128, loss = 0.09355582\n",
      "Iteration 129, loss = 0.09303989\n",
      "Iteration 130, loss = 0.09253424\n",
      "Iteration 131, loss = 0.09203860\n",
      "Iteration 132, loss = 0.09154947\n",
      "Iteration 133, loss = 0.09107208\n",
      "Iteration 134, loss = 0.09059774\n",
      "Iteration 135, loss = 0.09013540\n",
      "Iteration 136, loss = 0.08968034\n",
      "Iteration 137, loss = 0.08923120\n",
      "Iteration 138, loss = 0.08879053\n",
      "Iteration 139, loss = 0.08835865\n",
      "Iteration 140, loss = 0.08793136\n",
      "Iteration 141, loss = 0.08751072\n",
      "Iteration 142, loss = 0.08709972\n",
      "Iteration 143, loss = 0.08668863\n",
      "Iteration 144, loss = 0.08628861\n",
      "Iteration 145, loss = 0.08589463\n",
      "Iteration 146, loss = 0.08550783\n",
      "Iteration 147, loss = 0.08512715\n",
      "Iteration 148, loss = 0.08474951\n",
      "Iteration 149, loss = 0.08438043\n",
      "Iteration 150, loss = 0.08401572\n",
      "Iteration 151, loss = 0.08365885\n",
      "Iteration 152, loss = 0.08330351\n",
      "Iteration 153, loss = 0.08295812\n",
      "Iteration 154, loss = 0.08261556\n",
      "Iteration 155, loss = 0.08227764\n",
      "Iteration 156, loss = 0.08194486\n",
      "Iteration 157, loss = 0.08161800\n",
      "Iteration 158, loss = 0.08129461\n",
      "Iteration 159, loss = 0.08097702\n",
      "Iteration 160, loss = 0.08066348\n",
      "Iteration 161, loss = 0.08035873\n",
      "Iteration 162, loss = 0.08005028\n",
      "Iteration 163, loss = 0.07975145\n",
      "Iteration 164, loss = 0.07945712\n",
      "Iteration 165, loss = 0.07916602\n",
      "Iteration 166, loss = 0.07887777\n",
      "Iteration 167, loss = 0.07859353\n",
      "Iteration 168, loss = 0.07831635\n",
      "Iteration 169, loss = 0.07804011\n",
      "Iteration 170, loss = 0.07776886\n",
      "Iteration 171, loss = 0.07750246\n",
      "Iteration 172, loss = 0.07723979\n",
      "Iteration 173, loss = 0.07698005\n",
      "Iteration 174, loss = 0.07672309\n",
      "Iteration 175, loss = 0.07647000\n",
      "Iteration 176, loss = 0.07621872\n",
      "Iteration 177, loss = 0.07597652\n",
      "Iteration 178, loss = 0.07572849\n",
      "Iteration 179, loss = 0.07549197\n",
      "Iteration 180, loss = 0.07525403\n",
      "Iteration 181, loss = 0.07501995\n",
      "Iteration 182, loss = 0.07479098\n",
      "Iteration 183, loss = 0.07456237\n",
      "Iteration 184, loss = 0.07433779\n",
      "Iteration 185, loss = 0.07411729\n",
      "Iteration 186, loss = 0.07389859\n",
      "Iteration 187, loss = 0.07368325\n",
      "Iteration 188, loss = 0.07346984\n",
      "Iteration 189, loss = 0.07325951\n",
      "Iteration 190, loss = 0.07305191\n",
      "Iteration 191, loss = 0.07284723\n",
      "Iteration 192, loss = 0.07264470\n",
      "Iteration 193, loss = 0.07244371\n",
      "Iteration 194, loss = 0.07224915\n",
      "Iteration 195, loss = 0.07205544\n",
      "Iteration 196, loss = 0.07186182\n",
      "Iteration 197, loss = 0.07167184\n",
      "Iteration 198, loss = 0.07148346\n",
      "Iteration 199, loss = 0.07129779\n",
      "Iteration 200, loss = 0.07111498\n",
      "Iteration 201, loss = 0.07093501\n",
      "Iteration 202, loss = 0.07075950\n",
      "Iteration 203, loss = 0.07058251\n",
      "Iteration 204, loss = 0.07040431\n",
      "Iteration 205, loss = 0.07023307\n",
      "Iteration 206, loss = 0.07006437\n",
      "Iteration 207, loss = 0.06989734\n",
      "Iteration 208, loss = 0.06973253\n",
      "Iteration 209, loss = 0.06956889\n",
      "Iteration 210, loss = 0.06940152\n",
      "Iteration 211, loss = 0.06924455\n",
      "Iteration 212, loss = 0.06908599\n",
      "Iteration 213, loss = 0.06892895\n",
      "Iteration 214, loss = 0.06877225\n",
      "Iteration 215, loss = 0.06862043\n",
      "Iteration 216, loss = 0.06846954\n",
      "Iteration 217, loss = 0.06831917\n",
      "Iteration 218, loss = 0.06817015\n",
      "Iteration 219, loss = 0.06802438\n",
      "Iteration 220, loss = 0.06788082\n",
      "Iteration 221, loss = 0.06773574\n",
      "Iteration 222, loss = 0.06759669\n",
      "Iteration 223, loss = 0.06745812\n",
      "Iteration 224, loss = 0.06732133\n",
      "Iteration 225, loss = 0.06718328\n",
      "Iteration 226, loss = 0.06704917\n",
      "Iteration 227, loss = 0.06691617\n",
      "Iteration 228, loss = 0.06678149\n",
      "Iteration 229, loss = 0.06664903\n",
      "Iteration 230, loss = 0.06652387\n",
      "Iteration 231, loss = 0.06639350\n",
      "Iteration 232, loss = 0.06627242\n",
      "Iteration 233, loss = 0.06614839\n",
      "Iteration 234, loss = 0.06601853\n",
      "Iteration 235, loss = 0.06589637\n",
      "Iteration 236, loss = 0.06577568\n",
      "Iteration 237, loss = 0.06565564\n",
      "Iteration 238, loss = 0.06553622\n",
      "Iteration 239, loss = 0.06541954\n",
      "Iteration 240, loss = 0.06530452\n",
      "Iteration 241, loss = 0.06518946\n",
      "Iteration 242, loss = 0.06507547\n",
      "Iteration 243, loss = 0.06496561\n",
      "Iteration 244, loss = 0.06486266\n",
      "Iteration 245, loss = 0.06473951\n",
      "Iteration 246, loss = 0.06463114\n",
      "Iteration 247, loss = 0.06452625\n",
      "Iteration 248, loss = 0.06441610\n",
      "Iteration 249, loss = 0.06431121\n",
      "Iteration 250, loss = 0.06421141\n",
      "Iteration 251, loss = 0.06410308\n",
      "Iteration 252, loss = 0.06400157\n",
      "Iteration 253, loss = 0.06389954\n",
      "Iteration 254, loss = 0.06379587\n",
      "Iteration 255, loss = 0.06369809\n",
      "Iteration 256, loss = 0.06360105\n",
      "Iteration 257, loss = 0.06350065\n",
      "Iteration 258, loss = 0.06340507\n"
     ]
    },
    {
     "name": "stdout",
     "output_type": "stream",
     "text": [
      "Iteration 259, loss = 0.06331347\n",
      "Iteration 260, loss = 0.06322514\n",
      "Training loss did not improve more than tol=0.000100 for two consecutive epochs. Setting learning rate to 0.000200\n",
      "Iteration 261, loss = 0.06314627\n",
      "Iteration 262, loss = 0.06311705\n",
      "Iteration 263, loss = 0.06309814\n",
      "Training loss did not improve more than tol=0.000100 for two consecutive epochs. Setting learning rate to 0.000040\n",
      "Iteration 264, loss = 0.06308341\n",
      "Iteration 265, loss = 0.06307874\n",
      "Iteration 266, loss = 0.06307490\n",
      "Training loss did not improve more than tol=0.000100 for two consecutive epochs. Setting learning rate to 0.000008\n",
      "Iteration 267, loss = 0.06307200\n",
      "Iteration 268, loss = 0.06307101\n",
      "Iteration 269, loss = 0.06307028\n",
      "Training loss did not improve more than tol=0.000100 for two consecutive epochs. Setting learning rate to 0.000002\n",
      "Iteration 270, loss = 0.06306968\n",
      "Iteration 271, loss = 0.06306949\n",
      "Iteration 272, loss = 0.06306934\n",
      "Training loss did not improve more than tol=0.000100 for two consecutive epochs. Setting learning rate to 0.000000\n",
      "Iteration 273, loss = 0.06306922\n",
      "Iteration 274, loss = 0.06306918\n",
      "Iteration 275, loss = 0.06306915\n",
      "Training loss did not improve more than tol=0.000100 for two consecutive epochs. Learning rate too small. Stopping.\n"
     ]
    },
    {
     "data": {
      "text/plain": [
       "MLPClassifier(activation='logistic', alpha=0.0001, batch_size='auto',\n",
       "       beta_1=0.9, beta_2=0.999, early_stopping=False, epsilon=1e-08,\n",
       "       hidden_layer_sizes=(5,), learning_rate='adaptive',\n",
       "       learning_rate_init=0.001, max_iter=500, momentum=0.9,\n",
       "       nesterovs_momentum=True, power_t=0.5, random_state=5, shuffle=True,\n",
       "       solver='sgd', tol=0.0001, validation_fraction=0.1, verbose=1,\n",
       "       warm_start=False)"
      ]
     },
     "execution_count": 145,
     "metadata": {},
     "output_type": "execute_result"
    }
   ],
   "source": [
    "mlp_orig2 = sklearn.neural_network.MLPClassifier(activation = \"logistic\", hidden_layer_sizes=(5,), max_iter = 500, solver='sgd', random_state=5, learning_rate = 'adaptive',verbose = 1)\n",
    "mlp_orig2.fit(middle,y_train2)"
   ]
  },
  {
   "cell_type": "code",
   "execution_count": 308,
   "metadata": {},
   "outputs": [],
   "source": [
    "theta = 0.5\n",
    "Ns = np.arange(11)\n",
    "middle = np.zeros((len(Ns),len(XT)))\n",
    "for idx_N,N in enumerate(Ns):\n",
    "    X = hill(XT,N,theta)\n",
    "    middle[idx_N]=mlp_orig.predict(X)\n",
    "    \n",
    "middleT=np.transpose(middle)"
   ]
  },
  {
   "cell_type": "code",
   "execution_count": 309,
   "metadata": {},
   "outputs": [
    {
     "data": {
      "text/plain": [
       "0.9818449460255152"
      ]
     },
     "execution_count": 309,
     "metadata": {},
     "output_type": "execute_result"
    }
   ],
   "source": [
    "mlp_orig2.score(middleT,yT)"
   ]
  },
  {
   "cell_type": "code",
   "execution_count": 232,
   "metadata": {},
   "outputs": [
    {
     "data": {
      "text/plain": [
       "(10000,)"
      ]
     },
     "execution_count": 232,
     "metadata": {},
     "output_type": "execute_result"
    }
   ],
   "source": [
    "yT.shape"
   ]
  },
  {
   "cell_type": "code",
   "execution_count": 233,
   "metadata": {},
   "outputs": [
    {
     "data": {
      "text/plain": [
       "(10000, 784)"
      ]
     },
     "execution_count": 233,
     "metadata": {},
     "output_type": "execute_result"
    }
   ],
   "source": [
    "XT.shape"
   ]
  },
  {
   "cell_type": "code",
   "execution_count": null,
   "metadata": {},
   "outputs": [],
   "source": []
  },
  {
   "cell_type": "code",
   "execution_count": 77,
   "metadata": {
    "scrolled": true
   },
   "outputs": [
    {
     "ename": "AttributeError",
     "evalue": "'MLPClassifier' object has no attribute 'test'",
     "output_type": "error",
     "traceback": [
      "\u001b[0;31m---------------------------------------------------------------------------\u001b[0m",
      "\u001b[0;31mAttributeError\u001b[0m                            Traceback (most recent call last)",
      "\u001b[0;32m<ipython-input-77-457ad471d83a>\u001b[0m in \u001b[0;36m<module>\u001b[0;34m()\u001b[0m\n\u001b[1;32m      9\u001b[0m     \u001b[0;32mfor\u001b[0m \u001b[0midx_N\u001b[0m\u001b[0;34m,\u001b[0m\u001b[0mN\u001b[0m \u001b[0;32min\u001b[0m \u001b[0menumerate\u001b[0m\u001b[0;34m(\u001b[0m\u001b[0mNs\u001b[0m\u001b[0;34m)\u001b[0m\u001b[0;34m:\u001b[0m\u001b[0;34m\u001b[0m\u001b[0m\n\u001b[1;32m     10\u001b[0m         \u001b[0mX1_adv_test\u001b[0m \u001b[0;34m=\u001b[0m \u001b[0mhill\u001b[0m\u001b[0;34m(\u001b[0m\u001b[0mX0_adv_test\u001b[0m\u001b[0;34m,\u001b[0m\u001b[0mN\u001b[0m\u001b[0;34m,\u001b[0m\u001b[0mtheta\u001b[0m\u001b[0;34m)\u001b[0m\u001b[0;34m\u001b[0m\u001b[0m\n\u001b[0;32m---> 11\u001b[0;31m         \u001b[0mtest\u001b[0m\u001b[0;34m[\u001b[0m\u001b[0midx_N\u001b[0m\u001b[0;34m,\u001b[0m\u001b[0midx_eps\u001b[0m\u001b[0;34m]\u001b[0m\u001b[0;34m=\u001b[0m\u001b[0mmlp_orig\u001b[0m\u001b[0;34m.\u001b[0m\u001b[0mtest\u001b[0m\u001b[0;34m(\u001b[0m\u001b[0mX1_adv_test\u001b[0m\u001b[0;34m,\u001b[0m\u001b[0my_test\u001b[0m\u001b[0;34m)\u001b[0m\u001b[0;34m\u001b[0m\u001b[0m\n\u001b[0m",
      "\u001b[0;31mAttributeError\u001b[0m: 'MLPClassifier' object has no attribute 'test'"
     ]
    }
   ],
   "source": [
    "X0_adv_test = np.zeros(X0_test.shape)\n",
    "theta = 0.5\n",
    "epsilon = np.arange(0,0.5,0.01)\n",
    "Ns = np.arange(11)\n",
    "score = np.zeros((len(Ns),len(epsilon)))\n",
    "for idx_eps,eps in enumerate(epsilon):\n",
    "    X0_adv_test[y_test == 3] = adv_per3(X0_test[y_test == 3],eps,delta)\n",
    "    X0_adv_test[y_test == 7] = adv_per7(X0_test[y_test == 7],eps,delta)\n",
    "    for idx_N,N in enumerate(Ns):\n",
    "        X1_adv_test = hill(X0_adv_test,N,theta)\n",
    "        score[idx_N,idx_eps]=mlp_orig.score(X1_adv_test,y_test)"
   ]
  },
  {
   "cell_type": "code",
   "execution_count": 75,
   "metadata": {
    "scrolled": true
   },
   "outputs": [
    {
     "data": {
      "image/png": "[encoded data removed]",
      "text/plain": [
       "<matplotlib.figure.Figure at 0x1a2825b400>"
      ]
     },
     "metadata": {},
     "output_type": "display_data"
    },
    {
     "data": {
      "image/png": "[encoded data removed]",
      "text/plain": [
       "<matplotlib.figure.Figure at 0x11a6654a8>"
      ]
     },
     "metadata": {},
     "output_type": "display_data"
    }
   ],
   "source": [
    "fig,ax = plt.subplots()\n",
    "for line in score[range(2,12,2),:]:\n",
    "    ax.plot(epsilon,line)\n",
    "    ax.set_title(r\"Even powers; $\\theta$ = %.1f\"%theta)\n",
    "    ax.set_xlabel(\"Epsilon\")\n",
    "    ax.set_ylabel(\"Accuracy\")\n",
    "    plt.legend([2,4,6,8,10], title = \"       N\")\n",
    "    #plt.savefig(\"../Figures/Even-powers.png\")\n",
    "    \n",
    "fig,ax = plt.subplots()\n",
    "for line in score[range(1,11,2),:]:\n",
    "    ax.plot(epsilon,line)\n",
    "    ax.set_title(r\"Odd powers; $\\theta$ = %.1f\"%theta)\n",
    "    ax.set_xlabel(\"Epsilon\")\n",
    "    ax.set_ylabel(\"Accuracy\")\n",
    "    plt.legend(range(1,11,2), title = \"        N\")\n",
    "    #plt.savefig(\"../Figures/Odd-powers.png\")\n",
    "\n",
    "plt.show()"
   ]
  },
  {
   "cell_type": "code",
   "execution_count": 59,
   "metadata": {},
   "outputs": [],
   "source": [
    "score_naive = np.zeros((len(epsilon),1))\n",
    "for idx_eps,eps in enumerate(epsilon):\n",
    "    X0_adv_test[y_test == 3] = adv_per3(X0_test[y_test == 3],eps,delta)\n",
    "    X0_adv_test[y_test == 7] = adv_per7(X0_test[y_test == 7],eps,delta)\n",
    "    score_naive[idx_eps]=mlp_orig.score(X0_adv_test,y_test)"
   ]
  },
  {
   "cell_type": "code",
   "execution_count": 60,
   "metadata": {},
   "outputs": [
    {
     "data": {
      "image/png": "[encoded data removed]",
      "text/plain": [
       "<matplotlib.figure.Figure at 0x10fc69b70>"
      ]
     },
     "metadata": {},
     "output_type": "display_data"
    }
   ],
   "source": [
    "for line in score_naive.T:\n",
    "    plt.plot(epsilon,line)\n",
    "    plt.title(\"Naive adversarial perturbation\")\n",
    "    plt.legend([\"No transformation\"])\n",
    "plt.show()"
   ]
  },
  {
   "cell_type": "code",
   "execution_count": null,
   "metadata": {},
   "outputs": [],
   "source": []
  },
  {
   "cell_type": "code",
   "execution_count": null,
   "metadata": {},
   "outputs": [],
   "source": []
  },
  {
   "cell_type": "code",
   "execution_count": null,
   "metadata": {},
   "outputs": [],
   "source": []
  },
  {
   "cell_type": "code",
   "execution_count": null,
   "metadata": {},
   "outputs": [],
   "source": []
  },
  {
   "cell_type": "code",
   "execution_count": null,
   "metadata": {},
   "outputs": [],
   "source": []
  },
  {
   "cell_type": "markdown",
   "metadata": {},
   "source": [
    "## Compute gradient manually"
   ]
  },
  {
   "cell_type": "code",
   "execution_count": 10,
   "metadata": {},
   "outputs": [],
   "source": [
    "def sigmoid(x):\n",
    "    return 1/(1+np.exp(-x))"
   ]
  },
  {
   "cell_type": "code",
   "execution_count": 11,
   "metadata": {},
   "outputs": [],
   "source": [
    "def relu(x):\n",
    "    for i in range(len(x)):\n",
    "        x[i] = np.max((0,x[i]))\n",
    "    return x"
   ]
  },
  {
   "cell_type": "code",
   "execution_count": 12,
   "metadata": {},
   "outputs": [],
   "source": [
    "def hill(x,n,theta):\n",
    "#     return x**n\n",
    "    return x**n/(x**n + theta**n)"
   ]
  },
  {
   "cell_type": "code",
   "execution_count": 13,
   "metadata": {},
   "outputs": [],
   "source": [
    "def score(x,use_hill,N,theta,mlp):\n",
    "    W = mlp.coefs_\n",
    "    b = mlp.intercepts_\n",
    "    if use_hill:\n",
    "        y = hill(x,N,theta)\n",
    "    else:\n",
    "        y = x[:]\n",
    "    return sigmoid(np.dot(relu(np.dot(y,W[0])+b[0]),W[1])+b[1])"
   ]
  },
  {
   "cell_type": "code",
   "execution_count": 14,
   "metadata": {},
   "outputs": [],
   "source": [
    "def grad_score(x,use_hill,N,theta,mlp):\n",
    "    grad = np.zeros(x.shape)\n",
    "    for i in range(len(x)):\n",
    "        yp = x.copy(); yp[i] += 10/255; \n",
    "        ym = x.copy(); ym[i] -= 10/255;\n",
    "        grad[i] = 255/2*(score(yp,use_hill,N,theta,mlp)-score(ym,use_hill,N,theta,mlp))\n",
    "    return grad"
   ]
  },
  {
   "cell_type": "code",
   "execution_count": 15,
   "metadata": {},
   "outputs": [],
   "source": [
    "def iter_grad(x0,use_hill,N,theta,mlp,eps):\n",
    "    num_iter = 0; \n",
    "    x = x0.copy()\n",
    "    pred = mlp.predict(x0.reshape(1,-1))\n",
    "    new_pred = mlp.predict(x.reshape(1,-1))\n",
    "    pm = (pred-5)/2 #3 -> -1; 7 -> +1\n",
    "    while new_pred == pred:\n",
    "        grad = grad_score(x,use_hill,N,theta,mlp)\n",
    "        x -= pm*eps*grad[:]\n",
    "        new_pred = mlp.predict(x.reshape(1,-1))\n",
    "        print(score(x,use_hill,N,theta,mlp))\n",
    "        num_iter += 1\n",
    "    return x,num_iter"
   ]
  },
  {
   "cell_type": "code",
   "execution_count": 16,
   "metadata": {},
   "outputs": [
    {
     "data": {
      "image/png": "[encoded data removed]",
      "text/plain": [
       "<matplotlib.figure.Figure at 0x15d7ab780>"
      ]
     },
     "metadata": {},
     "output_type": "display_data"
    }
   ],
   "source": [
    "use_hill=True;N=10;theta=0.5\n",
    "x0 = X0_test[y_test==3][1000]\n",
    "grad = grad_score(x0,True,N,theta,mlp_orig)\n",
    "plt.imshow(grad.reshape(28,28),cmap=plt.cm.gray)\n",
    "plt.axis('off');plt.show()"
   ]
  },
  {
   "cell_type": "code",
   "execution_count": 21,
   "metadata": {
    "scrolled": true
   },
   "outputs": [
    {
     "name": "stdout",
     "output_type": "stream",
     "text": [
      "[0.99974438]\n",
      "[0.99967377]\n",
      "[0.99958719]\n",
      "[0.99950201]\n",
      "[0.99943272]\n",
      "[0.9993761]\n",
      "[0.99932715]\n",
      "[0.99928423]\n",
      "[0.99924613]\n",
      "[0.99921094]\n",
      "[0.99917637]\n",
      "[0.99913971]\n",
      "[0.9990965]\n",
      "[0.99903809]\n",
      "[0.99895625]\n",
      "[0.99886442]\n",
      "[0.99875223]\n",
      "[0.99852028]\n",
      "[0.99830909]\n",
      "[0.99825342]\n",
      "[0.9982097]\n",
      "[0.99815806]\n",
      "[0.9980618]\n",
      "[0.99777888]\n",
      "[0.99733757]\n",
      "[0.99723265]\n",
      "[0.997112]\n",
      "[0.99689509]\n",
      "[0.99675982]\n",
      "[0.99656834]\n",
      "[0.9958072]\n",
      "[0.99295332]\n",
      "[0.99285109]\n",
      "[0.99279339]\n",
      "[0.99274333]\n",
      "[0.99268482]\n",
      "[0.99257579]\n",
      "[0.99196339]\n",
      "[0.98923573]\n",
      "[0.98825682]\n",
      "[0.98464329]\n",
      "[0.98453565]\n",
      "[0.98435471]\n",
      "[0.98365773]\n",
      "[0.96918899]\n",
      "[0.97395546]\n",
      "[0.94493904]\n",
      "[0.84103246]\n",
      "[0.87014672]\n"
     ]
    },
    {
     "data": {
      "image/png": "[encoded data removed]",
      "text/plain": [
       "<matplotlib.figure.Figure at 0x15e42dc88>"
      ]
     },
     "metadata": {},
     "output_type": "display_data"
    }
   ],
   "source": [
    "x0 = X0_test[y_test==7][1000]\n",
    "x1,num_iter = iter_grad(x0,True,10,theta,mlp_orig,5)\n",
    "fig,ax = plt.subplots(1,2)\n",
    "ax[0].imshow(x0.reshape(28,28),cmap=plt.cm.gray)\n",
    "ax[1].imshow(x1.reshape(28,28),cmap=plt.cm.gray)\n",
    "# ax[2].imshow(hill(x.reshape(28,28),N,theta),cmap=plt.cm.gray)\n",
    "\n",
    "[a.axis('off') for a in ax]\n",
    "plt.show()"
   ]
  },
  {
   "cell_type": "code",
   "execution_count": 22,
   "metadata": {
    "scrolled": true
   },
   "outputs": [
    {
     "name": "stdout",
     "output_type": "stream",
     "text": [
      "0.0\n"
     ]
    },
    {
     "data": {
      "image/png": "[encoded data removed]",
      "text/plain": [
       "<matplotlib.figure.Figure at 0x15e42d908>"
      ]
     },
     "metadata": {},
     "output_type": "display_data"
    },
    {
     "name": "stdout",
     "output_type": "stream",
     "text": [
      "0.0\n"
     ]
    },
    {
     "data": {
      "image/png": "[encoded data removed]",
      "text/plain": [
       "<matplotlib.figure.Figure at 0x15c175748>"
      ]
     },
     "metadata": {},
     "output_type": "display_data"
    },
    {
     "name": "stdout",
     "output_type": "stream",
     "text": [
      "0.012667277681188005\n"
     ]
    },
    {
     "data": {
      "image/png": "[encoded data removed]",
      "text/plain": [
       "<matplotlib.figure.Figure at 0x146189b70>"
      ]
     },
     "metadata": {},
     "output_type": "display_data"
    },
    {
     "name": "stdout",
     "output_type": "stream",
     "text": [
      "9.840516831621779e-05\n"
     ]
    },
    {
     "data": {
      "image/png": "[encoded data removed]",
      "text/plain": [
       "<matplotlib.figure.Figure at 0x1425ee8d0>"
      ]
     },
     "metadata": {},
     "output_type": "display_data"
    },
    {
     "name": "stdout",
     "output_type": "stream",
     "text": [
      "0.0\n"
     ]
    },
    {
     "data": {
      "image/png": "[encoded data removed]",
      "text/plain": [
       "<matplotlib.figure.Figure at 0x142938f28>"
      ]
     },
     "metadata": {},
     "output_type": "display_data"
    },
    {
     "name": "stdout",
     "output_type": "stream",
     "text": [
      "0.00027002782387235\n"
     ]
    },
    {
     "data": {
      "image/png": "[encoded data removed]",
      "text/plain": [
       "<matplotlib.figure.Figure at 0x142a9b1d0>"
      ]
     },
     "metadata": {},
     "output_type": "display_data"
    },
    {
     "name": "stdout",
     "output_type": "stream",
     "text": [
      "0.00861044320971547\n"
     ]
    },
    {
     "data": {
      "image/png": "[encoded data removed]",
      "text/plain": [
       "<matplotlib.figure.Figure at 0x142bda668>"
      ]
     },
     "metadata": {},
     "output_type": "display_data"
    },
    {
     "name": "stdout",
     "output_type": "stream",
     "text": [
      "0.24654179781750057\n"
     ]
    },
    {
     "data": {
      "image/png": "[encoded data removed]",
      "text/plain": [
       "<matplotlib.figure.Figure at 0x142d180b8>"
      ]
     },
     "metadata": {},
     "output_type": "display_data"
    },
    {
     "name": "stdout",
     "output_type": "stream",
     "text": [
      "0.0\n"
     ]
    },
    {
     "data": {
      "image/png": "[encoded data removed]",
      "text/plain": [
       "<matplotlib.figure.Figure at 0x142e2d860>"
      ]
     },
     "metadata": {},
     "output_type": "display_data"
    },
    {
     "name": "stdout",
     "output_type": "stream",
     "text": [
      "0.24477775807868357\n"
     ]
    },
    {
     "data": {
      "image/png": "[encoded data removed]",
      "text/plain": [
       "<matplotlib.figure.Figure at 0x142f8ce48>"
      ]
     },
     "metadata": {},
     "output_type": "display_data"
    }
   ],
   "source": [
    "sample = [int(len(X0_test)*random.random()) for _ in range(10)]\n",
    "\n",
    "for i in sample:\n",
    "    x = X0_test[i]\n",
    "    grad_xF = grad_score(x,False,0,0,mlp_orig)\n",
    "    print(sum(grad_xF**2))\n",
    "    grad_xT = grad_score(x,True,10,0.5,mlp_orig)\n",
    "    fig,ax = plt.subplots(1,3)\n",
    "    ax[0].imshow(x.reshape(28,28),cmap=plt.cm.gray)\n",
    "    ax[1].imshow((grad_xF).reshape(28,28),cmap=plt.cm.gray)\n",
    "    ax[2].imshow((grad_xT).reshape(28,28),cmap=plt.cm.gray)\n",
    "    [a.axis('off') for a in ax]\n",
    "    plt.show()\n",
    "# print(grad)"
   ]
  },
  {
   "cell_type": "code",
   "execution_count": 34,
   "metadata": {},
   "outputs": [
    {
     "name": "stdout",
     "output_type": "stream",
     "text": [
      "[0.01646657]\n",
      "3.0\n"
     ]
    }
   ],
   "source": [
    "print(score(x,False,0,0,mlp_orig))\n",
    "print(y_test[num])"
   ]
  },
  {
   "cell_type": "code",
   "execution_count": 40,
   "metadata": {
    "scrolled": true
   },
   "outputs": [
    {
     "name": "stdout",
     "output_type": "stream",
     "text": [
      "3.0\n",
      "0\n"
     ]
    },
    {
     "data": {
      "image/png": "[encoded data removed]",
      "text/plain": [
       "<Figure size 432x288 with 3 Axes>"
      ]
     },
     "metadata": {},
     "output_type": "display_data"
    }
   ],
   "source": [
    "num = 1360\n",
    "eps = 0.5\n",
    "use_hill = True\n",
    "N = 2\n",
    "theta = 0.8\n",
    "x = X0_test[y_test == 3][num].copy()\n",
    "pred = y_test[y_test == 3][num]\n",
    "# pred = score(x,use_hill,N,theta,mlp_orig)\n",
    "print(pred)\n",
    "num_iter = 0\n",
    "# while pred == y_test[num]:\n",
    "while pred < 0.98:\n",
    "    print(score(x,use_hill,N,theta,mlp_orig))\n",
    "    grad = grad_score(x,use_hill,N,theta,mlp_orig)\n",
    "    if y_test[num] == 3:\n",
    "        x += eps*grad[:]\n",
    "    elif y_test[num] == 7:\n",
    "        x -= eps*grad[:]\n",
    "#     pred = mlp_orig.predict(x.reshape(1,-1))\n",
    "    pred = score(x,use_hill,N,theta,mlp_orig)\n",
    "    num_iter += 1\n",
    "print(num_iter)\n",
    "fig,ax = plt.subplots(1,3)\n",
    "ax[0].imshow(X0_test[y_test == 3][num].reshape(28,28),cmap=plt.cm.gray)\n",
    "ax[1].imshow(grad.reshape(28,28),cmap=plt.cm.gray)\n",
    "ax[2].imshow(hill(x.reshape(28,28),N,theta),cmap=plt.cm.gray)\n",
    "[a.axis('off') for a in ax]\n",
    "plt.show()"
   ]
  },
  {
   "cell_type": "code",
   "execution_count": 588,
   "metadata": {
    "scrolled": true
   },
   "outputs": [
    {
     "name": "stdout",
     "output_type": "stream",
     "text": [
      "2 [4.]\n"
     ]
    },
    {
     "data": {
      "image/png": "[encoded data removed]",
      "text/plain": [
       "<matplotlib.figure.Figure at 0x13e0df160>"
      ]
     },
     "metadata": {},
     "output_type": "display_data"
    },
    {
     "name": "stdout",
     "output_type": "stream",
     "text": [
      "6 [4.]\n"
     ]
    },
    {
     "data": {
      "image/png": "[encoded data removed]",
      "text/plain": [
       "<matplotlib.figure.Figure at 0x13e3f95c0>"
      ]
     },
     "metadata": {},
     "output_type": "display_data"
    },
    {
     "name": "stdout",
     "output_type": "stream",
     "text": [
      "10 [4.]\n"
     ]
    },
    {
     "data": {
      "image/png": "[encoded data removed]",
      "text/plain": [
       "<matplotlib.figure.Figure at 0x13e493f28>"
      ]
     },
     "metadata": {},
     "output_type": "display_data"
    },
    {
     "name": "stdout",
     "output_type": "stream",
     "text": [
      "14 [4.]\n"
     ]
    },
    {
     "data": {
      "image/png": "[encoded data removed]",
      "text/plain": [
       "<matplotlib.figure.Figure at 0x13ef78be0>"
      ]
     },
     "metadata": {},
     "output_type": "display_data"
    },
    {
     "name": "stdout",
     "output_type": "stream",
     "text": [
      "18 [4.]\n"
     ]
    },
    {
     "data": {
      "image/png": "[encoded data removed]",
      "text/plain": [
       "<matplotlib.figure.Figure at 0x13de2ff60>"
      ]
     },
     "metadata": {},
     "output_type": "display_data"
    },
    {
     "name": "stdout",
     "output_type": "stream",
     "text": [
      "22 [4.]\n"
     ]
    },
    {
     "data": {
      "image/png": "[encoded data removed]",
      "text/plain": [
       "<matplotlib.figure.Figure at 0x13e97cfd0>"
      ]
     },
     "metadata": {},
     "output_type": "display_data"
    },
    {
     "name": "stdout",
     "output_type": "stream",
     "text": [
      "26 [4.]\n"
     ]
    },
    {
     "data": {
      "image/png": "[encoded data removed]",
      "text/plain": [
       "<matplotlib.figure.Figure at 0x14b1ba780>"
      ]
     },
     "metadata": {},
     "output_type": "display_data"
    }
   ],
   "source": [
    "for i in np.arange(2,30,4):\n",
    "    y = hill(x.reshape(1,-1),i,theta)\n",
    "    print(i, mlp_orig.predict(y))\n",
    "    fig,ax = plt.subplots(1,2)\n",
    "    ax[0].imshow(hill(X0_test[num].reshape(28,28),i,theta),cmap=plt.cm.gray)\n",
    "    ax[1].imshow(y.reshape(28,28),cmap=plt.cm.gray)\n",
    "    [a.axis('off') for a in ax]\n",
    "    plt.show()"
   ]
  },
  {
   "cell_type": "code",
   "execution_count": 109,
   "metadata": {
    "scrolled": true
   },
   "outputs": [
    {
     "name": "stdout",
     "output_type": "stream",
     "text": [
      "[760, 406, 638, 1045, 322]\n",
      "[0.99771786]\n",
      "[0.99979101]\n",
      "[0.97157543]\n",
      "[0.9999972]\n",
      "[0.99999471]\n"
     ]
    },
    {
     "data": {
      "image/png": "[encoded data removed]",
      "text/plain": [
       "<Figure size 432x288 with 1 Axes>"
      ]
     },
     "metadata": {},
     "output_type": "display_data"
    },
    {
     "data": {
      "image/png": "[encoded data removed]",
      "text/plain": [
       "<Figure size 432x288 with 1 Axes>"
      ]
     },
     "metadata": {},
     "output_type": "display_data"
    },
    {
     "data": {
      "image/png": "[encoded data removed]",
      "text/plain": [
       "<Figure size 432x288 with 1 Axes>"
      ]
     },
     "metadata": {},
     "output_type": "display_data"
    },
    {
     "data": {
      "image/png": "[encoded data removed]",
      "text/plain": [
       "<Figure size 432x288 with 1 Axes>"
      ]
     },
     "metadata": {},
     "output_type": "display_data"
    },
    {
     "data": {
      "image/png": "[encoded data removed]",
      "text/plain": [
       "<Figure size 432x288 with 1 Axes>"
      ]
     },
     "metadata": {},
     "output_type": "display_data"
    }
   ],
   "source": [
    "sample = [int(len(X0_test[y_test == 7])*random.random()) for _ in range(5)]\n",
    "print(sample)\n",
    "score7 = [print(score(X0_test[y_test == 7][i],False,0,0,mlp_orig)) for i in sample]\n",
    "for i in sample:\n",
    "    x = X0_test[y_test == 7][i]\n",
    "    plt.imshow(x.reshape(28,28),cmap=plt.cm.gray)\n",
    "    plt.axis('off')\n",
    "    plt.show()"
   ]
  },
  {
   "cell_type": "code",
   "execution_count": 141,
   "metadata": {},
   "outputs": [
    {
     "name": "stdout",
     "output_type": "stream",
     "text": [
      "array([[1., 1., 1., 1., 1.],\n",
      "       [1., 1., 1., 1., 1.],\n",
      "       [1., 1., 1., 1., 1.],\n",
      "       [1., 1., 1., 1., 1.],\n",
      "       [1., 1., 1., 1., 1.],\n",
      "       [1., 1., 1., 1., 1.]])\n",
      "array([[1., 1., 1., 1., 1.],\n",
      "       [1., 1., 1., 1., 1.],\n",
      "       [1., 1., 1., 1., 1.],\n",
      "       [1., 1., 1., 1., 1.],\n",
      "       [1., 1., 1., 1., 1.],\n",
      "       [1., 1., 1., 1., 1.]])\n"
     ]
    }
   ],
   "source": [
    "N = 2; theta = 0.8\n",
    "sample = [1359, 189, 1314, 366, 1129, 1045]\n",
    "epsilon = np.arange(0.2,1.2,0.2)\n",
    "num_iter_table = [np.zeros((len(sample),len(epsilon)))]*2\n",
    "\n",
    "for i,x in enumerate(X0_test[y_test==7][sample]):\n",
    "    for j,eps in enumerate(epsilon):\n",
    "        num_iter_table[0][i,j] = iter_grad(x,7,False,N,theta,mlp_orig,eps)\n",
    "        num_iter_table[1][i,j] = iter_grad(x,7,True,N,theta,mlp_orig,eps)\n",
    "pprint(num_iter_table[0])\n",
    "pprint(num_iter_table[1])"
   ]
  },
  {
   "cell_type": "code",
   "execution_count": null,
   "metadata": {},
   "outputs": [],
   "source": []
  }
 ],
 "metadata": {
  "kernelspec": {
   "display_name": "Python 3",
   "language": "python",
   "name": "python3"
  },
  "language_info": {
   "codemirror_mode": {
    "name": "ipython",
    "version": 3
   },
   "file_extension": ".py",
   "mimetype": "text/x-python",
   "name": "python",
   "nbconvert_exporter": "python",
   "pygments_lexer": "ipython3",
   "version": "3.6.4"
  }
 },
 "nbformat": 4,
 "nbformat_minor": 2
}
