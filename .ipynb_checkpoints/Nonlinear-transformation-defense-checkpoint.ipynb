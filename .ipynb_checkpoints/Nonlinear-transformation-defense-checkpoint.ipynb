{
 "cells": [
  {
   "cell_type": "markdown",
   "metadata": {},
   "source": [
    "## Produce digits of power"
   ]
  },
  {
   "cell_type": "code",
   "execution_count": 157,
   "metadata": {},
   "outputs": [],
   "source": [
    "# Import dependencies\n",
    "import numpy as np\n",
    "import pandas as pd\n",
    "import matplotlib.pyplot as plt\n",
    "from pprint import pprint\n",
    "\n",
    "import random\n",
    "import pickle\n",
    "\n",
    "import sklearn.datasets\n",
    "import sklearn.model_selection\n",
    "\n",
    "import sklearn.neural_network"
   ]
  },
  {
   "cell_type": "code",
   "execution_count": 158,
   "metadata": {},
   "outputs": [],
   "source": [
    "from keras.datasets import mnist\n",
    "from keras.layers import Dense, Flatten\n",
    "(X, y), (x_test, y_test) = mnist.load_data()"
   ]
  },
  {
   "cell_type": "code",
   "execution_count": 159,
   "metadata": {},
   "outputs": [],
   "source": [
    "Ns = [1000,1020,1040,1060,1080,1100,112,114]"
   ]
  },
  {
   "cell_type": "code",
   "execution_count": 160,
   "metadata": {},
   "outputs": [],
   "source": [
    "X=X/255\n",
    "XT=x_test/255\n",
    "yT=y_test"
   ]
  },
  {
   "cell_type": "code",
   "execution_count": 161,
   "metadata": {},
   "outputs": [],
   "source": [
    "X=X.reshape(60000, 28**2)\n",
    "XT=XT.reshape(10000, 28**2)"
   ]
  },
  {
   "cell_type": "code",
   "execution_count": 162,
   "metadata": {},
   "outputs": [],
   "source": [
    "# Call MNIST and keep 3s and 7s\n",
    "#mnist = sklearn.datasets.fetch_mldata(\"MNIST original\")\n",
    "\n",
    "# Rescale the data and extract all images for two digits\n",
    "#X, y = mnist.data / 255., mnist.target\n",
    "\n",
    "index = np.where((y == 3) | (y == 7))[0]\n",
    "X0,y = X[index], y[index]\n",
    "\n",
    "Index = np.where((yT == 3) | (yT == 7))[0]\n",
    "XT,yT = XT[Index], yT[Index]\n",
    "\n",
    "X0_train1, X0_train2, y_train1, y_train2 = sklearn.model_selection.train_test_split(X0, y, test_size=0.5)"
   ]
  },
  {
   "cell_type": "code",
   "execution_count": 163,
   "metadata": {},
   "outputs": [
    {
     "name": "stdout",
     "output_type": "stream",
     "text": [
      "Iteration 1, loss = 0.68619330\n",
      "Iteration 2, loss = 0.53858317\n",
      "Iteration 3, loss = 0.45165975\n",
      "Iteration 4, loss = 0.40735811\n",
      "Iteration 5, loss = 0.37894279\n",
      "Iteration 6, loss = 0.35778774\n",
      "Iteration 7, loss = 0.34070941\n",
      "Iteration 8, loss = 0.32612511\n",
      "Iteration 9, loss = 0.31332968\n",
      "Iteration 10, loss = 0.30189659\n",
      "Iteration 11, loss = 0.29147917\n",
      "Iteration 12, loss = 0.28190135\n",
      "Iteration 13, loss = 0.27307075\n",
      "Iteration 14, loss = 0.26483651\n",
      "Iteration 15, loss = 0.25723066\n",
      "Iteration 16, loss = 0.25005172\n",
      "Iteration 17, loss = 0.24337246\n",
      "Iteration 18, loss = 0.23709310\n",
      "Iteration 19, loss = 0.23119184\n",
      "Iteration 20, loss = 0.22559512\n",
      "Iteration 21, loss = 0.22033530\n",
      "Iteration 22, loss = 0.21529102\n",
      "Iteration 23, loss = 0.21054846\n",
      "Iteration 24, loss = 0.20604587\n",
      "Iteration 25, loss = 0.20171309\n",
      "Iteration 26, loss = 0.19763241\n",
      "Iteration 27, loss = 0.19374030\n",
      "Iteration 28, loss = 0.19002035\n",
      "Iteration 29, loss = 0.18643374\n",
      "Iteration 30, loss = 0.18305425\n",
      "Iteration 31, loss = 0.17976982\n",
      "Iteration 32, loss = 0.17664843\n",
      "Iteration 33, loss = 0.17365087\n",
      "Iteration 34, loss = 0.17076943\n",
      "Iteration 35, loss = 0.16800764\n",
      "Iteration 36, loss = 0.16538670\n",
      "Iteration 37, loss = 0.16285379\n",
      "Iteration 38, loss = 0.16035876\n",
      "Iteration 39, loss = 0.15799256\n",
      "Iteration 40, loss = 0.15569872\n",
      "Iteration 41, loss = 0.15352746\n",
      "Iteration 42, loss = 0.15142064\n",
      "Iteration 43, loss = 0.14936329\n",
      "Iteration 44, loss = 0.14741852\n",
      "Iteration 45, loss = 0.14548766\n",
      "Iteration 46, loss = 0.14364572\n",
      "Iteration 47, loss = 0.14184873\n",
      "Iteration 48, loss = 0.14015545\n",
      "Iteration 49, loss = 0.13844813\n",
      "Iteration 50, loss = 0.13683027\n",
      "Iteration 51, loss = 0.13525908\n",
      "Iteration 52, loss = 0.13373510\n",
      "Iteration 53, loss = 0.13225184\n",
      "Iteration 54, loss = 0.13079620\n",
      "Iteration 55, loss = 0.12940098\n",
      "Iteration 56, loss = 0.12803976\n",
      "Iteration 57, loss = 0.12673169\n",
      "Iteration 58, loss = 0.12545449\n",
      "Iteration 59, loss = 0.12419468\n",
      "Iteration 60, loss = 0.12296399\n",
      "Iteration 61, loss = 0.12179429\n",
      "Iteration 62, loss = 0.12061302\n",
      "Iteration 63, loss = 0.11948666\n",
      "Iteration 64, loss = 0.11839579\n",
      "Iteration 65, loss = 0.11732099\n",
      "Iteration 66, loss = 0.11628007\n",
      "Iteration 67, loss = 0.11526755\n",
      "Iteration 68, loss = 0.11424738\n",
      "Iteration 69, loss = 0.11329969\n",
      "Iteration 70, loss = 0.11231990\n",
      "Iteration 71, loss = 0.11141185\n",
      "Iteration 72, loss = 0.11050597\n",
      "Iteration 73, loss = 0.10962007\n",
      "Iteration 74, loss = 0.10874074\n",
      "Iteration 75, loss = 0.10791381\n",
      "Iteration 76, loss = 0.10706088\n",
      "Iteration 77, loss = 0.10624895\n",
      "Iteration 78, loss = 0.10545146\n",
      "Iteration 79, loss = 0.10470170\n",
      "Iteration 80, loss = 0.10391357\n",
      "Iteration 81, loss = 0.10315389\n",
      "Iteration 82, loss = 0.10241528\n",
      "Iteration 83, loss = 0.10168768\n",
      "Iteration 84, loss = 0.10097868\n",
      "Iteration 85, loss = 0.10029489\n",
      "Iteration 86, loss = 0.09961970\n",
      "Iteration 87, loss = 0.09896003\n",
      "Iteration 88, loss = 0.09827885\n",
      "Iteration 89, loss = 0.09765369\n",
      "Iteration 90, loss = 0.09702433\n",
      "Iteration 91, loss = 0.09641343\n",
      "Iteration 92, loss = 0.09580892\n",
      "Iteration 93, loss = 0.09519521\n",
      "Iteration 94, loss = 0.09461321\n",
      "Iteration 95, loss = 0.09404296\n",
      "Iteration 96, loss = 0.09345899\n",
      "Iteration 97, loss = 0.09291359\n",
      "Iteration 98, loss = 0.09236649\n",
      "Iteration 99, loss = 0.09183843\n",
      "Iteration 100, loss = 0.09129068\n",
      "Iteration 101, loss = 0.09076583\n",
      "Iteration 102, loss = 0.09025257\n",
      "Iteration 103, loss = 0.08975075\n",
      "Iteration 104, loss = 0.08926415\n",
      "Iteration 105, loss = 0.08876341\n",
      "Iteration 106, loss = 0.08828911\n",
      "Iteration 107, loss = 0.08779245\n",
      "Iteration 108, loss = 0.08734063\n",
      "Iteration 109, loss = 0.08685956\n",
      "Iteration 110, loss = 0.08640967\n",
      "Iteration 111, loss = 0.08595778\n",
      "Iteration 112, loss = 0.08550604\n",
      "Iteration 113, loss = 0.08507923\n",
      "Iteration 114, loss = 0.08463442\n",
      "Iteration 115, loss = 0.08421719\n",
      "Iteration 116, loss = 0.08380471\n",
      "Iteration 117, loss = 0.08338735\n",
      "Iteration 118, loss = 0.08299728\n",
      "Iteration 119, loss = 0.08271670\n",
      "Iteration 120, loss = 0.08216856\n",
      "Iteration 121, loss = 0.08178875\n",
      "Iteration 122, loss = 0.08139667\n",
      "Iteration 123, loss = 0.08104262\n",
      "Iteration 124, loss = 0.08065789\n",
      "Iteration 125, loss = 0.08025370\n",
      "Iteration 126, loss = 0.07989991\n",
      "Iteration 127, loss = 0.07953848\n",
      "Iteration 128, loss = 0.07914494\n",
      "Iteration 129, loss = 0.07880028\n",
      "Iteration 130, loss = 0.07842875\n",
      "Iteration 131, loss = 0.07809541\n",
      "Iteration 132, loss = 0.07776541\n",
      "Iteration 133, loss = 0.07746171\n",
      "Iteration 134, loss = 0.07706167\n",
      "Iteration 135, loss = 0.07673043\n",
      "Iteration 136, loss = 0.07640611\n",
      "Iteration 137, loss = 0.07607935\n",
      "Iteration 138, loss = 0.07575398\n",
      "Iteration 139, loss = 0.07543900\n",
      "Iteration 140, loss = 0.07514116\n",
      "Iteration 141, loss = 0.07483447\n",
      "Iteration 142, loss = 0.07450138\n",
      "Iteration 143, loss = 0.07419325\n",
      "Iteration 144, loss = 0.07390048\n",
      "Iteration 145, loss = 0.07359716\n",
      "Iteration 146, loss = 0.07331802\n",
      "Iteration 147, loss = 0.07304439\n",
      "Iteration 148, loss = 0.07280404\n",
      "Iteration 149, loss = 0.07245491\n",
      "Iteration 150, loss = 0.07218534\n",
      "Iteration 151, loss = 0.07191466\n",
      "Iteration 152, loss = 0.07163247\n",
      "Iteration 153, loss = 0.07134307\n",
      "Iteration 154, loss = 0.07108064\n",
      "Iteration 155, loss = 0.07082797\n",
      "Iteration 156, loss = 0.07055741\n",
      "Iteration 157, loss = 0.07030591\n",
      "Iteration 158, loss = 0.07006275\n",
      "Iteration 159, loss = 0.06977593\n",
      "Iteration 160, loss = 0.06950931\n",
      "Iteration 161, loss = 0.06926620\n",
      "Iteration 162, loss = 0.06902038\n",
      "Iteration 163, loss = 0.06877757\n",
      "Iteration 164, loss = 0.06852761\n",
      "Iteration 165, loss = 0.06828891\n",
      "Iteration 166, loss = 0.06803886\n",
      "Iteration 167, loss = 0.06780188\n",
      "Iteration 168, loss = 0.06758075\n",
      "Iteration 169, loss = 0.06737367\n",
      "Iteration 170, loss = 0.06713642\n",
      "Iteration 171, loss = 0.06689873\n",
      "Iteration 172, loss = 0.06664969\n",
      "Iteration 173, loss = 0.06643409\n",
      "Iteration 174, loss = 0.06620457\n",
      "Iteration 175, loss = 0.06599378\n",
      "Iteration 176, loss = 0.06577566\n",
      "Iteration 177, loss = 0.06555771\n",
      "Iteration 178, loss = 0.06534338\n",
      "Iteration 179, loss = 0.06513464\n",
      "Iteration 180, loss = 0.06493462\n",
      "Iteration 181, loss = 0.06475881\n",
      "Iteration 182, loss = 0.06448998\n",
      "Iteration 183, loss = 0.06429579\n",
      "Iteration 184, loss = 0.06411974\n",
      "Iteration 185, loss = 0.06387507\n",
      "Iteration 186, loss = 0.06368459\n",
      "Iteration 187, loss = 0.06348813\n",
      "Iteration 188, loss = 0.06327656\n",
      "Iteration 189, loss = 0.06312196\n",
      "Iteration 190, loss = 0.06291597\n",
      "Iteration 191, loss = 0.06269600\n",
      "Iteration 192, loss = 0.06250083\n",
      "Iteration 193, loss = 0.06233150\n",
      "Iteration 194, loss = 0.06218441\n",
      "Iteration 195, loss = 0.06192996\n",
      "Iteration 196, loss = 0.06176621\n",
      "Iteration 197, loss = 0.06155628\n",
      "Iteration 198, loss = 0.06136154\n",
      "Iteration 199, loss = 0.06117975\n",
      "Iteration 200, loss = 0.06099274\n",
      "Iteration 201, loss = 0.06081224\n",
      "Iteration 202, loss = 0.06063599\n",
      "Iteration 203, loss = 0.06045516\n",
      "Iteration 204, loss = 0.06027448\n",
      "Iteration 205, loss = 0.06008831\n",
      "Iteration 206, loss = 0.05991171\n",
      "Iteration 207, loss = 0.05974620\n",
      "Iteration 208, loss = 0.05956691\n",
      "Iteration 209, loss = 0.05938544\n",
      "Iteration 210, loss = 0.05923058\n",
      "Iteration 211, loss = 0.05903973\n",
      "Iteration 212, loss = 0.05886167\n",
      "Iteration 213, loss = 0.05870696\n",
      "Iteration 214, loss = 0.05853078\n",
      "Iteration 215, loss = 0.05836382\n",
      "Iteration 216, loss = 0.05821597\n",
      "Iteration 217, loss = 0.05802442\n",
      "Iteration 218, loss = 0.05787694\n",
      "Iteration 219, loss = 0.05770034\n",
      "Iteration 220, loss = 0.05754033\n",
      "Iteration 221, loss = 0.05736854\n",
      "Iteration 222, loss = 0.05721663\n",
      "Iteration 223, loss = 0.05704655\n",
      "Iteration 224, loss = 0.05689491\n",
      "Iteration 225, loss = 0.05672497\n",
      "Iteration 226, loss = 0.05657098\n",
      "Iteration 227, loss = 0.05642763\n",
      "Iteration 228, loss = 0.05624252\n",
      "Iteration 229, loss = 0.05611086\n",
      "Iteration 230, loss = 0.05593043\n",
      "Iteration 231, loss = 0.05578152\n",
      "Iteration 232, loss = 0.05567260\n",
      "Iteration 233, loss = 0.05546248\n",
      "Iteration 234, loss = 0.05530933\n",
      "Iteration 235, loss = 0.05516868\n",
      "Iteration 236, loss = 0.05501464\n",
      "Iteration 237, loss = 0.05485404\n",
      "Iteration 238, loss = 0.05471843\n",
      "Iteration 239, loss = 0.05456233\n",
      "Iteration 240, loss = 0.05442290\n",
      "Iteration 241, loss = 0.05426947\n",
      "Iteration 242, loss = 0.05411739\n",
      "Iteration 243, loss = 0.05399619\n",
      "Iteration 244, loss = 0.05384353\n",
      "Iteration 245, loss = 0.05369667\n",
      "Iteration 246, loss = 0.05356106\n",
      "Iteration 247, loss = 0.05341472\n",
      "Iteration 248, loss = 0.05327575\n",
      "Iteration 249, loss = 0.05314012\n",
      "Iteration 250, loss = 0.05300530\n",
      "Iteration 251, loss = 0.05286914\n",
      "Iteration 252, loss = 0.05274376\n",
      "Iteration 253, loss = 0.05259027\n",
      "Iteration 254, loss = 0.05246608\n"
     ]
    },
    {
     "name": "stdout",
     "output_type": "stream",
     "text": [
      "Iteration 255, loss = 0.05232001\n",
      "Iteration 256, loss = 0.05219342\n",
      "Iteration 257, loss = 0.05210563\n",
      "Iteration 258, loss = 0.05193414\n",
      "Iteration 259, loss = 0.05179456\n",
      "Iteration 260, loss = 0.05167567\n",
      "Iteration 261, loss = 0.05154829\n",
      "Iteration 262, loss = 0.05142894\n",
      "Iteration 263, loss = 0.05128200\n",
      "Iteration 264, loss = 0.05115287\n",
      "Iteration 265, loss = 0.05103149\n",
      "Iteration 266, loss = 0.05091191\n",
      "Iteration 267, loss = 0.05078694\n",
      "Iteration 268, loss = 0.05068579\n",
      "Iteration 269, loss = 0.05055784\n",
      "Iteration 270, loss = 0.05042163\n",
      "Iteration 271, loss = 0.05028458\n",
      "Iteration 272, loss = 0.05017762\n",
      "Iteration 273, loss = 0.05004786\n",
      "Iteration 274, loss = 0.04991995\n",
      "Iteration 275, loss = 0.04979829\n",
      "Iteration 276, loss = 0.04970051\n",
      "Iteration 277, loss = 0.04955486\n",
      "Iteration 278, loss = 0.04946313\n",
      "Iteration 279, loss = 0.04934263\n",
      "Iteration 280, loss = 0.04922126\n",
      "Iteration 281, loss = 0.04913015\n",
      "Iteration 282, loss = 0.04898803\n",
      "Iteration 283, loss = 0.04886603\n",
      "Iteration 284, loss = 0.04875397\n",
      "Iteration 285, loss = 0.04863461\n",
      "Iteration 286, loss = 0.04852261\n",
      "Iteration 287, loss = 0.04841547\n",
      "Iteration 288, loss = 0.04829181\n",
      "Iteration 289, loss = 0.04820534\n",
      "Iteration 290, loss = 0.04808504\n",
      "Iteration 291, loss = 0.04798165\n",
      "Iteration 292, loss = 0.04787072\n",
      "Iteration 293, loss = 0.04774810\n",
      "Iteration 294, loss = 0.04764834\n",
      "Iteration 295, loss = 0.04754066\n",
      "Iteration 296, loss = 0.04741601\n",
      "Iteration 297, loss = 0.04731946\n",
      "Iteration 298, loss = 0.04721663\n",
      "Iteration 299, loss = 0.04711184\n",
      "Iteration 300, loss = 0.04699348\n",
      "Iteration 301, loss = 0.04687875\n",
      "Iteration 302, loss = 0.04678683\n",
      "Iteration 303, loss = 0.04667511\n",
      "Iteration 304, loss = 0.04659872\n",
      "Iteration 305, loss = 0.04648220\n",
      "Iteration 306, loss = 0.04638213\n",
      "Iteration 307, loss = 0.04626312\n",
      "Iteration 308, loss = 0.04615340\n",
      "Iteration 309, loss = 0.04605637\n",
      "Iteration 310, loss = 0.04595337\n",
      "Iteration 311, loss = 0.04586972\n",
      "Iteration 312, loss = 0.04576541\n",
      "Iteration 313, loss = 0.04566232\n",
      "Iteration 314, loss = 0.04555537\n",
      "Iteration 315, loss = 0.04547296\n",
      "Iteration 316, loss = 0.04536807\n",
      "Iteration 317, loss = 0.04526098\n",
      "Iteration 318, loss = 0.04517245\n",
      "Iteration 319, loss = 0.04507401\n",
      "Iteration 320, loss = 0.04496429\n",
      "Iteration 321, loss = 0.04489570\n",
      "Iteration 322, loss = 0.04478287\n",
      "Iteration 323, loss = 0.04470178\n",
      "Iteration 324, loss = 0.04457824\n",
      "Iteration 325, loss = 0.04449833\n",
      "Iteration 326, loss = 0.04438676\n",
      "Iteration 327, loss = 0.04431318\n",
      "Iteration 328, loss = 0.04420240\n",
      "Iteration 329, loss = 0.04410029\n",
      "Iteration 330, loss = 0.04401241\n",
      "Iteration 331, loss = 0.04393789\n",
      "Iteration 332, loss = 0.04382265\n",
      "Iteration 333, loss = 0.04373003\n",
      "Iteration 334, loss = 0.04363083\n",
      "Iteration 335, loss = 0.04353514\n",
      "Training loss did not improve more than tol=0.000100 for two consecutive epochs. Setting learning rate to 0.000200\n",
      "Iteration 336, loss = 0.04343783\n",
      "Iteration 337, loss = 0.04341224\n",
      "Iteration 338, loss = 0.04339933\n",
      "Training loss did not improve more than tol=0.000100 for two consecutive epochs. Setting learning rate to 0.000040\n",
      "Iteration 339, loss = 0.04337376\n",
      "Iteration 340, loss = 0.04336922\n",
      "Iteration 341, loss = 0.04336557\n",
      "Training loss did not improve more than tol=0.000100 for two consecutive epochs. Setting learning rate to 0.000008\n",
      "Iteration 342, loss = 0.04336140\n",
      "Iteration 343, loss = 0.04336045\n",
      "Iteration 344, loss = 0.04335981\n",
      "Training loss did not improve more than tol=0.000100 for two consecutive epochs. Setting learning rate to 0.000002\n",
      "Iteration 345, loss = 0.04335891\n",
      "Iteration 346, loss = 0.04335866\n",
      "Iteration 347, loss = 0.04335852\n",
      "Training loss did not improve more than tol=0.000100 for two consecutive epochs. Setting learning rate to 0.000000\n",
      "Iteration 348, loss = 0.04335835\n",
      "Iteration 349, loss = 0.04335830\n",
      "Iteration 350, loss = 0.04335828\n",
      "Training loss did not improve more than tol=0.000100 for two consecutive epochs. Learning rate too small. Stopping.\n"
     ]
    },
    {
     "data": {
      "text/plain": [
       "MLPClassifier(activation='relu', alpha=0.0001, batch_size='auto', beta_1=0.9,\n",
       "       beta_2=0.999, early_stopping=False, epsilon=1e-08,\n",
       "       hidden_layer_sizes=(4,), learning_rate='adaptive',\n",
       "       learning_rate_init=0.001, max_iter=500, momentum=0.9,\n",
       "       nesterovs_momentum=True, power_t=0.5, random_state=5, shuffle=True,\n",
       "       solver='sgd', tol=0.0001, validation_fraction=0.1, verbose=1,\n",
       "       warm_start=False)"
      ]
     },
     "execution_count": 163,
     "metadata": {},
     "output_type": "execute_result"
    }
   ],
   "source": [
    "small_neural = sklearn.neural_network.MLPClassifier(activation = \"relu\", hidden_layer_sizes=(4,), max_iter = 500, solver='sgd', random_state=5, learning_rate = 'adaptive',verbose = 1)\n",
    "small_neural.fit(X0_train1,y_train1)\n"
   ]
  },
  {
   "cell_type": "code",
   "execution_count": 164,
   "metadata": {},
   "outputs": [],
   "source": [
    "def adv_per3(X,eps,delta):\n",
    "    return X - eps*np.sign(delta)\n",
    "def adv_per7(X,eps,delta):\n",
    "    return X + eps*np.sign(delta)"
   ]
  },
  {
   "cell_type": "code",
   "execution_count": 165,
   "metadata": {},
   "outputs": [],
   "source": [
    "def hill(x,n,theta):\n",
    "#     return x**n\n",
    "    return x**n/(x**n + theta**n)"
   ]
  },
  {
   "cell_type": "code",
   "execution_count": 166,
   "metadata": {},
   "outputs": [],
   "source": [
    "theta = 0.5\n",
    "middle = np.zeros((len(Ns),len(X0_train2)))\n",
    "for idx_N,N in enumerate(Ns):\n",
    "    X = hill(X0_train2,N,theta)\n",
    "    middle[idx_N]=small_neural.predict(X)"
   ]
  },
  {
   "cell_type": "code",
   "execution_count": 167,
   "metadata": {},
   "outputs": [],
   "source": [
    "middle=np.transpose(middle)"
   ]
  },
  {
   "cell_type": "code",
   "execution_count": null,
   "metadata": {
    "scrolled": true
   },
   "outputs": [],
   "source": []
  },
  {
   "cell_type": "code",
   "execution_count": 168,
   "metadata": {},
   "outputs": [
    {
     "name": "stdout",
     "output_type": "stream",
     "text": [
      "Iteration 1, loss = 0.75282894\n",
      "Iteration 2, loss = 0.72977743\n",
      "Iteration 3, loss = 0.71295710\n",
      "Iteration 4, loss = 0.70178076\n",
      "Iteration 5, loss = 0.69377128\n",
      "Iteration 6, loss = 0.68776288\n",
      "Iteration 7, loss = 0.68306174\n",
      "Iteration 8, loss = 0.67914568\n",
      "Iteration 9, loss = 0.67583789\n",
      "Iteration 10, loss = 0.67290277\n",
      "Iteration 11, loss = 0.67029428\n",
      "Iteration 12, loss = 0.66788936\n",
      "Iteration 13, loss = 0.66567304\n",
      "Iteration 14, loss = 0.66357331\n",
      "Iteration 15, loss = 0.66155908\n",
      "Iteration 16, loss = 0.65965038\n",
      "Iteration 17, loss = 0.65777038\n",
      "Iteration 18, loss = 0.65595187\n",
      "Iteration 19, loss = 0.65416678\n",
      "Iteration 20, loss = 0.65237717\n",
      "Iteration 21, loss = 0.65063026\n",
      "Iteration 22, loss = 0.64890636\n",
      "Iteration 23, loss = 0.64717698\n",
      "Iteration 24, loss = 0.64543416\n",
      "Iteration 25, loss = 0.64371672\n",
      "Iteration 26, loss = 0.64198120\n",
      "Iteration 27, loss = 0.64025807\n",
      "Iteration 28, loss = 0.63854666\n",
      "Iteration 29, loss = 0.63680196\n",
      "Iteration 30, loss = 0.63506676\n",
      "Iteration 31, loss = 0.63331476\n",
      "Iteration 32, loss = 0.63156249\n",
      "Iteration 33, loss = 0.62980956\n",
      "Iteration 34, loss = 0.62803844\n",
      "Iteration 35, loss = 0.62625371\n",
      "Iteration 36, loss = 0.62447590\n",
      "Iteration 37, loss = 0.62264795\n",
      "Iteration 38, loss = 0.62082919\n",
      "Iteration 39, loss = 0.61900507\n",
      "Iteration 40, loss = 0.61715756\n",
      "Iteration 41, loss = 0.61531859\n",
      "Iteration 42, loss = 0.61341937\n",
      "Iteration 43, loss = 0.61153479\n",
      "Iteration 44, loss = 0.60962806\n",
      "Iteration 45, loss = 0.60772857\n",
      "Iteration 46, loss = 0.60576403\n",
      "Iteration 47, loss = 0.60380870\n",
      "Iteration 48, loss = 0.60182007\n",
      "Iteration 49, loss = 0.59983057\n",
      "Iteration 50, loss = 0.59779254\n",
      "Iteration 51, loss = 0.59575019\n",
      "Iteration 52, loss = 0.59369383\n",
      "Iteration 53, loss = 0.59157243\n",
      "Iteration 54, loss = 0.58943976\n",
      "Iteration 55, loss = 0.58727919\n",
      "Iteration 56, loss = 0.58508404\n",
      "Iteration 57, loss = 0.58285842\n",
      "Iteration 58, loss = 0.58059947\n",
      "Iteration 59, loss = 0.57830138\n",
      "Iteration 60, loss = 0.57592827\n",
      "Iteration 61, loss = 0.57353383\n",
      "Iteration 62, loss = 0.57107464\n",
      "Iteration 63, loss = 0.56856563\n",
      "Iteration 64, loss = 0.56599485\n",
      "Iteration 65, loss = 0.56335740\n",
      "Iteration 66, loss = 0.56066771\n",
      "Iteration 67, loss = 0.55792116\n",
      "Iteration 68, loss = 0.55513179\n",
      "Iteration 69, loss = 0.55231354\n",
      "Iteration 70, loss = 0.54950626\n",
      "Iteration 71, loss = 0.54672533\n",
      "Iteration 72, loss = 0.54392827\n",
      "Iteration 73, loss = 0.54117118\n",
      "Iteration 74, loss = 0.53846112\n",
      "Iteration 75, loss = 0.53581412\n",
      "Iteration 76, loss = 0.53314113\n",
      "Iteration 77, loss = 0.53045474\n",
      "Iteration 78, loss = 0.52776988\n",
      "Iteration 79, loss = 0.52511057\n",
      "Iteration 80, loss = 0.52239901\n",
      "Iteration 81, loss = 0.51970348\n",
      "Iteration 82, loss = 0.51695825\n",
      "Iteration 83, loss = 0.51426120\n",
      "Iteration 84, loss = 0.51151441\n",
      "Iteration 85, loss = 0.50871827\n",
      "Iteration 86, loss = 0.50598895\n",
      "Iteration 87, loss = 0.50318915\n",
      "Iteration 88, loss = 0.50044155\n",
      "Iteration 89, loss = 0.49755421\n",
      "Iteration 90, loss = 0.49473508\n",
      "Iteration 91, loss = 0.49191525\n",
      "Iteration 92, loss = 0.48905928\n",
      "Iteration 93, loss = 0.48622004\n",
      "Iteration 94, loss = 0.48338745\n",
      "Iteration 95, loss = 0.48048548\n",
      "Iteration 96, loss = 0.47760505\n",
      "Iteration 97, loss = 0.47473134\n",
      "Iteration 98, loss = 0.47182959\n",
      "Iteration 99, loss = 0.46894108\n",
      "Iteration 100, loss = 0.46599290\n",
      "Iteration 101, loss = 0.46307811\n",
      "Iteration 102, loss = 0.46017719\n",
      "Iteration 103, loss = 0.45720705\n",
      "Iteration 104, loss = 0.45425281\n",
      "Iteration 105, loss = 0.45132249\n",
      "Iteration 106, loss = 0.44837318\n",
      "Iteration 107, loss = 0.44543969\n",
      "Iteration 108, loss = 0.44247566\n",
      "Iteration 109, loss = 0.43949295\n",
      "Iteration 110, loss = 0.43653518\n",
      "Iteration 111, loss = 0.43356444\n",
      "Iteration 112, loss = 0.43059779\n",
      "Iteration 113, loss = 0.42767736\n",
      "Iteration 114, loss = 0.42466733\n",
      "Iteration 115, loss = 0.42169159\n",
      "Iteration 116, loss = 0.41873093\n",
      "Iteration 117, loss = 0.41574701\n",
      "Iteration 118, loss = 0.41277962\n",
      "Iteration 119, loss = 0.40979802\n",
      "Iteration 120, loss = 0.40686874\n",
      "Iteration 121, loss = 0.40387693\n",
      "Iteration 122, loss = 0.40091976\n",
      "Iteration 123, loss = 0.39799101\n",
      "Iteration 124, loss = 0.39506655\n",
      "Iteration 125, loss = 0.39222862\n",
      "Iteration 126, loss = 0.38915030\n",
      "Iteration 127, loss = 0.38622597\n",
      "Iteration 128, loss = 0.38333179\n",
      "Iteration 129, loss = 0.38042306\n",
      "Iteration 130, loss = 0.37748587\n",
      "Iteration 131, loss = 0.37461547\n",
      "Iteration 132, loss = 0.37174430\n",
      "Iteration 133, loss = 0.36892012\n",
      "Iteration 134, loss = 0.36599838\n",
      "Iteration 135, loss = 0.36313027\n",
      "Iteration 136, loss = 0.36032646\n",
      "Iteration 137, loss = 0.35749392\n",
      "Iteration 138, loss = 0.35466829\n",
      "Iteration 139, loss = 0.35186640\n",
      "Iteration 140, loss = 0.34906391\n",
      "Iteration 141, loss = 0.34627909\n",
      "Iteration 142, loss = 0.34354108\n",
      "Iteration 143, loss = 0.34083189\n",
      "Iteration 144, loss = 0.33806591\n",
      "Iteration 145, loss = 0.33534721\n",
      "Iteration 146, loss = 0.33267882\n",
      "Iteration 147, loss = 0.33000510\n",
      "Iteration 148, loss = 0.32730866\n",
      "Iteration 149, loss = 0.32472170\n",
      "Iteration 150, loss = 0.32207510\n",
      "Iteration 151, loss = 0.31943191\n",
      "Iteration 152, loss = 0.31683550\n",
      "Iteration 153, loss = 0.31427533\n",
      "Iteration 154, loss = 0.31172506\n",
      "Iteration 155, loss = 0.30919082\n",
      "Iteration 156, loss = 0.30666046\n",
      "Iteration 157, loss = 0.30416457\n",
      "Iteration 158, loss = 0.30174522\n",
      "Iteration 159, loss = 0.29927318\n",
      "Iteration 160, loss = 0.29679514\n",
      "Iteration 161, loss = 0.29440600\n",
      "Iteration 162, loss = 0.29203517\n",
      "Iteration 163, loss = 0.28964095\n",
      "Iteration 164, loss = 0.28726790\n",
      "Iteration 165, loss = 0.28492602\n",
      "Iteration 166, loss = 0.28262521\n",
      "Iteration 167, loss = 0.28035102\n",
      "Iteration 168, loss = 0.27811097\n",
      "Iteration 169, loss = 0.27587339\n",
      "Iteration 170, loss = 0.27359508\n",
      "Iteration 171, loss = 0.27142703\n",
      "Iteration 172, loss = 0.26922512\n",
      "Iteration 173, loss = 0.26705034\n",
      "Iteration 174, loss = 0.26492307\n",
      "Iteration 175, loss = 0.26281336\n",
      "Iteration 176, loss = 0.26071888\n",
      "Iteration 177, loss = 0.25866085\n",
      "Iteration 178, loss = 0.25658533\n",
      "Iteration 179, loss = 0.25456128\n",
      "Iteration 180, loss = 0.25255983\n",
      "Iteration 181, loss = 0.25058969\n",
      "Iteration 182, loss = 0.24861584\n",
      "Iteration 183, loss = 0.24668027\n",
      "Iteration 184, loss = 0.24478462\n",
      "Iteration 185, loss = 0.24286858\n",
      "Iteration 186, loss = 0.24097361\n",
      "Iteration 187, loss = 0.23912357\n",
      "Iteration 188, loss = 0.23730119\n",
      "Iteration 189, loss = 0.23546942\n",
      "Iteration 190, loss = 0.23367316\n",
      "Iteration 191, loss = 0.23187847\n",
      "Iteration 192, loss = 0.23011871\n",
      "Iteration 193, loss = 0.22840143\n",
      "Iteration 194, loss = 0.22670018\n",
      "Iteration 195, loss = 0.22497934\n",
      "Iteration 196, loss = 0.22332146\n",
      "Iteration 197, loss = 0.22166479\n",
      "Iteration 198, loss = 0.22004104\n",
      "Iteration 199, loss = 0.21845234\n",
      "Iteration 200, loss = 0.21687292\n",
      "Iteration 201, loss = 0.21529206\n",
      "Iteration 202, loss = 0.21370613\n",
      "Iteration 203, loss = 0.21216736\n",
      "Iteration 204, loss = 0.21063999\n",
      "Iteration 205, loss = 0.20915187\n",
      "Iteration 206, loss = 0.20765748\n",
      "Iteration 207, loss = 0.20623949\n",
      "Iteration 208, loss = 0.20477995\n",
      "Iteration 209, loss = 0.20334227\n",
      "Iteration 210, loss = 0.20193765\n",
      "Iteration 211, loss = 0.20055968\n",
      "Iteration 212, loss = 0.19921460\n",
      "Iteration 213, loss = 0.19784107\n",
      "Iteration 214, loss = 0.19647008\n",
      "Iteration 215, loss = 0.19512720\n",
      "Iteration 216, loss = 0.19384040\n",
      "Iteration 217, loss = 0.19255381\n",
      "Iteration 218, loss = 0.19130427\n",
      "Iteration 219, loss = 0.19006529\n",
      "Iteration 220, loss = 0.18879407\n",
      "Iteration 221, loss = 0.18759751\n",
      "Iteration 222, loss = 0.18635214\n",
      "Iteration 223, loss = 0.18515415\n",
      "Iteration 224, loss = 0.18396082\n",
      "Iteration 225, loss = 0.18282025\n",
      "Iteration 226, loss = 0.18166688\n",
      "Iteration 227, loss = 0.18054535\n",
      "Iteration 228, loss = 0.17940297\n",
      "Iteration 229, loss = 0.17830637\n",
      "Iteration 230, loss = 0.17719760\n",
      "Iteration 231, loss = 0.17616704\n",
      "Iteration 232, loss = 0.17506645\n",
      "Iteration 233, loss = 0.17403369\n",
      "Iteration 234, loss = 0.17301342\n",
      "Iteration 235, loss = 0.17199779\n",
      "Iteration 236, loss = 0.17096209\n",
      "Iteration 237, loss = 0.16995769\n",
      "Iteration 238, loss = 0.16896917\n",
      "Iteration 239, loss = 0.16800331\n",
      "Iteration 240, loss = 0.16704337\n",
      "Iteration 241, loss = 0.16609618\n",
      "Iteration 242, loss = 0.16517467\n",
      "Iteration 243, loss = 0.16422178\n",
      "Iteration 244, loss = 0.16332801\n",
      "Iteration 245, loss = 0.16243473\n",
      "Iteration 246, loss = 0.16157434\n",
      "Iteration 247, loss = 0.16064668\n",
      "Iteration 248, loss = 0.15983569\n",
      "Iteration 249, loss = 0.15894916\n",
      "Iteration 250, loss = 0.15812601\n",
      "Iteration 251, loss = 0.15735821\n",
      "Iteration 252, loss = 0.15645745\n",
      "Iteration 253, loss = 0.15563006\n",
      "Iteration 254, loss = 0.15484696\n",
      "Iteration 255, loss = 0.15404187\n",
      "Iteration 256, loss = 0.15327666\n",
      "Iteration 257, loss = 0.15247536\n",
      "Iteration 258, loss = 0.15173089\n",
      "Iteration 259, loss = 0.15097855\n",
      "Iteration 260, loss = 0.15026739\n",
      "Iteration 261, loss = 0.14950380\n"
     ]
    },
    {
     "name": "stdout",
     "output_type": "stream",
     "text": [
      "Iteration 262, loss = 0.14877915\n",
      "Iteration 263, loss = 0.14806098\n",
      "Iteration 264, loss = 0.14738443\n",
      "Iteration 265, loss = 0.14666046\n",
      "Iteration 266, loss = 0.14598844\n",
      "Iteration 267, loss = 0.14529905\n",
      "Iteration 268, loss = 0.14465661\n",
      "Iteration 269, loss = 0.14396192\n",
      "Iteration 270, loss = 0.14330516\n",
      "Iteration 271, loss = 0.14266543\n",
      "Iteration 272, loss = 0.14210818\n",
      "Iteration 273, loss = 0.14141556\n",
      "Iteration 274, loss = 0.14078027\n",
      "Iteration 275, loss = 0.14015796\n",
      "Iteration 276, loss = 0.13958192\n",
      "Iteration 277, loss = 0.13894767\n",
      "Iteration 278, loss = 0.13837095\n",
      "Iteration 279, loss = 0.13779933\n",
      "Iteration 280, loss = 0.13719583\n",
      "Iteration 281, loss = 0.13668687\n",
      "Iteration 282, loss = 0.13605991\n",
      "Iteration 283, loss = 0.13554683\n",
      "Iteration 284, loss = 0.13493526\n",
      "Iteration 285, loss = 0.13441184\n",
      "Iteration 286, loss = 0.13387747\n",
      "Iteration 287, loss = 0.13334843\n",
      "Iteration 288, loss = 0.13283329\n",
      "Iteration 289, loss = 0.13233194\n",
      "Iteration 290, loss = 0.13180231\n",
      "Iteration 291, loss = 0.13129742\n",
      "Iteration 292, loss = 0.13082474\n",
      "Iteration 293, loss = 0.13030009\n",
      "Iteration 294, loss = 0.12982075\n",
      "Iteration 295, loss = 0.12933006\n",
      "Iteration 296, loss = 0.12885662\n",
      "Iteration 297, loss = 0.12839635\n",
      "Iteration 298, loss = 0.12793385\n",
      "Iteration 299, loss = 0.12747465\n",
      "Iteration 300, loss = 0.12701764\n",
      "Iteration 301, loss = 0.12653434\n",
      "Iteration 302, loss = 0.12611035\n",
      "Iteration 303, loss = 0.12566423\n",
      "Iteration 304, loss = 0.12522266\n",
      "Iteration 305, loss = 0.12481228\n",
      "Iteration 306, loss = 0.12442356\n",
      "Iteration 307, loss = 0.12395062\n",
      "Iteration 308, loss = 0.12356416\n",
      "Iteration 309, loss = 0.12317782\n",
      "Iteration 310, loss = 0.12275586\n",
      "Iteration 311, loss = 0.12234445\n",
      "Iteration 312, loss = 0.12194327\n",
      "Iteration 313, loss = 0.12155951\n",
      "Iteration 314, loss = 0.12118339\n",
      "Iteration 315, loss = 0.12078893\n",
      "Iteration 316, loss = 0.12042062\n",
      "Iteration 317, loss = 0.12004022\n",
      "Iteration 318, loss = 0.11966276\n",
      "Iteration 319, loss = 0.11932138\n",
      "Iteration 320, loss = 0.11896071\n",
      "Iteration 321, loss = 0.11859842\n",
      "Iteration 322, loss = 0.11823405\n",
      "Iteration 323, loss = 0.11792156\n",
      "Iteration 324, loss = 0.11752941\n",
      "Iteration 325, loss = 0.11723473\n",
      "Iteration 326, loss = 0.11688623\n",
      "Iteration 327, loss = 0.11654756\n",
      "Iteration 328, loss = 0.11621634\n",
      "Iteration 329, loss = 0.11587485\n",
      "Iteration 330, loss = 0.11555466\n",
      "Iteration 331, loss = 0.11523945\n",
      "Iteration 332, loss = 0.11491154\n",
      "Iteration 333, loss = 0.11461094\n",
      "Iteration 334, loss = 0.11431792\n",
      "Iteration 335, loss = 0.11400504\n",
      "Iteration 336, loss = 0.11369251\n",
      "Iteration 337, loss = 0.11340611\n",
      "Iteration 338, loss = 0.11311360\n",
      "Iteration 339, loss = 0.11281070\n",
      "Iteration 340, loss = 0.11252509\n",
      "Iteration 341, loss = 0.11222237\n",
      "Iteration 342, loss = 0.11195968\n",
      "Iteration 343, loss = 0.11167989\n",
      "Iteration 344, loss = 0.11141166\n",
      "Iteration 345, loss = 0.11112225\n",
      "Iteration 346, loss = 0.11089661\n",
      "Iteration 347, loss = 0.11059124\n",
      "Iteration 348, loss = 0.11032675\n",
      "Iteration 349, loss = 0.11006362\n",
      "Iteration 350, loss = 0.10984930\n",
      "Iteration 351, loss = 0.10954612\n",
      "Iteration 352, loss = 0.10928519\n",
      "Iteration 353, loss = 0.10905269\n",
      "Iteration 354, loss = 0.10883906\n",
      "Iteration 355, loss = 0.10858853\n",
      "Iteration 356, loss = 0.10830275\n",
      "Iteration 357, loss = 0.10805878\n",
      "Iteration 358, loss = 0.10782429\n",
      "Iteration 359, loss = 0.10760605\n",
      "Iteration 360, loss = 0.10736251\n",
      "Iteration 361, loss = 0.10711151\n",
      "Iteration 362, loss = 0.10689048\n",
      "Iteration 363, loss = 0.10666514\n",
      "Iteration 364, loss = 0.10644813\n",
      "Iteration 365, loss = 0.10623174\n",
      "Iteration 366, loss = 0.10601729\n",
      "Iteration 367, loss = 0.10581015\n",
      "Iteration 368, loss = 0.10557132\n",
      "Iteration 369, loss = 0.10535413\n",
      "Iteration 370, loss = 0.10515968\n",
      "Iteration 371, loss = 0.10492422\n",
      "Iteration 372, loss = 0.10476752\n",
      "Iteration 373, loss = 0.10455806\n",
      "Iteration 374, loss = 0.10434524\n",
      "Iteration 375, loss = 0.10415257\n",
      "Iteration 376, loss = 0.10393165\n",
      "Iteration 377, loss = 0.10372040\n",
      "Iteration 378, loss = 0.10353333\n",
      "Iteration 379, loss = 0.10334158\n",
      "Iteration 380, loss = 0.10315983\n",
      "Iteration 381, loss = 0.10295994\n",
      "Iteration 382, loss = 0.10278323\n",
      "Iteration 383, loss = 0.10259221\n",
      "Iteration 384, loss = 0.10241320\n",
      "Iteration 385, loss = 0.10223218\n",
      "Iteration 386, loss = 0.10203837\n",
      "Iteration 387, loss = 0.10189913\n",
      "Iteration 388, loss = 0.10171570\n",
      "Iteration 389, loss = 0.10161937\n",
      "Iteration 390, loss = 0.10134255\n",
      "Iteration 391, loss = 0.10119856\n",
      "Iteration 392, loss = 0.10100556\n",
      "Iteration 393, loss = 0.10083718\n",
      "Iteration 394, loss = 0.10066174\n",
      "Iteration 395, loss = 0.10053109\n",
      "Iteration 396, loss = 0.10035797\n",
      "Iteration 397, loss = 0.10016851\n",
      "Iteration 398, loss = 0.10001491\n",
      "Iteration 399, loss = 0.09985969\n",
      "Iteration 400, loss = 0.09971520\n",
      "Iteration 401, loss = 0.09957207\n",
      "Iteration 402, loss = 0.09940718\n",
      "Iteration 403, loss = 0.09923493\n",
      "Iteration 404, loss = 0.09908859\n",
      "Iteration 405, loss = 0.09894294\n",
      "Iteration 406, loss = 0.09879809\n",
      "Iteration 407, loss = 0.09863605\n",
      "Iteration 408, loss = 0.09852443\n",
      "Iteration 409, loss = 0.09842745\n",
      "Iteration 410, loss = 0.09820215\n",
      "Iteration 411, loss = 0.09807622\n",
      "Iteration 412, loss = 0.09792690\n",
      "Iteration 413, loss = 0.09782050\n",
      "Iteration 414, loss = 0.09768017\n",
      "Iteration 415, loss = 0.09752207\n",
      "Iteration 416, loss = 0.09737509\n",
      "Iteration 417, loss = 0.09726732\n",
      "Iteration 418, loss = 0.09711883\n",
      "Iteration 419, loss = 0.09700064\n",
      "Iteration 420, loss = 0.09688363\n",
      "Iteration 421, loss = 0.09674800\n",
      "Iteration 422, loss = 0.09659617\n",
      "Iteration 423, loss = 0.09646263\n",
      "Iteration 424, loss = 0.09633157\n",
      "Iteration 425, loss = 0.09623150\n",
      "Iteration 426, loss = 0.09609945\n",
      "Iteration 427, loss = 0.09605046\n",
      "Iteration 428, loss = 0.09585873\n",
      "Iteration 429, loss = 0.09577787\n",
      "Iteration 430, loss = 0.09565605\n",
      "Iteration 431, loss = 0.09549069\n",
      "Iteration 432, loss = 0.09540892\n",
      "Iteration 433, loss = 0.09526162\n",
      "Iteration 434, loss = 0.09514424\n",
      "Iteration 435, loss = 0.09502965\n",
      "Iteration 436, loss = 0.09492222\n",
      "Iteration 437, loss = 0.09480491\n",
      "Iteration 438, loss = 0.09473138\n",
      "Iteration 439, loss = 0.09459307\n",
      "Iteration 440, loss = 0.09455849\n",
      "Iteration 441, loss = 0.09437440\n",
      "Iteration 442, loss = 0.09428115\n",
      "Iteration 443, loss = 0.09418618\n",
      "Iteration 444, loss = 0.09406950\n",
      "Iteration 445, loss = 0.09394667\n",
      "Iteration 446, loss = 0.09386680\n",
      "Iteration 447, loss = 0.09374852\n",
      "Iteration 448, loss = 0.09365260\n",
      "Iteration 449, loss = 0.09353652\n",
      "Iteration 450, loss = 0.09346444\n",
      "Iteration 451, loss = 0.09334908\n",
      "Iteration 452, loss = 0.09323358\n",
      "Iteration 453, loss = 0.09313887\n",
      "Iteration 454, loss = 0.09306585\n",
      "Iteration 455, loss = 0.09295688\n",
      "Iteration 456, loss = 0.09289265\n",
      "Iteration 457, loss = 0.09276709\n",
      "Iteration 458, loss = 0.09270532\n",
      "Iteration 459, loss = 0.09260387\n",
      "Iteration 460, loss = 0.09251095\n",
      "Iteration 461, loss = 0.09240911\n",
      "Iteration 462, loss = 0.09231003\n",
      "Iteration 463, loss = 0.09224513\n",
      "Iteration 464, loss = 0.09213097\n",
      "Iteration 465, loss = 0.09203549\n",
      "Iteration 466, loss = 0.09195194\n",
      "Iteration 467, loss = 0.09187024\n",
      "Training loss did not improve more than tol=0.000100 for two consecutive epochs. Setting learning rate to 0.000200\n",
      "Iteration 468, loss = 0.09178606\n",
      "Iteration 469, loss = 0.09176408\n",
      "Iteration 470, loss = 0.09174780\n",
      "Training loss did not improve more than tol=0.000100 for two consecutive epochs. Setting learning rate to 0.000040\n",
      "Iteration 471, loss = 0.09173080\n",
      "Iteration 472, loss = 0.09172638\n",
      "Iteration 473, loss = 0.09172344\n",
      "Training loss did not improve more than tol=0.000100 for two consecutive epochs. Setting learning rate to 0.000008\n",
      "Iteration 474, loss = 0.09171926\n",
      "Iteration 475, loss = 0.09171844\n",
      "Iteration 476, loss = 0.09171812\n",
      "Training loss did not improve more than tol=0.000100 for two consecutive epochs. Setting learning rate to 0.000002\n",
      "Iteration 477, loss = 0.09171711\n",
      "Iteration 478, loss = 0.09171695\n",
      "Iteration 479, loss = 0.09171682\n",
      "Training loss did not improve more than tol=0.000100 for two consecutive epochs. Setting learning rate to 0.000000\n",
      "Iteration 480, loss = 0.09171671\n",
      "Iteration 481, loss = 0.09171663\n",
      "Iteration 482, loss = 0.09171661\n",
      "Training loss did not improve more than tol=0.000100 for two consecutive epochs. Learning rate too small. Stopping.\n"
     ]
    },
    {
     "data": {
      "text/plain": [
       "MLPClassifier(activation='logistic', alpha=0.0001, batch_size='auto',\n",
       "       beta_1=0.9, beta_2=0.999, early_stopping=False, epsilon=1e-08,\n",
       "       hidden_layer_sizes=(5,), learning_rate='adaptive',\n",
       "       learning_rate_init=0.001, max_iter=500, momentum=0.9,\n",
       "       nesterovs_momentum=True, power_t=0.5, random_state=5, shuffle=True,\n",
       "       solver='sgd', tol=0.0001, validation_fraction=0.1, verbose=1,\n",
       "       warm_start=False)"
      ]
     },
     "execution_count": 168,
     "metadata": {},
     "output_type": "execute_result"
    }
   ],
   "source": [
    "master_neural = sklearn.neural_network.MLPClassifier(activation = \"logistic\", hidden_layer_sizes=(5,), max_iter = 500, solver='sgd', random_state=5, learning_rate = 'adaptive',verbose = 1)\n",
    "master_neural.fit(middle,y_train2)"
   ]
  },
  {
   "cell_type": "code",
   "execution_count": 169,
   "metadata": {},
   "outputs": [],
   "source": [
    "delta = X0[y == 3].mean(axis=0) - X0[y == 7].mean(axis=0)"
   ]
  },
  {
   "cell_type": "code",
   "execution_count": 170,
   "metadata": {},
   "outputs": [],
   "source": [
    "XT_perturbed = np.zeros(XT.shape)\n",
    "theta = 0.5\n",
    "middle = np.zeros((len(Ns),len(XT)))\n",
    "epsilon = np.arange(0,0.5,0.01)\n",
    "score = []\n",
    "for idx_eps,eps in enumerate(epsilon):\n",
    "    XT_perturbed[yT == 3] = adv_per3(XT[yT == 3],eps,delta)\n",
    "    XT_perturbed[yT == 7] = adv_per7(XT[yT == 7],eps,delta)\n",
    "    for idx_N,N in enumerate(Ns):\n",
    "        X = hill(XT_perturbed,N,theta)\n",
    "        middle[idx_N]=small_neural.predict(X)\n",
    "    \n",
    "    middleT=np.transpose(middle)\n",
    "    score.append(master_neural.score(middleT,yT))\n"
   ]
  },
  {
   "cell_type": "code",
   "execution_count": 171,
   "metadata": {
    "scrolled": true
   },
   "outputs": [],
   "source": [
    "#master_neural.score(middleT,yT)"
   ]
  },
  {
   "cell_type": "code",
   "execution_count": 172,
   "metadata": {},
   "outputs": [
    {
     "data": {
      "text/plain": [
       "<matplotlib.legend.Legend at 0xec987bea58>"
      ]
     },
     "execution_count": 172,
     "metadata": {},
     "output_type": "execute_result"
    },
    {
     "data": {
      "image/png": "[encoded data removed]",
      "text/plain": [
       "<Figure size 432x288 with 1 Axes>"
      ]
     },
     "metadata": {},
     "output_type": "display_data"
    }
   ],
   "source": [
    "fig,ax = plt.subplots()\n",
    "\n",
    "ax.plot(epsilon,score)\n",
    "ax.set_title(r\"Even powers; $\\theta$ = %.1f\"%theta)\n",
    "ax.set_xlabel(\"Epsilon\")\n",
    "ax.set_ylabel(\"Accuracy\")\n",
    "plt.legend([2,4,6,8,10], title = \"       N\")\n",
    "#plt.savefig(\"../Figures/Even-powers.png\")"
   ]
  },
  {
   "cell_type": "code",
   "execution_count": 173,
   "metadata": {},
   "outputs": [
    {
     "name": "stdout",
     "output_type": "stream",
     "text": [
      "0.48\n"
     ]
    }
   ],
   "source": [
    "final = True\n",
    "for i in range(len(score)):\n",
    "    if (score[i]<0.8 and final):\n",
    "        print(epsilon[i])\n",
    "        final = False"
   ]
  },
  {
   "cell_type": "code",
   "execution_count": null,
   "metadata": {},
   "outputs": [],
   "source": []
  },
  {
   "cell_type": "code",
   "execution_count": 135,
   "metadata": {
    "scrolled": true
   },
   "outputs": [
    {
     "ename": "NameError",
     "evalue": "name 'X0_test' is not defined",
     "output_type": "error",
     "traceback": [
      "\u001b[1;31m---------------------------------------------------------------------------\u001b[0m",
      "\u001b[1;31mNameError\u001b[0m                                 Traceback (most recent call last)",
      "\u001b[1;32m<ipython-input-135-f7dc6025fb0a>\u001b[0m in \u001b[0;36m<module>\u001b[1;34m()\u001b[0m\n\u001b[1;32m----> 1\u001b[1;33m \u001b[0mX0_adv_test\u001b[0m \u001b[1;33m=\u001b[0m \u001b[0mnp\u001b[0m\u001b[1;33m.\u001b[0m\u001b[0mzeros\u001b[0m\u001b[1;33m(\u001b[0m\u001b[0mX0_test\u001b[0m\u001b[1;33m.\u001b[0m\u001b[0mshape\u001b[0m\u001b[1;33m)\u001b[0m\u001b[1;33m\u001b[0m\u001b[0m\n\u001b[0m\u001b[0;32m      2\u001b[0m \u001b[0mtheta\u001b[0m \u001b[1;33m=\u001b[0m \u001b[1;36m0.5\u001b[0m\u001b[1;33m\u001b[0m\u001b[0m\n\u001b[0;32m      3\u001b[0m \u001b[0mepsilon\u001b[0m \u001b[1;33m=\u001b[0m \u001b[0mnp\u001b[0m\u001b[1;33m.\u001b[0m\u001b[0marange\u001b[0m\u001b[1;33m(\u001b[0m\u001b[1;36m0\u001b[0m\u001b[1;33m,\u001b[0m\u001b[1;36m0.5\u001b[0m\u001b[1;33m,\u001b[0m\u001b[1;36m0.01\u001b[0m\u001b[1;33m)\u001b[0m\u001b[1;33m\u001b[0m\u001b[0m\n\u001b[0;32m      4\u001b[0m \u001b[0mNs\u001b[0m \u001b[1;33m=\u001b[0m \u001b[0mnp\u001b[0m\u001b[1;33m.\u001b[0m\u001b[0marange\u001b[0m\u001b[1;33m(\u001b[0m\u001b[1;36m11\u001b[0m\u001b[1;33m)\u001b[0m\u001b[1;33m\u001b[0m\u001b[0m\n\u001b[0;32m      5\u001b[0m \u001b[0mscore\u001b[0m \u001b[1;33m=\u001b[0m \u001b[0mnp\u001b[0m\u001b[1;33m.\u001b[0m\u001b[0mzeros\u001b[0m\u001b[1;33m(\u001b[0m\u001b[1;33m(\u001b[0m\u001b[0mlen\u001b[0m\u001b[1;33m(\u001b[0m\u001b[0mNs\u001b[0m\u001b[1;33m)\u001b[0m\u001b[1;33m,\u001b[0m\u001b[0mlen\u001b[0m\u001b[1;33m(\u001b[0m\u001b[0mepsilon\u001b[0m\u001b[1;33m)\u001b[0m\u001b[1;33m)\u001b[0m\u001b[1;33m)\u001b[0m\u001b[1;33m\u001b[0m\u001b[0m\n",
      "\u001b[1;31mNameError\u001b[0m: name 'X0_test' is not defined"
     ]
    }
   ],
   "source": [
    "X0_adv_test = np.zeros(X0_test.shape)\n",
    "theta = 0.5\n",
    "epsilon = np.arange(0,0.5,0.01)\n",
    "Ns = np.arange(11)\n",
    "score = np.zeros((len(Ns),len(epsilon)))\n",
    "for idx_eps,eps in enumerate(epsilon):\n",
    "    X0_adv_test[y_test == 3] = adv_per3(X0_test[y_test == 3],eps,delta)\n",
    "    X0_adv_test[y_test == 7] = adv_per7(X0_test[y_test == 7],eps,delta)\n",
    "    for idx_N,N in enumerate(Ns):\n",
    "        X1_adv_test = hill(X0_adv_test,N,theta)\n",
    "        score[idx_N,idx_eps]=mlp_orig.score(X1_adv_test,y_test)"
   ]
  },
  {
   "cell_type": "code",
   "execution_count": null,
   "metadata": {
    "scrolled": true
   },
   "outputs": [],
   "source": [
    "fig,ax = plt.subplots()\n",
    "for line in score[range(2,12,2),:]:\n",
    "    ax.plot(epsilon,line)\n",
    "    ax.set_title(r\"Even powers; $\\theta$ = %.1f\"%theta)\n",
    "    ax.set_xlabel(\"Epsilon\")\n",
    "    ax.set_ylabel(\"Accuracy\")\n",
    "    plt.legend([2,4,6,8,10], title = \"       N\")\n",
    "    #plt.savefig(\"../Figures/Even-powers.png\")\n",
    "    \n",
    "fig,ax = plt.subplots()\n",
    "for line in score[range(1,11,2),:]:\n",
    "    ax.plot(epsilon,line)\n",
    "    ax.set_title(r\"Odd powers; $\\theta$ = %.1f\"%theta)\n",
    "    ax.set_xlabel(\"Epsilon\")\n",
    "    ax.set_ylabel(\"Accuracy\")\n",
    "    plt.legend(range(1,11,2), title = \"        N\")\n",
    "    #plt.savefig(\"../Figures/Odd-powers.png\")\n",
    "\n",
    "plt.show()"
   ]
  },
  {
   "cell_type": "code",
   "execution_count": 59,
   "metadata": {},
   "outputs": [],
   "source": [
    "score_naive = np.zeros((len(epsilon),1))\n",
    "for idx_eps,eps in enumerate(epsilon):\n",
    "    X0_adv_test[y_test == 3] = adv_per3(X0_test[y_test == 3],eps,delta)\n",
    "    X0_adv_test[y_test == 7] = adv_per7(X0_test[y_test == 7],eps,delta)\n",
    "    score_naive[idx_eps]=mlp_orig.score(X0_adv_test,y_test)"
   ]
  },
  {
   "cell_type": "code",
   "execution_count": 60,
   "metadata": {},
   "outputs": [
    {
     "data": {
      "image/png": "[encoded data removed]",
      "text/plain": [
       "<matplotlib.figure.Figure at 0x10fc69b70>"
      ]
     },
     "metadata": {},
     "output_type": "display_data"
    }
   ],
   "source": [
    "for line in score_naive.T:\n",
    "    plt.plot(epsilon,line)\n",
    "    plt.title(\"Naive adversarial perturbation\")\n",
    "    plt.legend([\"No transformation\"])\n",
    "plt.show()"
   ]
  },
  {
   "cell_type": "code",
   "execution_count": null,
   "metadata": {},
   "outputs": [],
   "source": []
  },
  {
   "cell_type": "code",
   "execution_count": null,
   "metadata": {},
   "outputs": [],
   "source": []
  },
  {
   "cell_type": "code",
   "execution_count": null,
   "metadata": {},
   "outputs": [],
   "source": []
  },
  {
   "cell_type": "code",
   "execution_count": null,
   "metadata": {},
   "outputs": [],
   "source": []
  },
  {
   "cell_type": "code",
   "execution_count": null,
   "metadata": {},
   "outputs": [],
   "source": []
  },
  {
   "cell_type": "markdown",
   "metadata": {},
   "source": [
    "## Compute gradient manually"
   ]
  },
  {
   "cell_type": "code",
   "execution_count": 10,
   "metadata": {},
   "outputs": [],
   "source": [
    "def sigmoid(x):\n",
    "    return 1/(1+np.exp(-x))"
   ]
  },
  {
   "cell_type": "code",
   "execution_count": 11,
   "metadata": {},
   "outputs": [],
   "source": [
    "def relu(x):\n",
    "    for i in range(len(x)):\n",
    "        x[i] = np.max((0,x[i]))\n",
    "    return x"
   ]
  },
  {
   "cell_type": "code",
   "execution_count": 12,
   "metadata": {},
   "outputs": [],
   "source": [
    "def hill(x,n,theta):\n",
    "#     return x**n\n",
    "    return x**n/(x**n + theta**n)"
   ]
  },
  {
   "cell_type": "code",
   "execution_count": 13,
   "metadata": {},
   "outputs": [],
   "source": [
    "def score(x,use_hill,N,theta,mlp):\n",
    "    W = mlp.coefs_\n",
    "    b = mlp.intercepts_\n",
    "    if use_hill:\n",
    "        y = hill(x,N,theta)\n",
    "    else:\n",
    "        y = x[:]\n",
    "    return sigmoid(np.dot(relu(np.dot(y,W[0])+b[0]),W[1])+b[1])"
   ]
  },
  {
   "cell_type": "code",
   "execution_count": 14,
   "metadata": {},
   "outputs": [],
   "source": [
    "def grad_score(x,use_hill,N,theta,mlp):\n",
    "    grad = np.zeros(x.shape)\n",
    "    for i in range(len(x)):\n",
    "        yp = x.copy(); yp[i] += 10/255; \n",
    "        ym = x.copy(); ym[i] -= 10/255;\n",
    "        grad[i] = 255/2*(score(yp,use_hill,N,theta,mlp)-score(ym,use_hill,N,theta,mlp))\n",
    "    return grad"
   ]
  },
  {
   "cell_type": "code",
   "execution_count": 15,
   "metadata": {},
   "outputs": [],
   "source": [
    "def iter_grad(x0,use_hill,N,theta,mlp,eps):\n",
    "    num_iter = 0; \n",
    "    x = x0.copy()\n",
    "    pred = mlp.predict(x0.reshape(1,-1))\n",
    "    new_pred = mlp.predict(x.reshape(1,-1))\n",
    "    pm = (pred-5)/2 #3 -> -1; 7 -> +1\n",
    "    while new_pred == pred:\n",
    "        grad = grad_score(x,use_hill,N,theta,mlp)\n",
    "        x -= pm*eps*grad[:]\n",
    "        new_pred = mlp.predict(x.reshape(1,-1))\n",
    "        print(score(x,use_hill,N,theta,mlp))\n",
    "        num_iter += 1\n",
    "    return x,num_iter"
   ]
  },
  {
   "cell_type": "code",
   "execution_count": 16,
   "metadata": {},
   "outputs": [
    {
     "data": {
      "image/png": "[encoded data removed]",
      "text/plain": [
       "<matplotlib.figure.Figure at 0x15d7ab780>"
      ]
     },
     "metadata": {},
     "output_type": "display_data"
    }
   ],
   "source": [
    "use_hill=True;N=10;theta=0.5\n",
    "x0 = X0_test[y_test==3][1000]\n",
    "grad = grad_score(x0,True,N,theta,mlp_orig)\n",
    "plt.imshow(grad.reshape(28,28),cmap=plt.cm.gray)\n",
    "plt.axis('off');plt.show()"
   ]
  },
  {
   "cell_type": "code",
   "execution_count": 21,
   "metadata": {
    "scrolled": true
   },
   "outputs": [
    {
     "name": "stdout",
     "output_type": "stream",
     "text": [
      "[0.99974438]\n",
      "[0.99967377]\n",
      "[0.99958719]\n",
      "[0.99950201]\n",
      "[0.99943272]\n",
      "[0.9993761]\n",
      "[0.99932715]\n",
      "[0.99928423]\n",
      "[0.99924613]\n",
      "[0.99921094]\n",
      "[0.99917637]\n",
      "[0.99913971]\n",
      "[0.9990965]\n",
      "[0.99903809]\n",
      "[0.99895625]\n",
      "[0.99886442]\n",
      "[0.99875223]\n",
      "[0.99852028]\n",
      "[0.99830909]\n",
      "[0.99825342]\n",
      "[0.9982097]\n",
      "[0.99815806]\n",
      "[0.9980618]\n",
      "[0.99777888]\n",
      "[0.99733757]\n",
      "[0.99723265]\n",
      "[0.997112]\n",
      "[0.99689509]\n",
      "[0.99675982]\n",
      "[0.99656834]\n",
      "[0.9958072]\n",
      "[0.99295332]\n",
      "[0.99285109]\n",
      "[0.99279339]\n",
      "[0.99274333]\n",
      "[0.99268482]\n",
      "[0.99257579]\n",
      "[0.99196339]\n",
      "[0.98923573]\n",
      "[0.98825682]\n",
      "[0.98464329]\n",
      "[0.98453565]\n",
      "[0.98435471]\n",
      "[0.98365773]\n",
      "[0.96918899]\n",
      "[0.97395546]\n",
      "[0.94493904]\n",
      "[0.84103246]\n",
      "[0.87014672]\n"
     ]
    },
    {
     "data": {
      "image/png": "[encoded data removed]",
      "text/plain": [
       "<matplotlib.figure.Figure at 0x15e42dc88>"
      ]
     },
     "metadata": {},
     "output_type": "display_data"
    }
   ],
   "source": [
    "x0 = X0_test[y_test==7][1000]\n",
    "x1,num_iter = iter_grad(x0,True,10,theta,mlp_orig,5)\n",
    "fig,ax = plt.subplots(1,2)\n",
    "ax[0].imshow(x0.reshape(28,28),cmap=plt.cm.gray)\n",
    "ax[1].imshow(x1.reshape(28,28),cmap=plt.cm.gray)\n",
    "# ax[2].imshow(hill(x.reshape(28,28),N,theta),cmap=plt.cm.gray)\n",
    "\n",
    "[a.axis('off') for a in ax]\n",
    "plt.show()"
   ]
  },
  {
   "cell_type": "code",
   "execution_count": 22,
   "metadata": {
    "scrolled": true
   },
   "outputs": [
    {
     "name": "stdout",
     "output_type": "stream",
     "text": [
      "0.0\n"
     ]
    },
    {
     "data": {
      "image/png": "[encoded data removed]",
      "text/plain": [
       "<matplotlib.figure.Figure at 0x15e42d908>"
      ]
     },
     "metadata": {},
     "output_type": "display_data"
    },
    {
     "name": "stdout",
     "output_type": "stream",
     "text": [
      "0.0\n"
     ]
    },
    {
     "data": {
      "image/png": "[encoded data removed]",
      "text/plain": [
       "<matplotlib.figure.Figure at 0x15c175748>"
      ]
     },
     "metadata": {},
     "output_type": "display_data"
    },
    {
     "name": "stdout",
     "output_type": "stream",
     "text": [
      "0.012667277681188005\n"
     ]
    },
    {
     "data": {
      "image/png": "[encoded data removed]",
      "text/plain": [
       "<matplotlib.figure.Figure at 0x146189b70>"
      ]
     },
     "metadata": {},
     "output_type": "display_data"
    },
    {
     "name": "stdout",
     "output_type": "stream",
     "text": [
      "9.840516831621779e-05\n"
     ]
    },
    {
     "data": {
      "image/png": "[encoded data removed]",
      "text/plain": [
       "<matplotlib.figure.Figure at 0x1425ee8d0>"
      ]
     },
     "metadata": {},
     "output_type": "display_data"
    },
    {
     "name": "stdout",
     "output_type": "stream",
     "text": [
      "0.0\n"
     ]
    },
    {
     "data": {
      "image/png": "[encoded data removed]",
      "text/plain": [
       "<matplotlib.figure.Figure at 0x142938f28>"
      ]
     },
     "metadata": {},
     "output_type": "display_data"
    },
    {
     "name": "stdout",
     "output_type": "stream",
     "text": [
      "0.00027002782387235\n"
     ]
    },
    {
     "data": {
      "image/png": "[encoded data removed]",
      "text/plain": [
       "<matplotlib.figure.Figure at 0x142a9b1d0>"
      ]
     },
     "metadata": {},
     "output_type": "display_data"
    },
    {
     "name": "stdout",
     "output_type": "stream",
     "text": [
      "0.00861044320971547\n"
     ]
    },
    {
     "data": {
      "image/png": "[encoded data removed]",
      "text/plain": [
       "<matplotlib.figure.Figure at 0x142bda668>"
      ]
     },
     "metadata": {},
     "output_type": "display_data"
    },
    {
     "name": "stdout",
     "output_type": "stream",
     "text": [
      "0.24654179781750057\n"
     ]
    },
    {
     "data": {
      "image/png": "[encoded data removed]",
      "text/plain": [
       "<matplotlib.figure.Figure at 0x142d180b8>"
      ]
     },
     "metadata": {},
     "output_type": "display_data"
    },
    {
     "name": "stdout",
     "output_type": "stream",
     "text": [
      "0.0\n"
     ]
    },
    {
     "data": {
      "image/png": "[encoded data removed]",
      "text/plain": [
       "<matplotlib.figure.Figure at 0x142e2d860>"
      ]
     },
     "metadata": {},
     "output_type": "display_data"
    },
    {
     "name": "stdout",
     "output_type": "stream",
     "text": [
      "0.24477775807868357\n"
     ]
    },
    {
     "data": {
      "image/png": "[encoded data removed]",
      "text/plain": [
       "<matplotlib.figure.Figure at 0x142f8ce48>"
      ]
     },
     "metadata": {},
     "output_type": "display_data"
    }
   ],
   "source": [
    "sample = [int(len(X0_test)*random.random()) for _ in range(10)]\n",
    "\n",
    "for i in sample:\n",
    "    x = X0_test[i]\n",
    "    grad_xF = grad_score(x,False,0,0,mlp_orig)\n",
    "    print(sum(grad_xF**2))\n",
    "    grad_xT = grad_score(x,True,10,0.5,mlp_orig)\n",
    "    fig,ax = plt.subplots(1,3)\n",
    "    ax[0].imshow(x.reshape(28,28),cmap=plt.cm.gray)\n",
    "    ax[1].imshow((grad_xF).reshape(28,28),cmap=plt.cm.gray)\n",
    "    ax[2].imshow((grad_xT).reshape(28,28),cmap=plt.cm.gray)\n",
    "    [a.axis('off') for a in ax]\n",
    "    plt.show()\n",
    "# print(grad)"
   ]
  },
  {
   "cell_type": "code",
   "execution_count": 34,
   "metadata": {},
   "outputs": [
    {
     "name": "stdout",
     "output_type": "stream",
     "text": [
      "[0.01646657]\n",
      "3.0\n"
     ]
    }
   ],
   "source": [
    "print(score(x,False,0,0,mlp_orig))\n",
    "print(y_test[num])"
   ]
  },
  {
   "cell_type": "code",
   "execution_count": 40,
   "metadata": {
    "scrolled": true
   },
   "outputs": [
    {
     "name": "stdout",
     "output_type": "stream",
     "text": [
      "3.0\n",
      "0\n"
     ]
    },
    {
     "data": {
      "image/png": "[encoded data removed]",
      "text/plain": [
       "<Figure size 432x288 with 3 Axes>"
      ]
     },
     "metadata": {},
     "output_type": "display_data"
    }
   ],
   "source": [
    "num = 1360\n",
    "eps = 0.5\n",
    "use_hill = True\n",
    "N = 2\n",
    "theta = 0.8\n",
    "x = X0_test[y_test == 3][num].copy()\n",
    "pred = y_test[y_test == 3][num]\n",
    "# pred = score(x,use_hill,N,theta,mlp_orig)\n",
    "print(pred)\n",
    "num_iter = 0\n",
    "# while pred == y_test[num]:\n",
    "while pred < 0.98:\n",
    "    print(score(x,use_hill,N,theta,mlp_orig))\n",
    "    grad = grad_score(x,use_hill,N,theta,mlp_orig)\n",
    "    if y_test[num] == 3:\n",
    "        x += eps*grad[:]\n",
    "    elif y_test[num] == 7:\n",
    "        x -= eps*grad[:]\n",
    "#     pred = mlp_orig.predict(x.reshape(1,-1))\n",
    "    pred = score(x,use_hill,N,theta,mlp_orig)\n",
    "    num_iter += 1\n",
    "print(num_iter)\n",
    "fig,ax = plt.subplots(1,3)\n",
    "ax[0].imshow(X0_test[y_test == 3][num].reshape(28,28),cmap=plt.cm.gray)\n",
    "ax[1].imshow(grad.reshape(28,28),cmap=plt.cm.gray)\n",
    "ax[2].imshow(hill(x.reshape(28,28),N,theta),cmap=plt.cm.gray)\n",
    "[a.axis('off') for a in ax]\n",
    "plt.show()"
   ]
  },
  {
   "cell_type": "code",
   "execution_count": 588,
   "metadata": {
    "scrolled": true
   },
   "outputs": [
    {
     "name": "stdout",
     "output_type": "stream",
     "text": [
      "2 [4.]\n"
     ]
    },
    {
     "data": {
      "image/png": "[encoded data removed]",
      "text/plain": [
       "<matplotlib.figure.Figure at 0x13e0df160>"
      ]
     },
     "metadata": {},
     "output_type": "display_data"
    },
    {
     "name": "stdout",
     "output_type": "stream",
     "text": [
      "6 [4.]\n"
     ]
    },
    {
     "data": {
      "image/png": "[encoded data removed]",
      "text/plain": [
       "<matplotlib.figure.Figure at 0x13e3f95c0>"
      ]
     },
     "metadata": {},
     "output_type": "display_data"
    },
    {
     "name": "stdout",
     "output_type": "stream",
     "text": [
      "10 [4.]\n"
     ]
    },
    {
     "data": {
      "image/png": "[encoded data removed]",
      "text/plain": [
       "<matplotlib.figure.Figure at 0x13e493f28>"
      ]
     },
     "metadata": {},
     "output_type": "display_data"
    },
    {
     "name": "stdout",
     "output_type": "stream",
     "text": [
      "14 [4.]\n"
     ]
    },
    {
     "data": {
      "image/png": "[encoded data removed]",
      "text/plain": [
       "<matplotlib.figure.Figure at 0x13ef78be0>"
      ]
     },
     "metadata": {},
     "output_type": "display_data"
    },
    {
     "name": "stdout",
     "output_type": "stream",
     "text": [
      "18 [4.]\n"
     ]
    },
    {
     "data": {
      "image/png": "[encoded data removed]",
      "text/plain": [
       "<matplotlib.figure.Figure at 0x13de2ff60>"
      ]
     },
     "metadata": {},
     "output_type": "display_data"
    },
    {
     "name": "stdout",
     "output_type": "stream",
     "text": [
      "22 [4.]\n"
     ]
    },
    {
     "data": {
      "image/png": "[encoded data removed]",
      "text/plain": [
       "<matplotlib.figure.Figure at 0x13e97cfd0>"
      ]
     },
     "metadata": {},
     "output_type": "display_data"
    },
    {
     "name": "stdout",
     "output_type": "stream",
     "text": [
      "26 [4.]\n"
     ]
    },
    {
     "data": {
      "image/png": "[encoded data removed]",
      "text/plain": [
       "<matplotlib.figure.Figure at 0x14b1ba780>"
      ]
     },
     "metadata": {},
     "output_type": "display_data"
    }
   ],
   "source": [
    "for i in np.arange(2,30,4):\n",
    "    y = hill(x.reshape(1,-1),i,theta)\n",
    "    print(i, mlp_orig.predict(y))\n",
    "    fig,ax = plt.subplots(1,2)\n",
    "    ax[0].imshow(hill(X0_test[num].reshape(28,28),i,theta),cmap=plt.cm.gray)\n",
    "    ax[1].imshow(y.reshape(28,28),cmap=plt.cm.gray)\n",
    "    [a.axis('off') for a in ax]\n",
    "    plt.show()"
   ]
  },
  {
   "cell_type": "code",
   "execution_count": 109,
   "metadata": {
    "scrolled": true
   },
   "outputs": [
    {
     "name": "stdout",
     "output_type": "stream",
     "text": [
      "[760, 406, 638, 1045, 322]\n",
      "[0.99771786]\n",
      "[0.99979101]\n",
      "[0.97157543]\n",
      "[0.9999972]\n",
      "[0.99999471]\n"
     ]
    },
    {
     "data": {
      "image/png": "[encoded data removed]",
      "text/plain": [
       "<Figure size 432x288 with 1 Axes>"
      ]
     },
     "metadata": {},
     "output_type": "display_data"
    },
    {
     "data": {
      "image/png": "[encoded data removed]",
      "text/plain": [
       "<Figure size 432x288 with 1 Axes>"
      ]
     },
     "metadata": {},
     "output_type": "display_data"
    },
    {
     "data": {
      "image/png": "[encoded data removed]",
      "text/plain": [
       "<Figure size 432x288 with 1 Axes>"
      ]
     },
     "metadata": {},
     "output_type": "display_data"
    },
    {
     "data": {
      "image/png": "[encoded data removed]",
      "text/plain": [
       "<Figure size 432x288 with 1 Axes>"
      ]
     },
     "metadata": {},
     "output_type": "display_data"
    },
    {
     "data": {
      "image/png": "[encoded data removed]",
      "text/plain": [
       "<Figure size 432x288 with 1 Axes>"
      ]
     },
     "metadata": {},
     "output_type": "display_data"
    }
   ],
   "source": [
    "sample = [int(len(X0_test[y_test == 7])*random.random()) for _ in range(5)]\n",
    "print(sample)\n",
    "score7 = [print(score(X0_test[y_test == 7][i],False,0,0,mlp_orig)) for i in sample]\n",
    "for i in sample:\n",
    "    x = X0_test[y_test == 7][i]\n",
    "    plt.imshow(x.reshape(28,28),cmap=plt.cm.gray)\n",
    "    plt.axis('off')\n",
    "    plt.show()"
   ]
  },
  {
   "cell_type": "code",
   "execution_count": 141,
   "metadata": {},
   "outputs": [
    {
     "name": "stdout",
     "output_type": "stream",
     "text": [
      "array([[1., 1., 1., 1., 1.],\n",
      "       [1., 1., 1., 1., 1.],\n",
      "       [1., 1., 1., 1., 1.],\n",
      "       [1., 1., 1., 1., 1.],\n",
      "       [1., 1., 1., 1., 1.],\n",
      "       [1., 1., 1., 1., 1.]])\n",
      "array([[1., 1., 1., 1., 1.],\n",
      "       [1., 1., 1., 1., 1.],\n",
      "       [1., 1., 1., 1., 1.],\n",
      "       [1., 1., 1., 1., 1.],\n",
      "       [1., 1., 1., 1., 1.],\n",
      "       [1., 1., 1., 1., 1.]])\n"
     ]
    }
   ],
   "source": [
    "N = 2; theta = 0.8\n",
    "sample = [1359, 189, 1314, 366, 1129, 1045]\n",
    "epsilon = np.arange(0.2,1.2,0.2)\n",
    "num_iter_table = [np.zeros((len(sample),len(epsilon)))]*2\n",
    "\n",
    "for i,x in enumerate(X0_test[y_test==7][sample]):\n",
    "    for j,eps in enumerate(epsilon):\n",
    "        num_iter_table[0][i,j] = iter_grad(x,7,False,N,theta,mlp_orig,eps)\n",
    "        num_iter_table[1][i,j] = iter_grad(x,7,True,N,theta,mlp_orig,eps)\n",
    "pprint(num_iter_table[0])\n",
    "pprint(num_iter_table[1])"
   ]
  },
  {
   "cell_type": "code",
   "execution_count": null,
   "metadata": {},
   "outputs": [],
   "source": []
  }
 ],
 "metadata": {
  "kernelspec": {
   "display_name": "Python 3",
   "language": "python",
   "name": "python3"
  },
  "language_info": {
   "codemirror_mode": {
    "name": "ipython",
    "version": 3
   },
   "file_extension": ".py",
   "mimetype": "text/x-python",
   "name": "python",
   "nbconvert_exporter": "python",
   "pygments_lexer": "ipython3",
   "version": "3.6.5"
  }
 },
 "nbformat": 4,
 "nbformat_minor": 2
}
